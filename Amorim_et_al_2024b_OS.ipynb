{
 "cells": [
  {
   "cell_type": "code",
   "execution_count": 18,
   "id": "342a9f6d-96ee-4431-9dea-b43b4e3ca82b",
   "metadata": {},
   "outputs": [
    {
     "data": {
      "text/plain": [
       "<dask.config.set at 0x7f515f81c1f0>"
      ]
     },
     "execution_count": 18,
     "metadata": {},
     "output_type": "execute_result"
    }
   ],
   "source": [
    "import matplotlib.pyplot as plt\n",
    "import matplotlib.colors as mclr\n",
    "import matplotlib.dates as dates\n",
    "import pandas as pd\n",
    "import numpy as np\n",
    "import scipy as sp\n",
    "from scipy import stats\n",
    "\n",
    "import os,sys\n",
    "import glob\n",
    "from matplotlib.dates import date2num\n",
    "import seaborn as sns\n",
    "import datetime as datetime\n",
    "from copy import copy\n",
    "\n",
    "from xmca.xarray import xMCA  # use with xr.DataArray\n",
    "import dask\n",
    "import toolz\n",
    "import xarray as xr\n",
    "%matplotlib qt5\n",
    "from pandas.plotting import register_matplotlib_converters\n",
    "register_matplotlib_converters()\n",
    "from sklearn.metrics import r2_score, mean_squared_error\n",
    "from sklearn.metrics import explained_variance_score,mean_absolute_error\n",
    "from sklearn.metrics import mean_squared_log_error,mean_squared_error,median_absolute_error\n",
    "\n",
    "import cartopy.crs as ccrs\n",
    "import cartopy.feature as cfeature\n",
    "from cartopy.mpl.ticker import LongitudeFormatter, LatitudeFormatter\n",
    "\n",
    "import pymannkendall as mk\n",
    "\n",
    "dask.config.set({\"array.slicing.split_large_chunks\": True})"
   ]
  },
  {
   "cell_type": "code",
   "execution_count": 118,
   "id": "4d315c5c-a831-4af0-aaa2-8407d027ef3d",
   "metadata": {},
   "outputs": [],
   "source": [
    "plt.rcParams.update({'font.size': 18,'font.family':'serif','font.serif':'Arial'})\n",
    "months=['J','F','M','A','M','J','J','A','S','O','N','D']"
   ]
  },
  {
   "cell_type": "markdown",
   "id": "905f49a0-1053-47d7-ad0e-fb318d6b5eb5",
   "metadata": {},
   "source": [
    "# Spectral analysis function"
   ]
  },
  {
   "cell_type": "code",
   "execution_count": 111,
   "id": "68b3ce85-e8a1-43a9-9d58-6838a305ce4e",
   "metadata": {},
   "outputs": [],
   "source": [
    "def specs(xxx,ppp,dt,win,alpha,smo,ci):\n",
    "    \n",
    "    \"\"\"\n",
    "% |  0) CALLS                                                                 \n",
    "% | \n",
    "% | [hepya,fff,conflim] = specs(xxx,ppp,dt,win,alpha,smo,ci);\n",
    "% |                                                                  \n",
    "% | 1) INPUT / OUTPUT\n",
    "% |    xxx = time series for spectral analysis\n",
    "% |    ppp = number of points for analysis\n",
    "% |    dt  = sampling interval\n",
    "% |    win = time window type (0, 1 or 2)\n",
    "% |    alpha = (0 >= alpha <= 1) Shape parameter of the Tukey window (win = 1), representing the fraction of \n",
    "% |            the window inside the cosine tapered region. \n",
    "% |            If zero,the Tukey window is equivalent to a rectangular window. \n",
    "% |            If one, the Tukey window is equivalent to a Hanning window.\n",
    "% |    smo = control spectra smoothing\n",
    "% |    ci  = confidence level\n",
    "% | \n",
    "% |    hepya  = spectrum of time series for specs\n",
    "% |    fff    = frequencies\n",
    "% |    conflim = confidence limits for spectrum\n",
    "% |\n",
    "% | 2) TIME WINDOW\n",
    "% |    Applyed in time domain to reduce syde lobs leakage. \n",
    "% |    Options are: win=0 (no window); \n",
    "% |                 win=1 (Hanning window) and \n",
    "% |                 win=2 (cossine tappered window) \n",
    "% |    For win=2, size of window can be controlled editing value of wid or alpha.\n",
    "% |    Default is 10% (wid=0.1)\n",
    "% |\n",
    "% | 3) SPECTRUM\n",
    "% |    Computed using FFT of whole series. Can have number of points\n",
    "% |    for analysis (ppp) as the same of time series, or increase to\n",
    "% |    next power of 2 (fill with zeros) or any value.\n",
    "% |    Computed using numpy.fft.fft, similar to MATLAB fft.  \n",
    "% |    Spectrum unit is: \n",
    "% |       [variable unit square divided by cicles per time unit]\n",
    "% |    Final variable is hepya, which length is (ppp/2+1)\n",
    "% |\n",
    "% | 4) TIME WINDOW CORRECTION\n",
    "% |    Applied to spectrum and cross spectrum to correct for energy\n",
    "% |    loss due to time window: 1.14 for cossine tappered and 2.6 for Hanning\n",
    "% |\n",
    "% | 5) SMOOTHING\n",
    "% |    Running average smoothing of spectra to reduce variance and\n",
    "% |    increase statistical confidence, or reduce confidence limits.\n",
    "% |    It uses a Hamm window - a box window would introduce spurious \n",
    "% |    picks and phase problems.\n",
    "% |    Get to compromising between strong smothing (more confidence\n",
    "% |    but stronger bias) and weak smoothing (less confidence but\n",
    "% |    less bias) - See Ref.b\n",
    "% |    Two options are avaiable:\n",
    "% |    a) Fixed window size (smo>1)\n",
    "% |    b) Variable window size (smo=999). \n",
    "% |       The idea is to have smaller size for low frequencies,\n",
    "% |    where have less points, and progressively increase size to \n",
    "% |    higher frequencies. Will have weaker smoothing for lower\n",
    "% |    frequencies, with less statistical confidence, but will not\n",
    "% |    lose information.\n",
    "% |    If smo=999, than the width (smo=2*smo1+1) is increased by \n",
    "% |    (inc) at every interval (int). Default values are\n",
    "% |    smo1=4; int=10; inc=2;                                     \n",
    "% |    To control these values edit this line inside the program.\n",
    "% |\n",
    "% | 6) RESOLUTION\n",
    "% |    Raw spectrum has resolution of B=1/T. Smoothed spectrum has\n",
    "% |    resolution B=smo/T.\n",
    "% |    Note that although B increases, program compute spectrum for\n",
    "% |    all the frequencies of raw spectrum.\n",
    "% | \n",
    "% | 7) DEGREES OF FREEDOM\n",
    "% |    Used in computation of confident limits. Most simple\n",
    "% |    definition is: \n",
    "% |       df=2*smo\n",
    "% |    Here I use the one used by Rainer Zanttopp, where:\n",
    "% |       df = 2 * smo * tap * wffac\n",
    "% |    with (wffac=0.63) a correction for the effective size of the\n",
    "% |    Hamming window and (tap=1-2*wid) a correction for the time \n",
    "% |    windowing with cossine tappered for first and last 100*wid%\n",
    "% |    of the data. For Hanning window I used (tap=1) as I just do\n",
    "% |    not know which correction to apply.\n",
    "% |    See references a, e h, i\n",
    "% | \n",
    "% | \n",
    "% | 9) CONFIDENCE LIMITS\n",
    "% |    For spectrum, given by (ref. d , pg 286):\n",
    "% |         {df/[Chi(df,a/2)]} <= s2 <= {df/[Chi(df,1-a/2)]}\n",
    "% |    where Chi is Chi square distribution, df is number of degrees\n",
    "% |    freedom and (a=1-p/100) for p=confidence level (e.g., 95%, 90%).\n",
    "% | \n",
    "% | \n",
    "% | 11)PLOTS\n",
    "% | \n",
    "% |    a) Spectra\n",
    "% |       plot(fff,hepya)\n",
    "% |       semilogx(fff,hepya)\n",
    "% |       loglog(fff,hepya)\n",
    "% |\n",
    "% |    b) Confidence limits\n",
    "% |       semilogx(fff,chi,fff,clo)\n",
    "% |       loglog(fff,med*sc,fff,chi1*sc,fff,clo1*sc)\n",
    "% |           where sc is ordinate of med\n",
    "% | \n",
    "% |    c) confidence interval in loglog\n",
    "% |       sc=0.01;chi1=sc*conflim(:,3);clo1=sc*conflim(:,4);\n",
    "% |       f1=1;loglog(fff,hepya),hold on,line([f1 f1],[clo1 chi1])\n",
    "% |       line([f1-0.001 f1+0.001],[chi1 chi1])\n",
    "% |       line([f1-0.001 f1+0.001],[clo1 clo1])  % try values added to f1\n",
    "% |       obs: f1 draws lines in x (abscissas) e sc draws lines in y (ordinates)\n",
    "% |\n",
    "% | 12)REFERENCES\n",
    "% | \n",
    "% |    a) My notes\n",
    "% |    \n",
    "% |    b) Mello Filho, E. (1982). Investigacao sobre a analise da\n",
    "% |       agitacao maritima, Theses, COPPE-UFRJ.\n",
    "% |    \n",
    "% |    c) Processamento e analise de sinais. Relatorio, PETROBRAS.\n",
    "% |    \n",
    "% |    d) Bendat, J.S and A.G. Piersol (1986). Random data - analysis\n",
    "% |       and measurement procedures. John Willey & Sons.\n",
    "% |    \n",
    "% |    e) Jenkins, G.M and D.G. Watts (1968). Spectral analysis and\n",
    "% |       its applications, Holden-day, S. Francisco.\n",
    "% |    \n",
    "% |    f) Julian, P.R. (1975). Comments on the determination of \n",
    "% |       significance level of the coherence statistics, Journal\n",
    "% |       of the Atmospheric Sciences, 32, 836-837.\n",
    "% |    \n",
    "% |    g) Thompson, R.O.R.Y (1979) Coherence significance levels.\n",
    "% |       Journal of the Atmospheric Sciences, october, 2020-2021.\n",
    "% |    \n",
    "% |    h) Cooley, Lewis and Welch (1967) The FFT algorithm and its\n",
    "% |       applications, DOC RC1743, IBM Research, (pg 139).\n",
    "% |    \n",
    "% |    i) NCAR routine specft.for\n",
    "% |       Emery and Thomson, Data Analysis in Oceanography, \n",
    "% |       chapter 5 (5.6.4.2)\n",
    "% |    \n",
    "    \"\"\"\n",
    "    \n",
    "#    del(hwin,hxxx,hyyy,hepy,hepya,fff,chi,clo)\n",
    "    \n",
    "    # ********************  CREATE SPECTRAL WINDOW  ********************\n",
    "\n",
    "    # -------------- length of window\n",
    "    \n",
    "    length = len(xxx)\n",
    "    if length > ppp:\n",
    "        winsize = ppp\n",
    "    elif length <= ppp:\n",
    "        winsize = length\n",
    "        \n",
    "    # --------------- no window\n",
    "    if win == 0:\n",
    "        hwin= np.ones(winsize)\n",
    "\n",
    "    # --------------- Hanning window\n",
    "    elif win == 1:\n",
    "        hwin = np.hanning(winsize)\n",
    "\n",
    "    # --------------- cosine-tapered applied to first and last 100*wid% of data\n",
    "#    elif win == 2:\n",
    "#        pi  = np.pi\n",
    "#        wid = 0.1 # default\n",
    "#        ii=np.arange(0,winsize)\n",
    "#        hwin=np.ndarray(winsize)\n",
    "#        \n",
    "#        for jj in ii:\n",
    "#            if jj <= wid*winsize: \n",
    "#                hwin[jj]=0.5 * (1-np.cos(5*pi*jj/winsize)) \n",
    "#        \n",
    "#       \n",
    "#            elif jj >= (winsize-wid*winsize+1):\n",
    "#                hwin[jj] = 0.5 * (1+cos(5*pi*(jj-1)/winsize))\n",
    "#        \n",
    "#            else:\n",
    "#                hwin[jj] = 1\n",
    "#                \n",
    "    elif win==2:\n",
    "        \n",
    "        hwin = sp.signal.windows.tukey(winsize,alpha) # apply tukey (cosine-tappered) window\n",
    "                \n",
    "    # ************ MAKE SURE ALL VECTORS ARE COLUMN VECTORS *************       \n",
    "    # NOT NECESSARY IN NUMPY ARRAYS - IN CASE OF DOT PRODUCTS, PYTHON UNDERSTANDS USING NUMPY.DOT   \n",
    "    # xxx = xxx(:)\n",
    "    # hwin = hwin(:)\n",
    "\n",
    "    # ********************  CALCULATE SPECTRUM USING FFT  ********************\n",
    "\n",
    "    # --------------------  remove average\n",
    "    xxx = xxx - np.mean(xxx)\n",
    " \n",
    "    # --------------------  apply window\n",
    "    hxxx=np.ndarray(winsize)\n",
    "    hxxx = hwin[0:winsize]*xxx[0:winsize];\n",
    "\n",
    "    # -------------------- get number of harmonics\n",
    "    if (ppp%2)==1:         # ppp is odd\n",
    "        nhar = (ppp+1)/2\n",
    "    else:                  # ppp is even\n",
    "        nhar = (ppp/2)+1\n",
    "        \n",
    "    nhar=int(nhar)\n",
    "\n",
    "    # --------------------  calculate spectrum\n",
    "    hyyy = np.fft.fft(hxxx,n=ppp)\n",
    "    hepy = np.real(hyyy*np.conj(hyyy)/len(hyyy) * dt)\n",
    "    hepy = hepy[:nhar]\n",
    "    hepy[1:] = 2*hepy[1:];\n",
    "\n",
    "    \n",
    "    # --------------------  Window correction\n",
    "    if win == 1:                           \n",
    "        hepy[1:] = 2.6*hepy[1:]\n",
    "        \n",
    "    elif win == 2:\n",
    "        hepy[1:] = 1.14*hepy[1:]\n",
    "        \n",
    "\n",
    "    # **************************  SMOOTH SPECTRUM  ***********************\n",
    "\n",
    "    # --------------------  no smoothging\n",
    "\n",
    "    if smo == 1:\n",
    "\n",
    "        hepya = hepy.copy()\n",
    "\n",
    "    # --------------------  variable smoothing weights\n",
    "    elif smo == 999:\n",
    "                \n",
    "        # smo1=2; int=10; inc=1;\n",
    "        smo1=4; intg=10; inc=2\n",
    "\n",
    "        smo1a=smo1; ind=smo1; int1=intg\n",
    "        \n",
    "        hepya=np.ndarray(nhar-smo1)\n",
    "        \n",
    "        ii = smo1\n",
    "        \n",
    "        while ii+1 <= nhar-smo1:\n",
    "            \n",
    "            aux1 = sum(hepy[ii-smo1:ii+smo1+1]*np.hamming(2*smo1+1))\n",
    "            aux2 = sum(np.hamming(2*smo1+1))\n",
    "            hepya[ii-ind] = aux1 / aux2;\n",
    "            flag=0;\n",
    "            \n",
    "            if ii+1 >= int1:\n",
    "                smo1 = smo1 + inc;\n",
    "                int1 = int1 + intg;\n",
    "                flag=1;\n",
    "                                           \n",
    "            ii = ii + 1\n",
    "                     \n",
    "        if flag == 1: \n",
    "            smo1=smo1-inc \n",
    "        \n",
    "        hepya=hepya[:2044]\n",
    "        \n",
    "    # --------------------  constant smoothing weights\n",
    "\n",
    "    else:\n",
    "\n",
    "        smo1 = (smo-1)/2\n",
    "        hepya=np.ndarray(nhar-smo+1)\n",
    "        for ii in range(0,nhar-smo+1):\n",
    "            hepya[ii] = sum(hepy[ii:smo+ii]*np.hamming(smo))/(sum(np.hamming(smo)))\n",
    "\n",
    "# ****************** CALCULATE CONFIDENCE INTERVAL *******************\n",
    "\n",
    "# -------------  get time window factor for degrees of freedom\n",
    "    if win == 0:\n",
    "          wtfac = 1\n",
    "    elif win == 1:\n",
    "          wtfac = 1\n",
    "    elif win == 2:\n",
    "          wtfac = 1 - 2*wid\n",
    "\n",
    "# -----------  width correction factor for Hamming freq. smoothing\n",
    "    wffac = 0.63;\n",
    "\n",
    "    alpha = 1 - ci/100;\n",
    "\n",
    "    if smo == 999:\n",
    "\n",
    "        x1=0 \n",
    "        x2=intg \n",
    "        aux=smo1a\n",
    "    \n",
    "        chi=[]\n",
    "        clo=[]\n",
    "    \n",
    "        while x1 < len(hepya):\n",
    "#   df = 2 * (2*aux+1);\n",
    "            df = round( 2 * (2*aux+1) * wtfac * wffac)\n",
    "            chi_id = df * hepya[x1:x2] / sp.stats.distributions.chi2.ppf(alpha/2,df=df)\n",
    "            chi.extend(chi_id)\n",
    "            clo_id = df * hepya[x1:x2] / sp.stats.distributions.chi2.ppf(1-alpha/2,df=df)\n",
    "            clo.extend(clo_id)\n",
    "            x1=x2 \n",
    "            x2=x2+intg+1 \n",
    "            aux=aux+inc\n",
    "        \n",
    "            if x2 > len(hepya):\n",
    "                x2=len(hepya)\n",
    "    \n",
    "        chi=np.asarray(chi)        \n",
    "        clo=np.asarray(clo)        \n",
    "        chi1 = (chi)/hepya\n",
    "        clo1 = (clo)/hepya\n",
    "\n",
    "    else:\n",
    "\n",
    "#   df = 2 * (2*aux+1);\n",
    "        df = round( 2 * smo * wtfac * wffac )\n",
    "        chi = df * hepya / sp.stats.distributions.chi2.ppf(alpha/2,df=df)\n",
    "        clo = df * hepya / sp.stats.distributions.chi2.ppf(1-alpha/2,df=df)\n",
    "        chi1 = chi/hepya\n",
    "        clo1 = clo/hepya\n",
    "\n",
    "    med = np.ones(len(hepya))\n",
    "    conflim=pd.DataFrame()\n",
    "    conflim['chi']= chi\n",
    "    conflim['clo']= clo\n",
    "    conflim['chi1']= chi1\n",
    "    conflim['clo1']= clo1\n",
    "    conflim['med']= med\n",
    "    \n",
    "    # ***************  CALCULATE FREQUENCY/WAVE NUMBER AXIS **************\n",
    "\n",
    "    fn = 1/(2*dt)\n",
    "    lll=len(hepya)\n",
    "\n",
    "    if smo == 1:\n",
    "        fff = fn * np.arange(0,lll)/(ppp/2)\n",
    "    elif smo == 999:\n",
    "        fff = fn * np.arange(smo1a,lll+smo1a)/(ppp/2)\n",
    "    else:\n",
    "        fff = fn * np.arange(smo1,lll+smo1)/(ppp/2)\n",
    "\n",
    "        \n",
    "#    return winsize\n",
    "    return(hepya,fff,conflim);  "
   ]
  },
  {
   "cell_type": "code",
   "execution_count": null,
   "id": "6407a12f-4451-4d62-85f2-e018bf72fca7",
   "metadata": {},
   "outputs": [],
   "source": []
  },
  {
   "cell_type": "markdown",
   "id": "8f3acfdd-b0d8-4a38-964e-e9c9ab6af1bc",
   "metadata": {},
   "source": [
    "# EVALUATION OBS X SAT"
   ]
  },
  {
   "cell_type": "code",
   "execution_count": 3,
   "id": "ce58f88d-5ca2-43c8-9a6f-4200bb891f86",
   "metadata": {},
   "outputs": [],
   "source": [
    "# evaluation function\n",
    "\n",
    "def regression_results(x_true,y_true, y_pred):\n",
    "\n",
    "    # Regression metrics\n",
    "    explained_variance=explained_variance_score(y_true, y_pred)\n",
    "    mae=mean_absolute_error(y_true, y_pred) \n",
    "    rmse=np.sqrt(mean_squared_error(y_true, y_pred)) \n",
    "    medae=median_absolute_error(y_true, y_pred)\n",
    "    r2=r2_score(y_true, y_pred)    \n",
    "    adjusted_r_squared = 1 - (1-r2)*(len(y_true)-1)/(len(y_true)-len(x_true)-1)\n",
    "    print('adj r_squared', round(adjusted_r_squared,2)) \n",
    "    print('Root Mean Squared Error: ' ,round(rmse,3))\n",
    "    print('R² score: ' ,round(r2,2))\n",
    "    print('Average model error:', round(mae,3),'mg/L')\n",
    "    return round(mae,2),round(rmse,2),round(r2,2),round(adjusted_r_squared,2)"
   ]
  },
  {
   "cell_type": "code",
   "execution_count": 28,
   "id": "cc9e3cca-89ef-4696-9c03-60310ed4cfc6",
   "metadata": {},
   "outputs": [],
   "source": [
    "# HELGOLAND ANOMALIES TIME SERIES\n",
    "\n",
    "hplc_anom=pd.read_csv('/mnt/g/PhD/chapter_1/globcolour_daily/helgoland_insitu_hplc_anomalies.csv')\n",
    "hplc_anom['Date'] = pd.to_datetime(hplc_anom['Date'])\n",
    "sat_anom=pd.read_csv('/mnt/g/PhD/chapter_1/globcolour_daily/helgoland_globcolour_sat_anomalies.csv')\n",
    "sat_anom['Date'] = pd.to_datetime(sat_anom['Date'])"
   ]
  },
  {
   "cell_type": "code",
   "execution_count": 30,
   "id": "fd345772-ab53-46c6-a78a-e57ea4e6ff3d",
   "metadata": {},
   "outputs": [
    {
     "name": "stdout",
     "output_type": "stream",
     "text": [
      "res1= Modified_Mann_Kendall_Test_Yue_Wang_Approach(trend='decreasing', h=True, p=0.0004332390026708932, z=-3.518961849855443, Tau=-0.12889268735644463, s=-2413.0, var_s=469813.4976907633, slope=-0.002237294456859644, intercept=0.06846867836173862)\n",
      "res2= Modified_Mann_Kendall_Test_Yue_Wang_Approach(trend='decreasing', h=True, p=0.0012714031412237592, z=-3.222357672308449, Tau=-0.1128679023556434, s=-2113.0, var_s=429576.32602984953, slope=-0.001953047722278432, intercept=0.0334440044636482)\n"
     ]
    }
   ],
   "source": [
    "res1 = mk.yue_wang_modification_test(hplc_anom.anomaly)\n",
    "print('res1=',res1)\n",
    "\n",
    "res2 = mk.yue_wang_modification_test(sat_anom.anomaly)\n",
    "print('res2=',res2)"
   ]
  },
  {
   "cell_type": "code",
   "execution_count": 38,
   "id": "c82cffb7-a169-41c1-8d66-176655c82b6e",
   "metadata": {},
   "outputs": [
    {
     "data": {
      "text/plain": [
       "Text(2004-06-01, 8, 'Trend remote sensing = -0.024')"
      ]
     },
     "execution_count": 38,
     "metadata": {},
     "output_type": "execute_result"
    }
   ],
   "source": [
    "plt.figure(figsize=(14,6),constrained_layout=True)\n",
    "\n",
    "h1,=plt.plot(hplc_anom.Date,hplc_anom.anomaly,'k')\n",
    "plt.axhline(0, color='k')\n",
    "# axs[0].set_ylabel('Chl-a anomalies (mg/m³)',y=0.1)\n",
    "plt.ylabel(r'Chl-a anomalies (mg m$^{-3}$)')\n",
    "plt.xlim([hplc_anom.Date.head(1),hplc_anom.Date.tail(1)])\n",
    "#plt.gca().xaxis.set_major_formatter(dates.DateFormatter('%Y-%m-%d'))\n",
    "plt.gca().xaxis.set_major_formatter(dates.DateFormatter('%Y-%m-%d'))\n",
    "plt.grid(ls='--')\n",
    "#axs[0].text('2018-01-01', 28, 'in situ Chl-a anomalies')\n",
    "# axs[0].legend([h1,h2,h3],['positive','negative','In situ'])\n",
    "m, b = np.polyfit((hplc_anom.index),(hplc_anom.anomaly), 1)\n",
    "# axs[0].plot((hplc_anom.Date), (m*(hplc_anom.anomaly)+b), color='black',ls='--',lw='2',label='Linear regression')\n",
    "ry=np.polyval([m,b],np.arange(1,len(hplc_anom.anomaly)+1))\n",
    "res=((ry[-1]-ry[0])/22)\n",
    "plt.text('2004-06-01',9, 'Trend in situ = '+str(np.round(res,3)),weight='bold')\n",
    "plt.text('2003-06-01',11.5, 'a)',weight='bold')\n",
    "h2,=plt.plot(sat_anom.Date,sat_anom.anomaly,'k--')\n",
    "plt.legend([h1,h2],['In situ','Remote sensing'])\n",
    "m, b = np.polyfit((sat_anom.index),(sat_anom.anomaly), 1)\n",
    "# axs[1].plot((sat_anom.Date), (m*(sat_anom.anomaly)+b), color='black',ls='--',lw='2',label='Linear regression')\n",
    "ry=np.polyval([m,b],np.arange(1,len(sat_anom.anomaly)+1))\n",
    "res=((ry[-1]-ry[0])/22)\n",
    "plt.text('2004-06-01',8, 'Trend remote sensing = '+str(np.round(res,3)),weight='bold')"
   ]
  },
  {
   "cell_type": "code",
   "execution_count": 53,
   "id": "ab18858e-0955-4663-b53e-31dc8c0c5787",
   "metadata": {},
   "outputs": [
    {
     "name": "stdout",
     "output_type": "stream",
     "text": [
      "adj r_squared 176.59\n",
      "Root Mean Squared Error:  1.077\n",
      "R² score:  0.09\n",
      "Average model error: 0.695 mg/L\n"
     ]
    },
    {
     "data": {
      "text/plain": [
       "Text(-5, 16, 'b)')"
      ]
     },
     "execution_count": 53,
     "metadata": {},
     "output_type": "execute_result"
    }
   ],
   "source": [
    "plt.figure(figsize=(8,6),constrained_layout=True)\n",
    "mae,rmse,r2,adjusted_r_squared=regression_results(hplc_anom.index,hplc_anom.anomaly,sat_anom.anomaly)\n",
    "plt.plot((hplc_anom.anomaly),(sat_anom.anomaly),'.k',ms=8,label='Chl-a anomalies \\n(mg m$^{-3}$)')\n",
    "plt.ylim([-3,12])\n",
    "plt.xlim([-3,12])\n",
    "plt.ylabel('Remote Sensing')\n",
    "plt.xlabel('In situ')\n",
    "#axs[0].text('2013-10-01', 18, r'R$\\mathregular{^2}$=0.78')\n",
    "#axs[0].text('2013-10-01', 14, r'RMSE=1.113 µg L$\\mathregular{^-}$$\\mathregular{^1}$')\n",
    "#axs[0].text(1, 22, r'a)')\n",
    "plt.grid(ls='--')\n",
    "#obtain m (slope) and b(intercept) of linear regression line\n",
    "#m, b = np.polyfit(np.log(hplc_anom.anomaly),np.log(sat_anom.anomaly), 1)\n",
    "m, b = np.polyfit((hplc_anom.anomaly),(sat_anom.anomaly), 1)\n",
    "#use red as color for regression line\n",
    "plt.plot((hplc_anom.anomaly), (m*(hplc_anom.anomaly)+b), color='black',label='Linear regression')\n",
    "plt.axline((-3, -3), slope=1,color='black',ls='--',label='1:1')\n",
    "plt.text(-2.5, 11, r'y = '+ str(round(m,2))+r'x + '+str(round(b,2)))\n",
    "plt.text(-2.5, 10, r'r = '+ str(round(stats.pearsonr((hplc_anom.anomaly),(sat_anom.anomaly))[0],2)))\n",
    "plt.text(-2.5, 9, r'RMSE = '+ str(round(rmse,2))+' mg m$^{-3}$')\n",
    "# plt.legend(bbox_to_anchor=(0, 1, 1, 0), loc=\"lower left\",ncol=2)\n",
    "plt.legend(bbox_to_anchor=(-0.04, 1, 0, 0), loc=\"lower left\",ncol=2)\n",
    "plt.gca().set_aspect('equal', 'box')\n",
    "plt.xticks(np.arange(-3, 15,2));\n",
    "plt.text(-5,16, 'b)',weight='bold')"
   ]
  },
  {
   "cell_type": "code",
   "execution_count": 31,
   "id": "5d296d09-d966-45ba-add4-d25c601399bd",
   "metadata": {},
   "outputs": [],
   "source": [
    "# BOXPLOT MANUSCRIPT\n",
    "\n",
    "bp3=hplc_anom[['Date','anomaly']].copy()\n",
    "bp3['source']='In situ'\n",
    "bp3.columns=['Date','anomaly','source']\n",
    "\n",
    "bp4=sat_anom[['Date','anomaly']].copy()\n",
    "bp4['source']='Remote sensing'\n",
    "bp4.columns=['Date','anomaly','source']\n",
    "\n",
    "\n",
    "bp5=pd.concat([bp3,bp4])"
   ]
  },
  {
   "cell_type": "code",
   "execution_count": 32,
   "id": "395e8f67-1e4f-4474-b214-7081a4debbf7",
   "metadata": {},
   "outputs": [],
   "source": [
    "bp_count=hplc_anom.Chl_a_Hplc.groupby(hplc_anom.Date.dt.month).agg(\n",
    "    [\"count\"]).rename_axis(\n",
    "    ['month']).copy()"
   ]
  },
  {
   "cell_type": "code",
   "execution_count": 33,
   "id": "eb1c9272-bd6b-4a2b-bdf4-2647d6e405df",
   "metadata": {},
   "outputs": [],
   "source": [
    "months_bp=['J','F','M','A','M','J','J','A','S','O','N','D']"
   ]
  },
  {
   "cell_type": "code",
   "execution_count": 34,
   "id": "dac31e80-e24e-447e-9d36-fbd98d1947a0",
   "metadata": {},
   "outputs": [
    {
     "data": {
      "text/plain": [
       "Text(-1, 11, 'a)')"
      ]
     },
     "execution_count": 34,
     "metadata": {},
     "output_type": "execute_result"
    }
   ],
   "source": [
    "# BOXPLOT\n",
    "\n",
    "plt.figure(figsize=(12,6),constrained_layout=True)\n",
    "ax = sns.boxplot(x=bp5.Date.dt.month, y=\"anomaly\",hue=\"source\", data=bp5,\n",
    "                 showmeans=True, palette='colorblind',#showfliers = False,\n",
    "                 meanprops={'marker': 'o','markeredgecolor': 'black','markerfacecolor':'black','markersize':'5'},\n",
    "#                flierprops={'marker': 'P','markeredgecolor': 'black','markerfacecolor':'black','markersize':'5'}\n",
    "                )  #\n",
    "ax.legend_.set_title(None)\n",
    "ax.legend(loc='upper left')\n",
    "ax.set_ylabel(r'Chl-a anomalies (mg m$^{-3}$)')\n",
    "ax.set_xticks(np.unique(bp5.Date.dt.month.values)-1,months_bp)\n",
    "\n",
    "#RUN PLOT   \n",
    "for item in ax.get_xticklabels():\n",
    "    item.set_rotation(90)   \n",
    "plt.xlabel('Month')\n",
    "plt.ylim([-4,11])\n",
    "plt.grid(ls='--')    \n",
    "# nobs = hplc_month.values\n",
    "nobs = bp_count['count'].values\n",
    "nobs = [str(x) for x in nobs.tolist()]\n",
    "nobs = [ii for ii in nobs]\n",
    "\n",
    "\n",
    " \n",
    "# Add it to the plot\n",
    "pos = range(len(nobs))\n",
    "pos=[-5.5]*len(nobs)\n",
    "\n",
    "gg=list(range(len(nobs)))\n",
    "for tick in gg:\n",
    "    ax.text(tick,\n",
    "            pos[tick]+2,\n",
    "            'N='+nobs[tick],\n",
    "            horizontalalignment='center',\n",
    "            size='14',\n",
    "            color='k',\n",
    "            weight='semibold')\n",
    "plt.text(-1,11,'a)',weight='bold')"
   ]
  },
  {
   "cell_type": "code",
   "execution_count": 35,
   "id": "b2330536-dc83-4f6a-bdf9-f3ca0dd83688",
   "metadata": {},
   "outputs": [
    {
     "data": {
      "text/plain": [
       "Text(-3, 110, 'b)')"
      ]
     },
     "execution_count": 35,
     "metadata": {},
     "output_type": "execute_result"
    }
   ],
   "source": [
    "# Distribution\n",
    "\n",
    "plt.figure(figsize=(7,6),constrained_layout=True)\n",
    "aa1=sns.histplot(data=np.clip(hplc_anom.anomaly, -2, 10+1),binwidth=1,color=[(0.00392156862745098, 0.45098039215686275, 0.6980392156862745)],\n",
    "                 label='In situ') \n",
    "plt.xticks(np.arange(-3, 10+1))\n",
    "aa1.set_xticklabels(np.arange(-3, 10).tolist()+[f'{10}+'])\n",
    "\n",
    "aa2=sns.histplot(data=np.clip(sat_anom.anomaly, -2, 10+1),binwidth=1,color=[(0.8705882352941177, 0.5607843137254902, 0.0196078431372549)],\n",
    "                 alpha=0.5,label='Remote sensing') \n",
    "plt.xticks(np.arange(-3, 10+1))\n",
    "aa2.set_xticklabels(np.arange(-3, 10).tolist()+[f'{10}+'])\n",
    "plt.legend(loc='upper right')\n",
    "plt.xlabel('Chl-a anomalies (mg m$^{-3}$)')\n",
    "plt.grid(ls='--')\n",
    "plt.xlim([-2,11])\n",
    "plt.text(-3,110,'b)',weight='bold')"
   ]
  },
  {
   "cell_type": "code",
   "execution_count": null,
   "id": "8b31eef5-2c5d-4310-95cc-506f2437c588",
   "metadata": {},
   "outputs": [],
   "source": []
  },
  {
   "cell_type": "markdown",
   "id": "9cd3d8d3-02a0-4e05-b5eb-567f2e5c8f87",
   "metadata": {},
   "source": [
    "# DATASETS"
   ]
  },
  {
   "cell_type": "code",
   "execution_count": 20,
   "id": "46d2428f-e262-419d-9cd1-bc5d6f1d512c",
   "metadata": {},
   "outputs": [],
   "source": [
    "ds_bat= xr.open_dataarray('/mnt/g/PhD/chapter_1/globcolour_daily/ds_bat_regrid.nc')\n",
    "ds_bat_all= xr.open_dataarray('/mnt/g/PhD/chapter_1/data/ds_bat_regrid_mld_v2.nc')\n",
    "xx,yy = np.meshgrid(ds_bat.lon, ds_bat.lat)"
   ]
  },
  {
   "cell_type": "code",
   "execution_count": 21,
   "id": "39d93321-1615-4dd6-9f7d-dfed01219525",
   "metadata": {},
   "outputs": [],
   "source": [
    "# CHL-A HIGHER RESOLUTION\n",
    "\n",
    "ds_month = xr.open_dataarray('/mnt/g/PhD/chapter_1/globcolour_daily/ds_month.nc')"
   ]
  },
  {
   "cell_type": "code",
   "execution_count": 22,
   "id": "dad37df5-3c4c-4ebb-bec3-abc5bca07b56",
   "metadata": {},
   "outputs": [],
   "source": [
    "# CHL-A COMMON RESOLUTION\n",
    "\n",
    "ds_chl=xr.open_dataarray('/mnt/g/PhD/chapter_1/data/ds_chl_regrid_v2.nc')"
   ]
  },
  {
   "cell_type": "code",
   "execution_count": 23,
   "id": "9ffb17eb-3e56-4d06-ae65-774b189cfdad",
   "metadata": {},
   "outputs": [],
   "source": [
    "ds_chl=ds_chl.where(ds_bat_all<-5)"
   ]
  },
  {
   "cell_type": "code",
   "execution_count": 24,
   "id": "edc71656-41f3-4e4b-9757-8ff3f2a9af35",
   "metadata": {},
   "outputs": [],
   "source": [
    "ds_chl=ds_chl.sel(lat=slice(52.95,56.05))"
   ]
  },
  {
   "cell_type": "code",
   "execution_count": 25,
   "id": "2f7611ea-24bd-4505-af6f-e126dd500848",
   "metadata": {},
   "outputs": [],
   "source": [
    "ds_chl=ds_chl.interpolate_na(dim=\"time\", method=\"linear\",fill_value=\"extrapolate\")"
   ]
  },
  {
   "cell_type": "code",
   "execution_count": null,
   "id": "0d05ca57-24cd-495f-b92d-6e79be18a68a",
   "metadata": {},
   "outputs": [],
   "source": []
  },
  {
   "cell_type": "code",
   "execution_count": 26,
   "id": "a569b193-543f-4ec9-89e7-a5d3b7a58388",
   "metadata": {
    "tags": []
   },
   "outputs": [],
   "source": [
    "# MLD DATASET\n",
    "\n",
    "ds_mld = xr.open_dataarray('/mnt/g/PhD/chapter_1/data/ds_mld_month_v2.nc')"
   ]
  },
  {
   "cell_type": "code",
   "execution_count": 27,
   "id": "6e5246b5-3c0d-4208-aaf0-377d8892997f",
   "metadata": {
    "tags": []
   },
   "outputs": [],
   "source": [
    "ds_mld['time']=ds_mld.time.dt.date\n",
    "ds_mld['time']=pd.to_datetime(ds_mld['time'])"
   ]
  },
  {
   "cell_type": "code",
   "execution_count": 28,
   "id": "546352d3-645c-449a-aa7c-2101aa452108",
   "metadata": {},
   "outputs": [],
   "source": [
    "ds_mld=ds_mld.where(ds_bat_all<-5)"
   ]
  },
  {
   "cell_type": "code",
   "execution_count": 29,
   "id": "b79bf483-34f2-47b8-a612-957b47df2d73",
   "metadata": {},
   "outputs": [],
   "source": [
    "ds_mld=ds_mld.sel(lat=slice(52.95,56.05))"
   ]
  },
  {
   "cell_type": "code",
   "execution_count": null,
   "id": "d0be398c-5682-4baf-81f6-eb422234e2bf",
   "metadata": {
    "tags": []
   },
   "outputs": [],
   "source": []
  },
  {
   "cell_type": "code",
   "execution_count": 30,
   "id": "71b0c26f-b0da-4d33-b98b-7054299ab18c",
   "metadata": {
    "tags": []
   },
   "outputs": [],
   "source": [
    "# SST DATASET\n",
    "\n",
    "ds_sst = xr.open_dataarray('/mnt/g/PhD/chapter_1/data/ds_sst_regrid_v2.nc')"
   ]
  },
  {
   "cell_type": "code",
   "execution_count": 32,
   "id": "de1f1b3f-a23a-4c06-8af5-520a4f46a3c7",
   "metadata": {
    "tags": []
   },
   "outputs": [],
   "source": [
    "ds_sst=ds_sst.where(ds_bat_all<-5)"
   ]
  },
  {
   "cell_type": "code",
   "execution_count": 33,
   "id": "c2d5d01f-fdf3-4770-8803-594c1fc5eda5",
   "metadata": {},
   "outputs": [],
   "source": [
    "ds_sst=ds_sst.sel(lat=slice(52.95,56.05))"
   ]
  },
  {
   "cell_type": "code",
   "execution_count": null,
   "id": "8f2ddfeb-a788-4df9-9723-adf9946b1512",
   "metadata": {},
   "outputs": [],
   "source": []
  },
  {
   "cell_type": "code",
   "execution_count": null,
   "id": "871c3a08-1995-4945-b61f-c99ee18eeac0",
   "metadata": {},
   "outputs": [],
   "source": [
    "# BATHYMETRY"
   ]
  },
  {
   "cell_type": "code",
   "execution_count": 34,
   "id": "31b7ac68-c1a2-4f3a-90ea-33fd174aa772",
   "metadata": {},
   "outputs": [],
   "source": [
    "ds_bat_all=ds_bat_all.sel(lat=slice(52.95,56.05))"
   ]
  },
  {
   "cell_type": "code",
   "execution_count": null,
   "id": "0cd7d8ba-5a05-47ec-86d3-cf0b2ee625ca",
   "metadata": {},
   "outputs": [],
   "source": [
    "# COAST AND OCEAN MASK"
   ]
  },
  {
   "cell_type": "code",
   "execution_count": 35,
   "id": "77a3b36c-578b-4d3f-962e-15baaaaac3ca",
   "metadata": {},
   "outputs": [],
   "source": [
    "ds_bat_coast=ds_bat_all.where((ds_bat_all>=-30) & (ds_bat_all<=-5)).copy()\n",
    "ds_bat_coast_1=ds_bat.where((ds_bat>=-30) & (ds_bat<=-5)).copy()"
   ]
  },
  {
   "cell_type": "code",
   "execution_count": 36,
   "id": "73cbf870-437e-4f15-b620-95a98341795c",
   "metadata": {},
   "outputs": [],
   "source": [
    "land_flag = xr.where((((ds_bat_coast.lat>=53.7) & (ds_bat_coast.lon<=5)) ), True, False)\n",
    "ds_bat_coast=ds_bat_coast.where(land_flag==False)\n",
    "ds_bat_coast=ds_bat_coast.where(ds_bat_all.lon>=3.12)\n",
    "\n",
    "land_flag_1 = xr.where((((ds_bat_coast_1.lat>=53.7) & (ds_bat_coast_1.lon<=5)) ), True, False)\n",
    "ds_bat_coast_1=ds_bat_coast_1.where(land_flag_1==False)\n",
    "ds_bat_coast_1=ds_bat_coast_1.where(ds_bat.lon>=3.12)"
   ]
  },
  {
   "cell_type": "code",
   "execution_count": null,
   "id": "7f01a60b-a495-42ff-b3a1-0f04076ffc5d",
   "metadata": {},
   "outputs": [],
   "source": []
  },
  {
   "cell_type": "code",
   "execution_count": 37,
   "id": "11dd4455-d9c5-480d-8df5-a5908f9841bb",
   "metadata": {},
   "outputs": [],
   "source": [
    "ds_bat_ocean=ds_bat_all.where(ds_bat_coast.isnull())\n",
    "\n",
    "# BATHYMETRY CHL A RESOLUTION\n",
    "\n",
    "ds_bat_ocean_1=ds_bat.where(ds_bat_coast_1.isnull())"
   ]
  },
  {
   "cell_type": "markdown",
   "id": "20304d02-975a-4f9e-bde4-459eeb688ad5",
   "metadata": {},
   "source": [
    "# APPLY COAST OCEAN MASK"
   ]
  },
  {
   "cell_type": "code",
   "execution_count": 38,
   "id": "f62b7c23-f22a-4a65-95a7-78ddd06744b5",
   "metadata": {},
   "outputs": [],
   "source": [
    "# CHL HIGH RESOLUTION\n",
    "chl_clim_coast=ds_month.where(~ds_bat_coast_1.isnull()).mean(dim=['lon','lat'])\n",
    "chl_clim_coast=chl_clim_coast.groupby('time.month').mean(dim='time')\n",
    "\n",
    "chl_clim_ocean=ds_month.where(~ds_bat_ocean_1.isnull()).mean(dim=['lon','lat'])\n",
    "chl_clim_ocean=chl_clim_ocean.groupby('time.month').mean(dim='time')"
   ]
  },
  {
   "cell_type": "code",
   "execution_count": 39,
   "id": "b44d995b-b83a-48da-a8f9-e2d70aeadefb",
   "metadata": {},
   "outputs": [],
   "source": [
    "chl_clim_coast=ds_chl.where(~ds_bat_coast.isnull()).mean(dim=['lon','lat'])\n",
    "chl_clim_coast=chl_clim_coast.groupby('time.month').mean(dim='time')\n",
    "\n",
    "chl_clim_ocean=ds_chl.where(~ds_bat_ocean.isnull()).mean(dim=['lon','lat'])\n",
    "chl_clim_ocean=chl_clim_ocean.groupby('time.month').mean(dim='time')"
   ]
  },
  {
   "cell_type": "code",
   "execution_count": 40,
   "id": "7c17da06-b0bb-4854-9879-621e9fa144ae",
   "metadata": {},
   "outputs": [],
   "source": [
    "mld_clim_coast=ds_mld.where(~ds_bat_coast.isnull()).mean(dim=['lon','lat'])\n",
    "mld_clim_coast=mld_clim_coast.groupby('time.month').mean(dim='time')\n",
    "\n",
    "mld_clim_ocean=ds_mld.where(~ds_bat_ocean.isnull()).mean(dim=['lon','lat'])\n",
    "mld_clim_ocean=mld_clim_ocean.groupby('time.month').mean(dim='time')\n"
   ]
  },
  {
   "cell_type": "code",
   "execution_count": 41,
   "id": "0a19ab88-84f0-4742-a2fc-b6d8dab7992c",
   "metadata": {
    "tags": []
   },
   "outputs": [],
   "source": [
    "sst_clim_coast=ds_sst.where(~ds_bat_coast.isnull()).mean(dim=['lon','lat'])\n",
    "sst_clim_coast=sst_clim_coast.groupby('time.month').mean(dim='time')\n",
    "\n",
    "sst_clim_ocean=ds_sst.where(~ds_bat_ocean.isnull()).mean(dim=['lon','lat'])\n",
    "sst_clim_ocean=sst_clim_ocean.groupby('time.month').mean(dim='time')"
   ]
  },
  {
   "cell_type": "code",
   "execution_count": null,
   "id": "191f22b3-e712-40b4-92b3-955e2c028265",
   "metadata": {},
   "outputs": [],
   "source": []
  },
  {
   "cell_type": "code",
   "execution_count": null,
   "id": "bb8b128d-8097-4524-a233-dc57a8765ef3",
   "metadata": {},
   "outputs": [],
   "source": []
  },
  {
   "cell_type": "code",
   "execution_count": 42,
   "id": "5a8d8a2f-6123-4081-bca2-618544b797fc",
   "metadata": {},
   "outputs": [],
   "source": [
    "X3, Y3 = np.meshgrid(ds_bat_all.lon,ds_bat_all.lat)\n",
    "\n",
    "XX3, YY3 = np.meshgrid(ds_bat.lon,ds_bat.lat)"
   ]
  },
  {
   "cell_type": "code",
   "execution_count": null,
   "id": "bce38a97-1edd-48d0-893b-251259963078",
   "metadata": {},
   "outputs": [],
   "source": [
    "fig, axs = plt.subplots(1,2,subplot_kw={'projection': ccrs.Mercator(central_longitude=7.1)},figsize=(13,5),sharey=True,constrained_layout=True)\n",
    "axs=axs.flatten()\n",
    "img=axs[0].pcolormesh(X3,Y3,ds_bat_ocean.where(ds_bat_ocean<-5),vmin=-50,vmax=-30,cmap='viridis',transform=ccrs.PlateCarree())\n",
    "CS=axs[0].contour(X3,Y3,ds_bat_all,levels=[-30], colors='gray',linestyles=['solid'],transform=ccrs.PlateCarree())\n",
    "axs[0].clabel(CS, inline=True,fontsize=18, fmt='%1.0f',colors='k')\n",
    "axs[0].set_xlabel('Longitude (°)')\n",
    "axs[0].set_ylabel('Latitude (°)')\n",
    "axs[0].add_feature(cfeature.LAND, facecolor='grey')\n",
    "axs[0].coastlines()\n",
    "axs[0].set_yticks([53, 54,55,56], crs=ccrs.PlateCarree()) # -90, -60, -30\n",
    "axs[0].set_xticks([3, 6, 9], crs=ccrs.PlateCarree())\n",
    "axs[0].set_yticklabels([]) # -90, -60, -30\n",
    "axs[0].set_xticklabels([3, 6, 9])\n",
    "cbar=plt.colorbar(img,shrink=0.86,pad=0.01,ax=axs[0])\n",
    "                  \n",
    "img1=axs[1].pcolormesh(X3,Y3,ds_bat_coast.where(ds_bat_coast<-5),vmin=-30,vmax=-5,cmap='viridis',transform=ccrs.PlateCarree())\n",
    "CS1=axs[1].contour(X3,Y3,ds_bat_all,levels=[-30], colors='gray',linestyles=['solid'],transform=ccrs.PlateCarree())\n",
    "axs[1].clabel(CS1, inline=True,fontsize=18, fmt='%1.0f',colors='k')\n",
    "axs[1].set_xlabel('Longitude (°)')\n",
    "#axs[1].set_ylabel('Latitude (°)')\n",
    "axs[1].add_feature(cfeature.LAND, facecolor='grey')\n",
    "axs[1].coastlines()\n",
    "axs[1].set_yticks([53, 54,55,56], crs=ccrs.PlateCarree()) # -90, -60, -30\n",
    "axs[1].set_xticks([3, 6, 9], crs=ccrs.PlateCarree())\n",
    "axs[1].set_yticklabels([]) # -90, -60, -30\n",
    "axs[1].set_xticklabels([3, 6, 9])\n",
    "cbar=plt.colorbar(img1,shrink=0.86,pad=0.01,ax=axs[1],label='Bathymetry (m)')\n",
    "axs[0].set_title('Offshore')\n",
    "axs[1].set_title('Coast')"
   ]
  },
  {
   "cell_type": "code",
   "execution_count": null,
   "id": "4ceab6e0-7453-45c4-97f8-c012b5a20a08",
   "metadata": {},
   "outputs": [],
   "source": []
  },
  {
   "cell_type": "code",
   "execution_count": 43,
   "id": "ed6e290f-7124-422a-8d9d-cb525def1a85",
   "metadata": {},
   "outputs": [],
   "source": [
    "# CHL HIGH RESOLUTION\n",
    "chl_clim_coast=ds_month.where(~ds_bat_coast_1.isnull()).mean(dim=['lon','lat'])\n",
    "chl_clim_coast=chl_clim_coast.groupby('time.month').mean(dim='time')\n",
    "\n",
    "chl_clim_ocean=ds_month.where(~ds_bat_ocean_1.isnull()).mean(dim=['lon','lat'])\n",
    "chl_clim_ocean=chl_clim_ocean.groupby('time.month').mean(dim='time')"
   ]
  },
  {
   "cell_type": "code",
   "execution_count": 58,
   "id": "3eabdae2-101b-425d-afbb-5d3f94cddb77",
   "metadata": {},
   "outputs": [],
   "source": [
    "# HIGHER RESOLUTION #####\n",
    "# Monthly climatology and anomaly\\n\",\n",
    "chl_clim = ds_month.groupby('time.month').mean(dim='time')\n",
    "#chl_mean = ds_month.mean(dim='time')\n",
    "#chl_std = ds_month.std(dim='time')\n",
    "chl_anomalies = ds_month.groupby('time.month') - chl_clim\n",
    "#chl_anom_mean = chl_anomalies.mean(dim='time')\n",
    "#chl_anom_std = chl_anomalies.std(dim='time')"
   ]
  },
  {
   "cell_type": "code",
   "execution_count": 45,
   "id": "694c47d9-7765-472f-80c7-7b0835a647ba",
   "metadata": {},
   "outputs": [
    {
     "name": "stderr",
     "output_type": "stream",
     "text": [
      "/home/famorim/py_felipe/phd_py/lib/python3.8/site-packages/numpy/lib/nanfunctions.py:1878: RuntimeWarning: Degrees of freedom <= 0 for slice.\n",
      "  var = nanvar(a, axis=axis, dtype=dtype, out=out, ddof=ddof,\n",
      "/home/famorim/py_felipe/phd_py/lib/python3.8/site-packages/numpy/lib/nanfunctions.py:1878: RuntimeWarning: Degrees of freedom <= 0 for slice.\n",
      "  var = nanvar(a, axis=axis, dtype=dtype, out=out, ddof=ddof,\n"
     ]
    }
   ],
   "source": [
    "# Monthly climatology and anomaly\"\n",
    "clim_chl = ds_month.groupby('time.month').mean(dim='time')\n",
    "chl_mean = ds_month.mean(dim='time')\n",
    "chl_std = ds_month.std(dim='time')\n",
    "anomalies = ds_month.groupby('time.month') - clim_chl\n",
    "anom_mean = anomalies.mean(dim='time')\n",
    "anom_std = anomalies.std(dim='time')"
   ]
  },
  {
   "cell_type": "code",
   "execution_count": 13,
   "id": "ba548d13-6e19-4b8d-afc6-802b44826839",
   "metadata": {},
   "outputs": [],
   "source": [
    "# Linear Trend\n",
    "\n",
    "result_trend=[]\n",
    "p_value=[]\n",
    "\n",
    "for lat in range(0,len(anomalies.lat)):\n",
    "    for lon in range(0,len(anomalies.lon)):\n",
    "        try:\n",
    "            reg = np.polyfit(np.arange(1,len(anomalies)+1),anomalies[:,lat,lon],1)\n",
    "            ry=np.polyval(reg,np.arange(1,len(anomalies)+1))\n",
    "            res=((ry[-1]-ry[0])/(22))\n",
    "            slope, intercept, r_value, pp, std_err = sp.stats.linregress(np.arange(1,len(anomalies)+1),anomalies[:,lat,lon])\n",
    "        except ZeroDivisionError:\n",
    "                res = np.nan\n",
    "                pp = np.nan\n",
    "        #print(lat,lon)\n",
    "        result_trend.append((res, float(anomalies.lat[lat]), float(anomalies.lon[lon])))\n",
    "        p_value.append((pp, float(anomalies.lat[lat]), float(anomalies.lon[lon])))        \n",
    "\n",
    "result_trend=pd.DataFrame(result_trend, columns=('trend', 'lat', 'lon'))\n",
    "p_value=pd.DataFrame(p_value, columns=('p_value', 'lat', 'lon'))"
   ]
  },
  {
   "cell_type": "code",
   "execution_count": 14,
   "id": "e4945877-65ac-4ba8-aada-a5e4a1db897c",
   "metadata": {},
   "outputs": [
    {
     "data": {
      "text/plain": [
       "0.35"
      ]
     },
     "execution_count": 14,
     "metadata": {},
     "output_type": "execute_result"
    }
   ],
   "source": [
    "0.77/2.2"
   ]
  },
  {
   "cell_type": "code",
   "execution_count": 15,
   "id": "501f48ec-2d01-457b-a970-ad0771f201eb",
   "metadata": {},
   "outputs": [],
   "source": [
    "pv_result_trend= pd.pivot_table(result_trend, index=result_trend.lat, columns=result_trend.lon,values='trend')"
   ]
  },
  {
   "cell_type": "code",
   "execution_count": 16,
   "id": "b63343fd-0b42-4125-aa16-c0a6e94b98b1",
   "metadata": {},
   "outputs": [],
   "source": [
    "X1, Y1 = np.meshgrid(pv_result_trend.columns,pv_result_trend.index)"
   ]
  },
  {
   "cell_type": "code",
   "execution_count": 17,
   "id": "b25fea60-f657-4c49-a1c0-4468918d8cf0",
   "metadata": {},
   "outputs": [
    {
     "data": {
      "text/plain": [
       "Text(2.4, 56.05, 'd)')"
      ]
     },
     "execution_count": 17,
     "metadata": {},
     "output_type": "execute_result"
    }
   ],
   "source": [
    "# Define the figure and each axis for the 3 rows and 4 columns\n",
    "fig, axs = plt.subplots(nrows=2,ncols=2,\n",
    "                        subplot_kw={'projection': ccrs.Mercator(central_longitude=7.1)},\n",
    "                        figsize=(13,9),constrained_layout=True)\n",
    "\n",
    "# axs is a 2 dimensional array of `GeoAxes`.  We will flatten it into a 1-D array\n",
    "axs=axs.flatten()\n",
    "\n",
    "#fig.subplots_adjust(bottom=0.1, top=0.98, left=0.05, right=0.99,\n",
    "#                    wspace=0.0, hspace=0.05)\n",
    "\n",
    "img=chl_mean.lon,chl_mean.lat,(chl_mean).plot.pcolormesh(ax=axs[0],cmap='viridis',vmin=0,vmax=5,\n",
    "                                    add_colorbar=True,\n",
    "                                    # cbar_kwargs={'shrink': 0.90,'pad':0.01,'label':'(mg m$^\\N{MINUS SIGN}$$^3$)'},\n",
    "                                    cbar_kwargs={'shrink': 0.90,'pad':0.01,'label':'(mg m$^{-3}$)'},                                                         \n",
    "                                                                 extend='neither',transform=ccrs.PlateCarree())#\n",
    "#m = mpl_toolkits.basemap(projection='lcc', width=12000000, height=9000000,\n",
    "#resolution='c', lat_1=47.536042,lat_2=23.878382,lat_0=56.362771,lon_0=30.517389)\n",
    "axs[0].set_yticks([53, 54,55,56], crs=ccrs.PlateCarree()) # -90, -60, -30,\n",
    "axs[0].set_xticks([3, 6, 9], crs=ccrs.PlateCarree())\n",
    "axs[0].set_xlabel(None)\n",
    "axs[0].set_ylabel('Latitude (°)')\n",
    "#ax.plot(lon_e,lat_e,'k')\n",
    "#ax.set_ylim([53,56])\n",
    "#ax.set_xlim([2.5,9.25])\n",
    "CS10=axs[0].contour(xx,yy,ds_bat,levels=[-10], colors='grey',linestyles='dashed',transform=ccrs.PlateCarree())\n",
    "CS30=axs[0].contour(xx,yy,ds_bat,levels=[-30], colors='k',linestyles='dashed',transform=ccrs.PlateCarree())\n",
    "#CS=ax.contour(xx,yy,np.log10(chl_mean),levels=[np.log10(2)], colors='r',transform=ccrs.PlateCarree())\n",
    "#CS=ax.contour(xx,yy,np.log10(chl_mean),levels=[np.log10(1)], linestyles='dashed',colors='r',transform=ccrs.PlateCarree())\n",
    "CS1=axs[0].contour(xx,yy,(chl_mean),levels=[2], colors='r',transform=ccrs.PlateCarree())\n",
    "h3,_ = CS1.legend_elements()\n",
    "CS2=axs[0].contour(xx,yy,(chl_mean),levels=[1], linestyles='dashed',colors='r',transform=ccrs.PlateCarree())\n",
    "h4,_ = CS2.legend_elements()\n",
    "axs[0].add_feature(cfeature.LAND, facecolor='grey')\n",
    "axs[0].coastlines()\n",
    "axs[0].set_yticks([53, 54,55,56], crs=ccrs.PlateCarree()) # -90, -60, -30\n",
    "axs[0].set_xticks([3, 6, 9], crs=ccrs.PlateCarree())\n",
    "axs[0].set_yticklabels([53, 54,55,56]) # -90, -60, -30\n",
    "axs[0].set_xticklabels([])    \n",
    "#plt.legend([h4[0],h3[0]],['1 mg m$^\\N{MINUS SIGN}$$^3$','2 mg m$^\\N{MINUS SIGN}$$^3$'])\n",
    "axs[0].text(2.4,56.05,'a)',weight='bold',transform=ccrs.PlateCarree())\n",
    "\n",
    "img2=chl_std.lon,chl_std.lat,(chl_std).plot.contourf(ax=axs[1],levels=[0,1,2,3,4,5],cmap='viridis',vmin=0,vmax=5,\n",
    "                                    add_colorbar=True,\n",
    "                                    # cbar_kwargs={'shrink': 0.90,'pad':0.01,'label':'(mg m$^\\N{MINUS SIGN}$$^3$)'},\n",
    "                                    cbar_kwargs={'shrink': 0.90,'pad':0.01,'label':'(mg m$^{-3}$)'},                                                     \n",
    "                                                                 extend='neither',transform=ccrs.PlateCarree())#\n",
    "#m = mpl_toolkits.basemap(projection='lcc', width=12000000, height=9000000,\n",
    "#resolution='c', lat_1=47.536042,lat_2=23.878382,lat_0=56.362771,lon_0=30.517389)\n",
    "axs[1].set_yticks([53, 54,55,56], crs=ccrs.PlateCarree()) # -90, -60, -30,\n",
    "axs[1].set_xticks([3, 6, 9], crs=ccrs.PlateCarree())\n",
    "axs[1].set_xlabel('Longitude (°)')\n",
    "axs[1].set_ylabel(None)\n",
    "#ax.plot(lon_e,lat_e,'k')\n",
    "#ax.set_ylim([53,56])\n",
    "#ax.set_xlim([2.5,9.25])\n",
    "CS10a=axs[1].contour(xx,yy,ds_bat,levels=[-10], colors='grey',linestyles='dashed',transform=ccrs.PlateCarree())\n",
    "CS30a=axs[1].contour(xx,yy,ds_bat,levels=[-30], colors='k',linestyles='dashed',transform=ccrs.PlateCarree())\n",
    "#CS=ax.contour(xx,yy,np.log10(chl_mean),levels=[np.log10(2)], colors='r',transform=ccrs.PlateCarree())\n",
    "#CS=ax.contour(xx,yy,np.log10(chl_mean),levels=[np.log10(1)], linestyles='dashed',colors='r',transform=ccrs.PlateCarree())\n",
    "CSa=axs[1].contour(xx,yy,(chl_std),levels=[2], colors='r',transform=ccrs.PlateCarree())\n",
    "h1,_ = CSa.legend_elements()\n",
    "CSb=axs[1].contour(xx,yy,(chl_std),levels=[1], linestyles='dashed',colors='r',transform=ccrs.PlateCarree())\n",
    "h2,_ = CSb.legend_elements()\n",
    "axs[1].add_feature(cfeature.LAND, facecolor='grey')\n",
    "axs[1].coastlines()\n",
    "axs[1].set_yticks([53, 54,55,56], crs=ccrs.PlateCarree()) # -90, -60, -30\n",
    "axs[1].set_xticks([3, 6, 9], crs=ccrs.PlateCarree())\n",
    "axs[1].set_yticklabels([]) # -90, -60, -30\n",
    "axs[1].set_xticklabels([3, 6, 9]) \n",
    "axs[1].set_ylabel(None)\n",
    "axs[1].set_xlabel(None)\n",
    "# axs[1].legend([h2[0],h1[0]],['1 mg m$^\\N{MINUS SIGN}$$^3$','2 mg m$^\\N{MINUS SIGN}$$^3$'],loc='upper left')\n",
    "# axs[1].legend([h2[0],h1[0]],['1 mg/m³','2 mg/m³'],loc='upper left')\n",
    "axs[1].legend([h2[0],h1[0]],['1 mg m$^{-3}$','2 mg m$^{-3}$'],loc='upper left')\n",
    "axs[1].set_xticklabels([])    \n",
    "axs[1].text(2.4,56.05,'b)',weight='bold',transform=ccrs.PlateCarree())\n",
    "\n",
    "img3=chl_std.lon,chl_std.lat,((chl_std/chl_mean)*100).plot.contourf(ax=axs[2],cmap='viridis',#vmin=0,vmax=5,\n",
    "                                    add_colorbar=True,levels=list(np.arange(0,110,10)),\n",
    "                                    cbar_kwargs={'shrink': 0.90,'pad':0.01,'label':'(%)'},\n",
    "                                                                 extend='neither',transform=ccrs.PlateCarree())#\n",
    "CS10a=axs[2].contour(xx,yy,ds_bat,levels=[-10], colors='grey',linestyles='dashed',transform=ccrs.PlateCarree())\n",
    "CS30a=axs[2].contour(xx,yy,ds_bat,levels=[-30], colors='k',linestyles='dashed',transform=ccrs.PlateCarree())\n",
    "axs[2].add_feature(cfeature.LAND, facecolor='grey')\n",
    "axs[2].coastlines()\n",
    "axs[2].set_yticks([53, 54,55,56], crs=ccrs.PlateCarree()) # -90, -60, -30\n",
    "axs[2].set_xticks([3, 6, 9], crs=ccrs.PlateCarree())\n",
    "axs[2].set_yticklabels([53, 54,55,56]) # -90, -60, -30\n",
    "axs[2].set_xticklabels([3, 6, 9]) \n",
    "axs[2].set_ylabel('Latitude (°)')\n",
    "axs[2].set_xlabel('Longitude (°)')\n",
    "axs[2].text(2.4,56.05,'c)',weight='bold',transform=ccrs.PlateCarree())\n",
    "\n",
    "divnorm = mclr.TwoSlopeNorm(vmin=-0.03, vcenter=0, vmax=0.03)\n",
    "img4=axs[3].pcolormesh(X1,Y1,pv_result_trend.values,shading='auto', norm=divnorm,cmap='seismic',transform=ccrs.PlateCarree())\n",
    "cbar=plt.colorbar(img4,orientation='vertical',pad=0.01,shrink=0.90)\n",
    "# cbar.set_label('(mg/m³)/year')\n",
    "cbar.set_label('(mg m$^{-3}$) year$^{-1}$')\n",
    "CS10=axs[3].contour(xx,yy,ds_bat,levels=[-10], colors='grey',linestyles='dashed',transform=ccrs.PlateCarree())\n",
    "CS30=axs[3].contour(xx,yy,ds_bat,levels=[-30], colors='k',linestyles='dashed',transform=ccrs.PlateCarree())\n",
    "#plt.plot(result.lon[result.trend==0.25],result.lat[result.trend==0.25],'.k',transform=ccrs.PlateCarree(),markersize=0.5)\n",
    "#plt.plot(result.lon[result.trend==-0.5],result.lat[result.trend==-0.5],'.k',transform=ccrs.PlateCarree(),markersize=0.5)\n",
    "axs[3].plot(p_value.lon[p_value.p_value<=0.05],p_value.lat[p_value.p_value<=0.05],'.k',transform=ccrs.PlateCarree(),markersize=0.2)\n",
    "axs[3].set_xlabel('Longitude (°)')\n",
    "axs[3].set_ylabel(None)\n",
    "axs[3].add_feature(cfeature.LAND, facecolor='grey')\n",
    "axs[3].coastlines()\n",
    "axs[3].set_yticks([ 53, 54,55,56], crs=ccrs.PlateCarree()) # -90, -60, -30,\n",
    "axs[3].set_xticks([3, 6, 9], crs=ccrs.PlateCarree())\n",
    "axs[3].set_yticklabels([]) # -90, -60, -30\n",
    "axs[3].set_xticklabels([3, 6, 9]) # 3, 6, 9\n",
    "axs[3].text(2.4,56.05,'d)',weight='bold',transform=ccrs.PlateCarree())\n"
   ]
  },
  {
   "cell_type": "code",
   "execution_count": 17,
   "id": "ad3da019-6806-486d-ac7a-5d641cf11637",
   "metadata": {},
   "outputs": [],
   "source": [
    "months=['J','F','M','A','M','J','J','A','S','O','N','D']\n",
    "levels=[-30]"
   ]
  },
  {
   "cell_type": "code",
   "execution_count": null,
   "id": "4a1feb2a-98ab-4d9f-882a-cfcddcec0488",
   "metadata": {},
   "outputs": [],
   "source": [
    "# Define the figure and each axis for the 3 rows and 4 columns\n",
    "fig, axs = plt.subplots(nrows=3,ncols=4,\n",
    "                        subplot_kw={'projection': ccrs.Mercator(central_longitude=7.1)},\n",
    "                        figsize=(12.5,7))\n",
    "\n",
    "# axs is a 2 dimensional array of `GeoAxes`.  We will flatten it into a 1-D array\n",
    "axs=axs.flatten()\n",
    "\n",
    "fig.subplots_adjust(bottom=0.15, top=0.95, left=0.1, right=0.9,\n",
    "                    wspace=0.0, hspace=0.05)\n",
    "nn=0\n",
    "\n",
    "for i in range(0,12):\n",
    "\n",
    "    img=clim_chl.sel(month=clim_chl.month.values[nn]).plot.pcolormesh(\n",
    "        ax=axs[i], vmin=0, vmax=5, cmap='jet',add_colorbar=False,add_labels=False, extend='both',transform=ccrs.PlateCarree())\n",
    "#                cbar_kwargs={\n",
    "#        \"orientation\": \"vertical\",\n",
    "#        \"label\": \"Chl-a (mg m$\\\\mathregular{^-}$$\\\\mathregular{^3}$)\\\",\n",
    "#        \"pad\": 0.01,\n",
    "#    })\n",
    "\n",
    "    CS=axs[i].contour(xx,yy,ds_bat,levels=levels, colors='k',transform=ccrs.PlateCarree())\n",
    "\n",
    "    axs[i].clabel(CS, inline=True,fontsize=20, fmt='%1.0f')\n",
    "\n",
    "    axs[i].set_ylabel(None)\n",
    "    axs[i].set_xlabel(None)\n",
    "    axs[i].text(0.91, 0.86, str(months[nn]),transform=axs[i].transAxes,ha='left')\n",
    "#        axes[i, j].set_yticks([54,56],transform=ccrs.PlateCarree())\n",
    "    axs[i].add_feature(cfeature.LAND, facecolor='grey')\n",
    "    axs[i].coastlines()\n",
    "    nn=nn+1\n",
    "# Add a colorbar axis at the bottom of the graph\n",
    "cbar_ax = fig.add_axes([0.9, 0.15, 0.02, 0.8])    \n",
    "cbar=fig.colorbar(img, cax=cbar_ax,orientation='vertical')\n",
    "\n",
    "axs[0].set_yticks([53, 54,55,56], crs=ccrs.PlateCarree()) # -90, -60, -30\n",
    "axs[0].set_yticklabels([53, 54,55,56]) # -90, -60, -30\n",
    "axs[4].set_yticks([53, 54,55,56], crs=ccrs.PlateCarree()) # -90, -60, -30\n",
    "axs[4].set_yticklabels([53, 54,55,'']) # -90, -60, -30\n",
    "axs[8].set_yticks([53, 54,55,56], crs=ccrs.PlateCarree()) # -90, -60, -30\n",
    "axs[8].set_yticklabels([53, 54,55,'']) # -90, -60, -30\n",
    "\n",
    "axs[8].set_xticks([3, 6, 9], crs=ccrs.PlateCarree())\n",
    "axs[8].set_xticklabels([3, 6, 9])\n",
    "axs[9].set_xticks([3, 6, 9], crs=ccrs.PlateCarree())\n",
    "axs[9].set_xticklabels([3, 6, 9])\n",
    "axs[10].set_xticks([3, 6, 9], crs=ccrs.PlateCarree())\n",
    "axs[10].set_xticklabels([3, 6, 9])\n",
    "axs[11].set_xticks([3, 6, 9], crs=ccrs.PlateCarree())\n",
    "axs[11].set_xticklabels([3, 6, 9])\n",
    "\n",
    "# cbar.set_label('Chl-a (mg m$\\mathregular{^-}$$\\mathregular{^3}$)')\n",
    "cbar.set_label('Chl-a (mg m$^{-3}$)')\n",
    "fig.text(0.05, 0.47, 'Latitude (°)', ha='left',rotation='vertical')\n",
    "fig.text(0.46, 0.05, 'Longitude (°)', ha='left',rotation='horizontal')"
   ]
  },
  {
   "cell_type": "code",
   "execution_count": 18,
   "id": "de663b10-d174-40bf-bca8-49d4a5bbe2d8",
   "metadata": {},
   "outputs": [
    {
     "name": "stderr",
     "output_type": "stream",
     "text": [
      "/home/famorim/py_felipe/phd_py/lib/python3.8/site-packages/pymannkendall/pymannkendall.py:60: RuntimeWarning: invalid value encountered in divide\n",
      "  return acov[:nlags+1]/acov[0]\n"
     ]
    }
   ],
   "source": [
    "# Mann-kendall trend significance test\n",
    "\n",
    "result=[]\n",
    "\n",
    "for lat in range(0,len(chl_anomalies.lat)):\n",
    "    for lon in range(0,len(chl_anomalies.lon)):\n",
    "        try:\n",
    "            # res = mk.original_test(anomalies[:,lat,lon])\n",
    "            # res = mk.hamed_rao_modification_test(chl_anomalies[:,lat,lon])\n",
    "            res = mk.yue_wang_modification_test(chl_anomalies[:,lat,lon])\n",
    "            \n",
    "            \n",
    "            if res[0]=='decreasing':\n",
    "                trend=-0.5\n",
    "            \n",
    "            elif res[0]=='no trend':\n",
    "                if res[5]<0:\n",
    "                    trend=-0.25\n",
    "                else:\n",
    "                    trend=0 \n",
    "                            \n",
    "            else:\n",
    "                trend=0.25\n",
    "        except ZeroDivisionError:\n",
    "                trend = np.nan\n",
    "        \n",
    "#        print(lat,lon)\n",
    "        result.append((trend, float(chl_anomalies.lat[lat]), float(chl_anomalies.lon[lon])))\n",
    "\n",
    "result=pd.DataFrame(result, columns=('trend', 'lat', 'lon'))"
   ]
  },
  {
   "cell_type": "code",
   "execution_count": 19,
   "id": "22327256-1b71-4285-a47e-db7ec647e15e",
   "metadata": {},
   "outputs": [],
   "source": [
    "pv_result= pd.pivot_table(result, index=result.lat, columns=result.lon,values='trend')"
   ]
  },
  {
   "cell_type": "code",
   "execution_count": 20,
   "id": "30b9ae03-3607-4b10-a092-8d36f580c463",
   "metadata": {},
   "outputs": [],
   "source": [
    "import matplotlib.colors as clb"
   ]
  },
  {
   "cell_type": "code",
   "execution_count": 21,
   "id": "bae2f5e4-d71d-4f9f-9f04-c6e603dae3c3",
   "metadata": {},
   "outputs": [],
   "source": [
    "cmap = mclr.ListedColormap(['b', 'purple','orange','r'])\n",
    "# X, Y = np.meshgrid(pv_result_yue_wang.columns,pv_result_yue_wang.index)\n",
    "X, Y = np.meshgrid(pv_result.columns,pv_result.index)\n",
    "# X1, Y1 = np.meshgrid(pv_result_hamed_rao.columns,pv_result_hamed_rao.index)\n",
    "X=X.astype('float64')\n",
    "Y=Y.astype('float64')\n",
    "# X1=X1.astype('float64')\n",
    "# Y1=Y1.astype('float64')\n",
    "bounds = [-0.5,-0.25,0,0.25]\n",
    "ticks = [-0.4125,-0.225,-0.025,0.15]"
   ]
  },
  {
   "cell_type": "code",
   "execution_count": 22,
   "id": "34813abf-1c3f-490f-b9f1-a8a539c44d54",
   "metadata": {},
   "outputs": [
    {
     "data": {
      "text/plain": [
       "[Text(-456409.9122524203, 0, '3'),\n",
       " Text(-122451.43987259835, 0, '6'),\n",
       " Text(211507.03250722372, 0, '9')]"
      ]
     },
     "execution_count": 22,
     "metadata": {},
     "output_type": "execute_result"
    }
   ],
   "source": [
    "fig=plt.figure(figsize=(14,8),constrained_layout=True)\n",
    "ax=plt.axes(projection=ccrs.Mercator(central_longitude=7.1))\n",
    "img=plt.pcolormesh(X,Y,pv_result.values,shading='auto', cmap=cmap,transform=ccrs.PlateCarree())\n",
    "# img=plt.pcolormesh(X1,Y1,pv_result_hamed_rao.values,shading='auto', cmap=cmap,transform=ccrs.PlateCarree())\n",
    "cbar=plt.colorbar(orientation='horizontal', ticks = ticks,shrink=0.59,pad=0.01)\n",
    "plt.clim([-0.5,0.25])\n",
    "cbar.set_ticklabels(['decreasing','dec. no sig.','inc. no sig.','increasing'])\n",
    "# CS=ax.contour(xx,yy,ds_bat,levels=[-30], colors='black',linestyles=['dashed'],transform=ccrs.PlateCarree())\n",
    "# CS1=ax.contour(xx,yy,ds_bat,levels=[-10], colors='grey',linestyles=['dashed'],transform=ccrs.PlateCarree())\n",
    "plt.xlabel('Longitude (°)')\n",
    "plt.ylabel('Latitude (°)')\n",
    "ax.add_feature(cfeature.LAND, facecolor='grey')\n",
    "ax.coastlines()\n",
    "ax.set_yticks([ 53, 54,55,56], crs=ccrs.PlateCarree()) # -90, -60, -30,\n",
    "ax.set_xticks([3, 6, 9], crs=ccrs.PlateCarree())\n",
    "ax.set_yticklabels([53, 54,55,56]) # -90, -60, -30\n",
    "ax.set_xticklabels([3, 6, 9]) # 3, 6, 9\n",
    "# plt.title('Yue_wang')"
   ]
  },
  {
   "cell_type": "code",
   "execution_count": 23,
   "id": "1cd50d0e-d3b9-4bf0-bdb0-bba1ef676e69",
   "metadata": {},
   "outputs": [
    {
     "name": "stdout",
     "output_type": "stream",
     "text": [
      "77574\n",
      "36495\n",
      "19649\n",
      "8387\n"
     ]
    }
   ],
   "source": [
    "print(pv_result[pv_result==-0.5].count().sum()) # decreasing sig\n",
    "print(pv_result[pv_result==-0.25].count().sum()) # decreasing not sig\n",
    "print(pv_result[pv_result==0.].count().sum()) # increasing not sig\n",
    "print(pv_result[pv_result==0.25].count().sum()) # increasing sig"
   ]
  },
  {
   "cell_type": "code",
   "execution_count": 24,
   "id": "cc9d824e-f9c0-4b26-ab60-4be055004d8c",
   "metadata": {},
   "outputs": [
    {
     "data": {
      "text/plain": [
       "142105"
      ]
     },
     "execution_count": 24,
     "metadata": {},
     "output_type": "execute_result"
    }
   ],
   "source": [
    "(pv_result[pv_result==-0.5].count().sum())+(pv_result[pv_result==-0.25].count().sum())+(pv_result[pv_result==0.].count().sum())+(pv_result[pv_result==0.25].count().sum())"
   ]
  },
  {
   "cell_type": "code",
   "execution_count": 29,
   "id": "97f30eed-4bd8-4c79-9d9c-7cfb2228b8d8",
   "metadata": {},
   "outputs": [
    {
     "data": {
      "text/plain": [
       "0.059019738925442454"
      ]
     },
     "execution_count": 29,
     "metadata": {},
     "output_type": "execute_result"
    }
   ],
   "source": [
    "8387/pv_result.count().sum()"
   ]
  },
  {
   "cell_type": "code",
   "execution_count": 25,
   "id": "2ec9c7dd-a3f9-401c-ae8c-a6a4242380de",
   "metadata": {},
   "outputs": [
    {
     "data": {
      "text/plain": [
       "142105"
      ]
     },
     "execution_count": 25,
     "metadata": {},
     "output_type": "execute_result"
    }
   ],
   "source": [
    "pv_result.count().sum()"
   ]
  },
  {
   "cell_type": "markdown",
   "id": "efad475e-2d47-4ef4-b368-3d059d24f265",
   "metadata": {},
   "source": [
    "# SST trends"
   ]
  },
  {
   "cell_type": "code",
   "execution_count": null,
   "id": "c245a8ff-a5b7-4c56-a880-7fd9ffb546b4",
   "metadata": {},
   "outputs": [],
   "source": [
    "ds_bat_all= xr.open_dataarray('/mnt/g/PhD/chapter_1/data/ds_bat_regrid_mld_v2.nc')"
   ]
  },
  {
   "cell_type": "code",
   "execution_count": null,
   "id": "7d727cf1-d69f-49ca-b800-374494a9eab2",
   "metadata": {},
   "outputs": [],
   "source": [
    "xx,yy = np.meshgrid(ds_bat_all.lon, ds_bat_all.lat)"
   ]
  },
  {
   "cell_type": "code",
   "execution_count": null,
   "id": "5eb2f02e-d0a4-458e-9923-f54358076377",
   "metadata": {},
   "outputs": [],
   "source": [
    "ds_sst = xr.open_dataarray('/mnt/g/PhD/chapter_1/data/ds_sst_regrid_v2.nc')"
   ]
  },
  {
   "cell_type": "code",
   "execution_count": null,
   "id": "fdb220da-dca2-45bc-8893-06fa2f3b1b9d",
   "metadata": {},
   "outputs": [],
   "source": [
    "ds_sst=ds_sst.where(ds_bat_all<-5)"
   ]
  },
  {
   "cell_type": "code",
   "execution_count": null,
   "id": "2e881cd2-1817-43bc-b7bd-7d68be9b4bcc",
   "metadata": {},
   "outputs": [],
   "source": [
    "ds_sst=ds_sst.sel(lat=slice(52.95,56.05))"
   ]
  },
  {
   "cell_type": "code",
   "execution_count": null,
   "id": "78fbfde1-a66f-42cf-928f-fec4de81e3bd",
   "metadata": {},
   "outputs": [],
   "source": [
    "ds_bat_all=ds_bat_all.sel(lat=slice(52.95,56.05))"
   ]
  },
  {
   "cell_type": "code",
   "execution_count": null,
   "id": "f40b5673-b12a-4f1e-85f0-e02e7bc7f652",
   "metadata": {},
   "outputs": [],
   "source": [
    "sst_clim = ds_sst.groupby('time.month').mean(dim='time')\n",
    "sst_mean = ds_sst.mean(dim='time')\n",
    "sst_std = ds_sst.std(dim='time')\n",
    "sst_anomalies = ds_sst.groupby('time.month') - sst_clim\n",
    "sst_anom_mean = sst_anomalies.mean(dim='time')\n",
    "#sst_anom_std = sst_anomalies.std(dim='time')"
   ]
  },
  {
   "cell_type": "code",
   "execution_count": null,
   "id": "46098472-cd38-4f6b-b0c8-f1de523cf60f",
   "metadata": {},
   "outputs": [],
   "source": [
    "# Linear Trend\n",
    "\n",
    "result_trend=[]\n",
    "p_value=[]\n",
    "\n",
    "for lat in range(0,len(sst_anomalies.lat)):\n",
    "    for lon in range(0,len(sst_anomalies.lon)):\n",
    "        try:\n",
    "            reg = np.polyfit(np.arange(1,len(sst_anomalies)+1),sst_anomalies[:,lat,lon],1)\n",
    "            ry=np.polyval(reg,np.arange(1,len(sst_anomalies)+1))\n",
    "            res=((ry[-1]-ry[0])/(22))\n",
    "            slope, intercept, r_value, pp, std_err = sp.stats.linregress(np.arange(1,len(sst_anomalies)+1),sst_anomalies[:,lat,lon])\n",
    "        except ZeroDivisionError:\n",
    "                res = np.nan\n",
    "                pp = np.nan\n",
    "        #print(lat,lon)\n",
    "        result_trend.append((res, float(sst_anomalies.lat[lat]), float(sst_anomalies.lon[lon])))\n",
    "        p_value.append((pp, float(sst_anomalies.lat[lat]), float(sst_anomalies.lon[lon])))        \n",
    "\n",
    "result_trend=pd.DataFrame(result_trend, columns=('trend', 'lat', 'lon'))\n",
    "p_value=pd.DataFrame(p_value, columns=('p_value', 'lat', 'lon'))"
   ]
  },
  {
   "cell_type": "code",
   "execution_count": null,
   "id": "37bdd94d-4028-49f6-9192-3a3af2a4a37c",
   "metadata": {},
   "outputs": [],
   "source": [
    "pv_result_trend= pd.pivot_table(result_trend, index=result_trend.lat, columns=result_trend.lon,values='trend')"
   ]
  },
  {
   "cell_type": "code",
   "execution_count": null,
   "id": "44a07d41-d6a5-4c76-9952-d5071ac89a56",
   "metadata": {},
   "outputs": [],
   "source": [
    "X1, Y1 = np.meshgrid(pv_result_trend.columns,pv_result_trend.index)"
   ]
  },
  {
   "cell_type": "code",
   "execution_count": null,
   "id": "56bafbfe-8cc5-47fe-9cfa-b6dd1ed37ba0",
   "metadata": {},
   "outputs": [],
   "source": [
    "# Define the figure and each axis for the 3 rows and 4 columns\n",
    "fig, axs = plt.subplots(nrows=2,ncols=2,\n",
    "                        subplot_kw={'projection': ccrs.Mercator(central_longitude=7.1)},\n",
    "                        figsize=(13,9),constrained_layout=True)\n",
    "\n",
    "# axs is a 2 dimensional array of `GeoAxes`.  We will flatten it into a 1-D array\n",
    "axs=axs.flatten()\n",
    "\n",
    "#fig.subplots_adjust(bottom=0.1, top=0.98, left=0.05, right=0.99,\n",
    "#                    wspace=0.0, hspace=0.05)\n",
    "\n",
    "img=sst_mean.lon,sst_mean.lat,(sst_mean).plot.pcolormesh(ax=axs[0],cmap='viridis',\n",
    "                                    add_colorbar=True,\n",
    "                                    # cbar_kwargs={'shrink': 0.90,'pad':0.01,'label':'(mg m$^\\N{MINUS SIGN}$$^3$)'},\n",
    "                                    cbar_kwargs={'shrink': 0.90,'pad':0.01,'label':'(°C)'},                                                         \n",
    "                                                                 extend='neither',transform=ccrs.PlateCarree())#\n",
    "#m = mpl_toolkits.basemap(projection='lcc', width=12000000, height=9000000,\n",
    "#resolution='c', lat_1=47.536042,lat_2=23.878382,lat_0=56.362771,lon_0=30.517389)\n",
    "axs[0].set_yticks([53, 54,55,56], crs=ccrs.PlateCarree()) # -90, -60, -30,\n",
    "axs[0].set_xticks([3, 6, 9], crs=ccrs.PlateCarree())\n",
    "axs[0].set_xlabel(None)\n",
    "axs[0].set_ylabel('Latitude (°)')\n",
    "#ax.plot(lon_e,lat_e,'k')\n",
    "#ax.set_ylim([53,56])\n",
    "#ax.set_xlim([2.5,9.25])\n",
    "CS10=axs[0].contour(xx,yy,ds_bat_all,levels=[-10], colors='grey',linestyles='dashed',transform=ccrs.PlateCarree())\n",
    "CS30=axs[0].contour(xx,yy,ds_bat_all,levels=[-30], colors='k',linestyles='dashed',transform=ccrs.PlateCarree())\n",
    "#CS=ax.contour(xx,yy,np.log10(chl_mean),levels=[np.log10(2)], colors='r',transform=ccrs.PlateCarree())\n",
    "#CS=ax.contour(xx,yy,np.log10(chl_mean),levels=[np.log10(1)], linestyles='dashed',colors='r',transform=ccrs.PlateCarree())\n",
    "CS1=axs[0].contour(xx,yy,(sst_mean),levels=[15], colors='r',transform=ccrs.PlateCarree())\n",
    "h3,_ = CS1.legend_elements()\n",
    "CS2=axs[0].contour(xx,yy,(sst_mean),levels=[10], linestyles='dashed',colors='r',transform=ccrs.PlateCarree())\n",
    "h4,_ = CS2.legend_elements()\n",
    "axs[0].add_feature(cfeature.LAND, facecolor='grey')\n",
    "axs[0].coastlines()\n",
    "axs[0].set_yticks([53, 54,55,56], crs=ccrs.PlateCarree()) # -90, -60, -30\n",
    "axs[0].set_xticks([3, 6, 9], crs=ccrs.PlateCarree())\n",
    "axs[0].set_yticklabels([53, 54,55,56]) # -90, -60, -30\n",
    "axs[0].set_xticklabels([])    \n",
    "#plt.legend([h4[0],h3[0]],['1 mg m$^\\N{MINUS SIGN}$$^3$','2 mg m$^\\N{MINUS SIGN}$$^3$'])\n",
    "axs[0].text(2.4,56.05,'a)',weight='bold',transform=ccrs.PlateCarree())\n",
    "\n",
    "img2=sst_std.lon,sst_std.lat,(sst_std).plot.contourf(ax=axs[1],levels=list(np.arange(3,7,0.1)),cmap='viridis',\n",
    "                                    add_colorbar=True,\n",
    "                                    # cbar_kwargs={'shrink': 0.90,'pad':0.01,'label':'(mg m$^\\N{MINUS SIGN}$$^3$)'},\n",
    "                                    cbar_kwargs={'shrink': 0.90,'pad':0.01,'label':'(°C)'},                                                     \n",
    "                                                                 extend='neither',transform=ccrs.PlateCarree())#\n",
    "#m = mpl_toolkits.basemap(projection='lcc', width=12000000, height=9000000,\n",
    "#resolution='c', lat_1=47.536042,lat_2=23.878382,lat_0=56.362771,lon_0=30.517389)\n",
    "axs[1].set_yticks([53, 54,55,56], crs=ccrs.PlateCarree()) # -90, -60, -30,\n",
    "axs[1].set_xticks([3, 6, 9], crs=ccrs.PlateCarree())\n",
    "axs[1].set_xlabel('Longitude (°)')\n",
    "axs[1].set_ylabel(None)\n",
    "#ax.plot(lon_e,lat_e,'k')\n",
    "#ax.set_ylim([53,56])\n",
    "#ax.set_xlim([2.5,9.25])\n",
    "CS10a=axs[1].contour(xx,yy,ds_bat_all,levels=[-10], colors='grey',linestyles='dashed',transform=ccrs.PlateCarree())\n",
    "CS30a=axs[1].contour(xx,yy,ds_bat_all,levels=[-30], colors='k',linestyles='dashed',transform=ccrs.PlateCarree())\n",
    "#CS=ax.contour(xx,yy,np.log10(chl_mean),levels=[np.log10(2)], colors='r',transform=ccrs.PlateCarree())\n",
    "#CS=ax.contour(xx,yy,np.log10(chl_mean),levels=[np.log10(1)], linestyles='dashed',colors='r',transform=ccrs.PlateCarree())\n",
    "CSa=axs[1].contour(xx,yy,(sst_std),levels=[5], colors='r',transform=ccrs.PlateCarree())\n",
    "h1,_ = CSa.legend_elements()\n",
    "CSb=axs[1].contour(xx,yy,(sst_std),levels=[3], linestyles='dashed',colors='r',transform=ccrs.PlateCarree())\n",
    "h2,_ = CSb.legend_elements()\n",
    "axs[1].add_feature(cfeature.LAND, facecolor='grey')\n",
    "axs[1].coastlines()\n",
    "axs[1].set_yticks([53, 54,55,56], crs=ccrs.PlateCarree()) # -90, -60, -30\n",
    "axs[1].set_xticks([3, 6, 9], crs=ccrs.PlateCarree())\n",
    "axs[1].set_yticklabels([]) # -90, -60, -30\n",
    "axs[1].set_xticklabels([3, 6, 9]) \n",
    "axs[1].set_ylabel(None)\n",
    "axs[1].set_xlabel(None)\n",
    "# axs[1].legend([h2[0],h1[0]],['1 mg m$^\\N{MINUS SIGN}$$^3$','2 mg m$^\\N{MINUS SIGN}$$^3$'],loc='upper left')\n",
    "# axs[1].legend([h2[0],h1[0]],['1 mg/m³','2 mg/m³'],loc='upper left')\n",
    "axs[1].legend([h2[0],h1[0]],['1 °C','2 °C'],loc='upper left')\n",
    "axs[1].set_xticklabels([])    \n",
    "axs[1].text(2.4,56.05,'b)',weight='bold',transform=ccrs.PlateCarree())\n",
    "\n",
    "img3=sst_std.lon,sst_std.lat,((sst_std/sst_mean)*100).plot.contourf(ax=axs[2],cmap='viridis',#vmin=0,vmax=5,\n",
    "                                    add_colorbar=True,levels=list(np.arange(0,110,10)),\n",
    "                                    cbar_kwargs={'shrink': 0.90,'pad':0.01,'label':'(%)'},\n",
    "                                                                 extend='neither',transform=ccrs.PlateCarree())#\n",
    "CS10a=axs[2].contour(xx,yy,ds_bat_all,levels=[-10], colors='grey',linestyles='dashed',transform=ccrs.PlateCarree())\n",
    "CS30a=axs[2].contour(xx,yy,ds_bat_all,levels=[-30], colors='k',linestyles='dashed',transform=ccrs.PlateCarree())\n",
    "axs[2].add_feature(cfeature.LAND, facecolor='grey')\n",
    "axs[2].coastlines()\n",
    "axs[2].set_yticks([53, 54,55,56], crs=ccrs.PlateCarree()) # -90, -60, -30\n",
    "axs[2].set_xticks([3, 6, 9], crs=ccrs.PlateCarree())\n",
    "axs[2].set_yticklabels([53, 54,55,56]) # -90, -60, -30\n",
    "axs[2].set_xticklabels([3, 6, 9]) \n",
    "axs[2].set_ylabel('Latitude (°)')\n",
    "axs[2].set_xlabel('Longitude (°)')\n",
    "axs[2].text(2.4,56.05,'c)',weight='bold',transform=ccrs.PlateCarree())\n",
    "\n",
    "divnorm = mclr.TwoSlopeNorm(vmin=-0.001, vcenter=0, vmax=0.035)\n",
    "img4=axs[3].pcolormesh(X1,Y1,pv_result_trend.values,shading='auto', norm=divnorm,cmap='seismic',transform=ccrs.PlateCarree())\n",
    "cbar=plt.colorbar(img4,orientation='vertical',pad=0.01,shrink=0.90)\n",
    "# cbar.set_label('(mg/m³)/year')\n",
    "cbar.set_label('(mg m$^{-3}$) year$^{-1}$')\n",
    "CS10=axs[3].contour(xx,yy,ds_bat_all,levels=[-10], colors='grey',linestyles='dashed',transform=ccrs.PlateCarree())\n",
    "CS30=axs[3].contour(xx,yy,ds_bat_all,levels=[-30], colors='k',linestyles='dashed',transform=ccrs.PlateCarree())\n",
    "#plt.plot(result.lon[result.trend==0.25],result.lat[result.trend==0.25],'.k',transform=ccrs.PlateCarree(),markersize=0.5)\n",
    "#plt.plot(result.lon[result.trend==-0.5],result.lat[result.trend==-0.5],'.k',transform=ccrs.PlateCarree(),markersize=0.5)\n",
    "axs[3].plot(p_value.lon[p_value.p_value<=0.05],p_value.lat[p_value.p_value<=0.05],'.k',transform=ccrs.PlateCarree(),markersize=0.2)\n",
    "axs[3].set_xlabel('Longitude (°)')\n",
    "axs[3].set_ylabel(None)\n",
    "axs[3].add_feature(cfeature.LAND, facecolor='grey')\n",
    "axs[3].coastlines()\n",
    "axs[3].set_yticks([ 53, 54,55,56], crs=ccrs.PlateCarree()) # -90, -60, -30,\n",
    "axs[3].set_xticks([3, 6, 9], crs=ccrs.PlateCarree())\n",
    "axs[3].set_yticklabels([]) # -90, -60, -30\n",
    "axs[3].set_xticklabels([3, 6, 9]) # 3, 6, 9\n",
    "axs[3].text(2.4,56.05,'d)',weight='bold',transform=ccrs.PlateCarree())\n"
   ]
  },
  {
   "cell_type": "code",
   "execution_count": null,
   "id": "5a79e9a6-cca9-4a27-8df5-5e283bb28a19",
   "metadata": {},
   "outputs": [],
   "source": [
    "# Mann-kendall trend significance test\n",
    "\n",
    "result=[]\n",
    "\n",
    "for lat in range(0,len(sst_anomalies.lat)):\n",
    "    for lon in range(0,len(sst_anomalies.lon)):\n",
    "        try:\n",
    "            # res = mk.original_test(sst_anomalies[:,lat,lon])\n",
    "            # res = mk.hamed_rao_modification_test(sst_anomalies[:,lat,lon])\n",
    "            res = mk.yue_wang_modification_test(sst_anomalies[:,lat,lon])\n",
    "            \n",
    "            \n",
    "            if res[0]=='decreasing':\n",
    "                trend=-0.5\n",
    "            \n",
    "            elif res[0]=='no trend':\n",
    "                if res[5]<0:\n",
    "                    trend=-0.25\n",
    "                else:\n",
    "                    trend=0 \n",
    "                            \n",
    "            else:\n",
    "                trend=0.25\n",
    "        except ZeroDivisionError:\n",
    "                trend = np.nan\n",
    "        \n",
    "#        print(lat,lon)\n",
    "        result.append((trend, float(sst_anomalies.lat[lat]), float(sst_anomalies.lon[lon])))\n",
    "\n",
    "result=pd.DataFrame(result, columns=('trend', 'lat', 'lon'))"
   ]
  },
  {
   "cell_type": "code",
   "execution_count": null,
   "id": "e86c087e-50f6-42c0-97fa-4bdc1e810d9b",
   "metadata": {},
   "outputs": [],
   "source": [
    "pv_result= pd.pivot_table(result, index=result.lat, columns=result.lon,values='trend')"
   ]
  },
  {
   "cell_type": "code",
   "execution_count": null,
   "id": "b90deaa5-b0a1-40ec-99df-40548b7664d8",
   "metadata": {},
   "outputs": [],
   "source": [
    "import matplotlib.colors as clb"
   ]
  },
  {
   "cell_type": "code",
   "execution_count": null,
   "id": "b9cd9b80-5c66-44a6-be95-45fb5728a3a7",
   "metadata": {},
   "outputs": [],
   "source": [
    "cmap = mclr.ListedColormap(['b', 'purple','orange','r'])\n",
    "X, Y = np.meshgrid(pv_result.columns,pv_result.index)\n",
    "X=X.astype('float64')\n",
    "Y=Y.astype('float64')\n",
    "bounds = [-0.5,-0.25,0,0.25]\n",
    "ticks = [-0.4125,-0.225,-0.025,0.15]"
   ]
  },
  {
   "cell_type": "code",
   "execution_count": null,
   "id": "22608946-768f-469c-b008-e52b48710e88",
   "metadata": {},
   "outputs": [],
   "source": [
    "float(pv_result.columns[0])"
   ]
  },
  {
   "cell_type": "code",
   "execution_count": null,
   "id": "1589c1c0-00cb-489c-8a71-e7783de49283",
   "metadata": {},
   "outputs": [],
   "source": [
    "fig=plt.figure(figsize=(14,8),constrained_layout=True)\n",
    "ax=plt.axes(projection=ccrs.Mercator(central_longitude=7.1))\n",
    "#ax.set_ylim([53,56])\n",
    "#ax.set_xlim([2.5,9.25])\n",
    "#plt.pcolormesh(pv_sylt_oisst.columns,pv_sylt_oisst.index,pv_sylt_oisst.values,shading='auto', cmap=plt.cm.jet)\n",
    "img=plt.pcolormesh(X,Y,pv_result.values,shading='auto', cmap=cmap,transform=ccrs.PlateCarree())\n",
    "cbar=plt.colorbar(orientation='horizontal', ticks = ticks,shrink=0.59,pad=0.01)\n",
    "plt.clim([-0.5,0.25])\n",
    "cbar.set_ticklabels(['decreasing','dec. no sig.','inc. no sig.','increasing'])\n",
    "CS=ax.contour(xx,yy,ds_bat_all,levels=[-30], colors='black',linestyles=['dashed'],transform=ccrs.PlateCarree())\n",
    "CS1=ax.contour(xx,yy,ds_bat_all,levels=[-10], colors='grey',linestyles=['dashed'],transform=ccrs.PlateCarree())\n",
    "plt.xlabel('Longitude (°)')\n",
    "plt.ylabel('Latitude (°)')\n",
    "ax.add_feature(cfeature.LAND, facecolor='grey')\n",
    "ax.coastlines()\n",
    "ax.set_yticks([ 53, 54,55,56], crs=ccrs.PlateCarree()) # -90, -60, -30,\n",
    "ax.set_xticks([3, 6, 9], crs=ccrs.PlateCarree())\n",
    "ax.set_yticklabels([53, 54,55,56]) # -90, -60, -30\n",
    "ax.set_xticklabels([3, 6, 9]) # 3, 6, 9"
   ]
  },
  {
   "cell_type": "code",
   "execution_count": null,
   "id": "d937bcfd-84ae-48e3-b0cb-596381ba9f8a",
   "metadata": {},
   "outputs": [],
   "source": [
    "sst_time_mean=sst_anomalies.mean(dim=['lat','lon'])"
   ]
  },
  {
   "cell_type": "code",
   "execution_count": null,
   "id": "b2c21141-d0e1-478c-b4f3-359b4d8f3d05",
   "metadata": {},
   "outputs": [],
   "source": [
    "sst_time_mean=sst_time_mean.to_dataframe().reset_index(drop=False)"
   ]
  },
  {
   "cell_type": "code",
   "execution_count": null,
   "id": "87820f0b-d7e4-4c9b-9af4-70c767eb4ea6",
   "metadata": {},
   "outputs": [],
   "source": [
    "plt.figure(constrained_layout=True,figsize=[9,4])\n",
    "a1,=plt.plot(sst_time_mean.time,sst_time_mean.analysed_sst,'.-',color='grey',label='SST anomalies')\n",
    "a2,=plt.plot(sst_time_mean.time,stl[:,1],'black',label='LOWESS trend')\n",
    "plt.plot(sst_time_mean.time.iloc[0],stl[0,1],'.',color='black',markersize=10)\n",
    "plt.plot(sst_time_mean.time.iloc[-1],stl[-1,1],'.',color='black',markersize=10)\n",
    "plt.xlim([sst_time_mean.time.iloc[0],sst_time_mean.time.iloc[-1]])\n",
    "plt.xlim(['1997-12-01','2021-01-31'])\n",
    "plt.axhline(y=0,lw=1)\n",
    "plt.ylabel('Temperature (°C)')\n",
    "plt.grid(ls='--')\n",
    "plt.legend(ncol=2)\n"
   ]
  },
  {
   "cell_type": "markdown",
   "id": "0317083f-a49d-4175-8923-158bb64d5ab4",
   "metadata": {},
   "source": [
    "# ANALYSIS"
   ]
  },
  {
   "cell_type": "code",
   "execution_count": null,
   "id": "f72a029a-1e4b-4a75-8f48-257f98eca4fd",
   "metadata": {},
   "outputs": [],
   "source": []
  },
  {
   "cell_type": "code",
   "execution_count": null,
   "id": "a37f0e91-4b71-4e86-81e2-9afa24bfa14f",
   "metadata": {},
   "outputs": [],
   "source": []
  },
  {
   "cell_type": "markdown",
   "id": "5c8035b8-64c7-45eb-92a6-1c058386400e",
   "metadata": {},
   "source": [
    "# INVESTIGATE TEMPORAL CHANGES"
   ]
  },
  {
   "cell_type": "code",
   "execution_count": 48,
   "id": "ed92902f-f2aa-412c-8a24-c432688b787d",
   "metadata": {},
   "outputs": [],
   "source": [
    "month_l=['Date','jan','feb','march','april','may','jun','jul','aug','sep','oct','nov','dec']"
   ]
  },
  {
   "cell_type": "code",
   "execution_count": null,
   "id": "a5404e55-967d-4c01-8b59-6376eb78094b",
   "metadata": {},
   "outputs": [],
   "source": [
    "# april_ocean=chl_anomalies[chl_anomalies.time.dt.month==4].where(ds_bat<-30).mean(dim=['lon','lat'])\n",
    "# april_coast=chl_anomalies[chl_anomalies.time.dt.month==4].where(ds_bat>=-30).mean(dim=['lon','lat'])\n",
    "\n",
    "# april_ocean=chl_anomalies[chl_anomalies.time.dt.month==4].where(ds_bat<-30).mean(dim=['lon','lat'])\n",
    "# april_coast=chl_anomalies[chl_anomalies.time.dt.month==4].where(ds_bat>=-30).mean(dim=['lon','lat'])\n",
    "\n"
   ]
  },
  {
   "cell_type": "code",
   "execution_count": 56,
   "id": "109abb53-a030-45a5-abf5-2ee37f5e2f5c",
   "metadata": {},
   "outputs": [],
   "source": [
    "years=list(np.arange(1998,2021))"
   ]
  },
  {
   "cell_type": "code",
   "execution_count": 57,
   "id": "e9ba41d2-1ffc-4b98-8f7c-5154c8539155",
   "metadata": {},
   "outputs": [],
   "source": [
    "m_idx=list(np.arange(1,13))"
   ]
  },
  {
   "cell_type": "code",
   "execution_count": 59,
   "id": "6a685927-4b64-4721-ba9b-4e7c883a0326",
   "metadata": {},
   "outputs": [],
   "source": [
    "#TIME SERIES EACH MONTH - COAST OFF SHORE ANOMALIES\n",
    "\n",
    "res_coast=pd.DataFrame(columns=month_l)\n",
    "res_ocean=pd.DataFrame(columns=month_l)\n",
    "std_coast=pd.DataFrame(columns=month_l)\n",
    "std_ocean=pd.DataFrame(columns=month_l)\n",
    "\n",
    "res_coast['Date']=years\n",
    "res_ocean['Date']=years\n",
    "std_coast['Date']=years\n",
    "std_ocean['Date']=years\n",
    "\n",
    "\n",
    "\n",
    "for mm in m_idx:\n",
    "    \n",
    "    oo=chl_anomalies[chl_anomalies.time.dt.month==mm].where(~ds_bat_ocean_1.isnull()).mean(dim=['lon','lat']) # OFF SHORE\n",
    "    cc=chl_anomalies[chl_anomalies.time.dt.month==mm].where(~ds_bat_coast_1.isnull()).mean(dim=['lon','lat']) # COAST\n",
    "    oo1=chl_anomalies[chl_anomalies.time.dt.month==mm].where(~ds_bat_ocean_1.isnull()).std(dim=['lon','lat']) # OFF SHORE\n",
    "    cc1=chl_anomalies[chl_anomalies.time.dt.month==mm].where(~ds_bat_coast_1.isnull()).std(dim=['lon','lat']) # COAST\n",
    "    \n",
    "    #res_coast.iloc[:,mm-1]=cc\n",
    "    res_coast[res_coast.columns[mm]]=cc\n",
    "    #res_ocean.iloc[:,mm-1]=oo\n",
    "    res_ocean[res_ocean.columns[mm]]=oo\n",
    "    \n",
    "    std_coast[std_coast.columns[mm]]=cc1\n",
    "    std_ocean[std_ocean.columns[mm]]=oo1\n",
    "    \n",
    "    del(cc,oo,cc1,oo1)\n"
   ]
  },
  {
   "cell_type": "code",
   "execution_count": null,
   "id": "8b645bf1-d296-456e-a27e-a2145c7d5b83",
   "metadata": {},
   "outputs": [],
   "source": []
  },
  {
   "cell_type": "code",
   "execution_count": 60,
   "id": "90856afa-c1cf-4ba3-a7e0-ae79220fccd1",
   "metadata": {},
   "outputs": [],
   "source": [
    "sat_coast=chl_anomalies.where(~ds_bat_coast_1.isnull()).mean(dim=['lon','lat']).to_dataframe().reset_index(drop=False) # COAST\n",
    "sat_ocean=chl_anomalies.where(~ds_bat_ocean_1.isnull()).mean(dim=['lon','lat']).to_dataframe().reset_index(drop=False)  # OFF SHORE"
   ]
  },
  {
   "cell_type": "code",
   "execution_count": 61,
   "id": "5f67d6c4-8675-4eee-96b4-efca9ee2eb69",
   "metadata": {},
   "outputs": [
    {
     "name": "stdout",
     "output_type": "stream",
     "text": [
      "March coast= Modified_Mann_Kendall_Test_Yue_Wang_Approach(trend='no trend', h=False, p=0.06227921317086915, z=1.864302662294392, Tau=0.16996047430830039, s=43.0, var_s=507.5347012627887, slope=0.016901366412639618, intercept=-0.34972115606069565)\n",
      "April coast= Modified_Mann_Kendall_Test_Yue_Wang_Approach(trend='no trend', h=False, p=0.26548763647486195, z=-1.1135142387912174, Tau=-0.09090909090909091, s=-23.0, var_s=390.3496658781044, slope=-0.015566051006317139, intercept=0.16547604789957404)\n",
      "May coast= Modified_Mann_Kendall_Test_Yue_Wang_Approach(trend='decreasing', h=True, p=0.007447713861839622, z=-2.6761327520192277, Tau=-0.24110671936758893, s=-61.0, var_s=502.67489323468675, slope=-0.0440611583845956, intercept=0.4010356834956578)\n",
      "March ocean= Modified_Mann_Kendall_Test_Yue_Wang_Approach(trend='increasing', h=True, p=0.0010022984221436104, z=3.2898807735402404, Tau=0.20948616600790515, s=53.0, var_s=249.83102441883563, slope=0.006508633494377136, intercept=-0.08904029242694378)\n",
      "April ocean= Modified_Mann_Kendall_Test_Yue_Wang_Approach(trend='no trend', h=False, p=1.0, z=0.0, Tau=0.003952569169960474, s=1.0, var_s=615.4768162683622, slope=0.0007723152637481689, intercept=-0.07845537662506104)\n",
      "May ocean= Modified_Mann_Kendall_Test_Yue_Wang_Approach(trend='decreasing', h=True, p=0.00017042164587155462, z=-3.7592526894467797, Tau=-0.2490118577075099, s=-63.0, var_s=272.0071629727538, slope=-0.012606273094813028, intercept=0.1591093645741542)\n"
     ]
    }
   ],
   "source": [
    "print('March coast=',mk.yue_wang_modification_test(res_coast.iloc[:,3]))\n",
    "print('April coast=',mk.yue_wang_modification_test(res_coast.iloc[:,4]))\n",
    "print('May coast=',mk.yue_wang_modification_test(res_coast.iloc[:,5]))\n",
    "\n",
    "print('March ocean=',mk.yue_wang_modification_test(res_ocean.iloc[:,3]))\n",
    "print('April ocean=',mk.yue_wang_modification_test(res_ocean.iloc[:,4]))\n",
    "print('May ocean=',mk.yue_wang_modification_test(res_ocean.iloc[:,5]))\n"
   ]
  },
  {
   "cell_type": "code",
   "execution_count": 62,
   "id": "dcbc8996-d2d4-496c-8ffc-68c21463131c",
   "metadata": {},
   "outputs": [],
   "source": [
    "# NAO\n",
    "\n",
    "nao=pd.read_csv('/mnt/g/PhD/chapter_1/data/nao_winter.csv')"
   ]
  },
  {
   "cell_type": "code",
   "execution_count": 66,
   "id": "7f9256d7-731e-4c67-8250-68ba60dcee56",
   "metadata": {},
   "outputs": [],
   "source": [
    "# ANOMALIES CHLOROPHYLL-A\n",
    "\n",
    "fig,axs = plt.subplots(2, 1, figsize=(14,8),constrained_layout=True,sharex=True)\n",
    "axs=axs.flatten()\n",
    "axs[0].plot(res_coast.Date,res_coast.iloc[:,3],'s-',ms='6',label='March');\n",
    "axs[0].plot(res_coast.Date,res_coast.iloc[:,4],'.-',ms='12',label='April');\n",
    "axs[0].plot(res_coast.Date,res_coast.iloc[:,5],'^-',ms='8',label='May');\n",
    "axs[0].legend(title='Chl-a coast',ncol=3)\n",
    "axs[0].grid(ls='--')\n",
    "axs[0].set_xticks(years);\n",
    "axs[0].set_xticklabels([]);\n",
    "\n",
    "\n",
    "axs[1].plot(res_ocean.Date,res_ocean.iloc[:,3],'s-',ms='6',label='March');\n",
    "axs[1].plot(res_ocean.Date,res_ocean.iloc[:,4],'.-',ms='12',label='April');\n",
    "axs[1].plot(res_ocean.Date,res_ocean.iloc[:,5],'^-',ms='8',label='May');\n",
    "axs[1].legend(title='Chl-a offshore',loc='upper right',ncol=3,bbox_to_anchor=(1.01,1.1))\n",
    "axs[1].grid(ls='--')\n",
    "axs[1].set_xticks(years);\n",
    "axs[1].set_ylabel('Chl-a (mg/m³)');\n",
    "axs[1].set_xticks(res_ocean.Date,rotation=45);\n",
    "axs[1].set_xticklabels(years,rotation=45);"
   ]
  },
  {
   "cell_type": "code",
   "execution_count": 67,
   "id": "f69d323e-c5ac-49b6-bb7b-b6d7cb164abc",
   "metadata": {},
   "outputs": [],
   "source": [
    "# ANOMALIES CHLOROPHYLL-A WITH NAO\n",
    "\n",
    "fig,axs = plt.subplots(2, 1, figsize=(14,6),constrained_layout=True,sharex=True)\n",
    "axs=axs.flatten()\n",
    "pp1,=axs[0].plot(res_coast.Date,res_coast.iloc[:,3],'s-',ms='6',label='March');\n",
    "pp2,=axs[0].plot(res_coast.Date,res_coast.iloc[:,4],'.-',ms='12',label='April');\n",
    "pp3,=axs[0].plot(res_coast.Date,res_coast.iloc[:,5],'^-',ms='8',label='May');\n",
    "# axs[0].legend(title='Chl-a coast',ncol=3)\n",
    "axs[0].grid(ls='--')\n",
    "axs[0].set_xticks(years);\n",
    "axs[0].set_xticklabels([]);\n",
    "axs[0].text(0.005,0.88,'a)',weight='bold',transform=axs[0].transAxes)\n",
    "axs[0].text(0.03,0.875,'Coast',transform=axs[0].transAxes)\n",
    "\n",
    "twin1=axs[0].twinx()\n",
    "\n",
    "pp4,=twin1.plot(nao.Date[nao.Date<=2020],nao.NAO_DJF[nao.Date<=2020],'k',lw='0.5',label='NAO winter')\n",
    "# twin1.set_ylabel('NAO index')\n",
    "twin1.legend([pp1,pp2,pp3,pp4],['March','April','May','NAO winter'],ncol=4,loc='upper left',bbox_to_anchor=(0,1.3))\n",
    "twin1.grid(ls='dotted')\n",
    "\n",
    "pp5,=axs[1].plot(res_ocean.Date,res_ocean.iloc[:,3],'s-',ms='6',label='March');\n",
    "pp6,=axs[1].plot(res_ocean.Date,res_ocean.iloc[:,4],'.-',ms='12',label='April');\n",
    "pp7,=axs[1].plot(res_ocean.Date,res_ocean.iloc[:,5],'^-',ms='8',label='May');\n",
    "# axs[1].legend(title='Chl-a off shore',loc='upper right',ncol=3,bbox_to_anchor=(1.01,1.1))\n",
    "axs[1].grid(ls='--')\n",
    "axs[1].set_xticks(years);\n",
    "axs[1].set_ylabel('Chl-a anomalies (mg m$^{-3}$)',y=1);\n",
    "axs[1].text(0.005,0.88,'b)',weight='bold',transform=axs[1].transAxes)\n",
    "axs[1].text(0.03,0.875,'Offshore',transform=axs[1].transAxes)\n",
    "twin2=axs[1].twinx()\n",
    "axs[1].set_xticks(years,rotation=45);\n",
    "axs[1].set_xticklabels(years,rotation=45);\n",
    "\n",
    "pp8,=twin2.plot(nao.Date[nao.Date<=2020],nao.NAO_DJF[nao.Date<=2020],'k',lw='0.5',label='NAO winter')\n",
    "twin2.set_ylabel('NAO index')\n",
    "twin2.grid(ls='dotted')\n",
    "\n",
    "# pp9,=axs[2].plot(march_hplc_anom.Date.dt.year,march_hplc_anom.anomaly,'s-',ms='6',label='March');\n",
    "# pp10,=axs[2].plot(april_hplc_anom.Date.dt.year,april_hplc_anom.anomaly,'.-',ms='12',label='April');\n",
    "# pp11,=axs[2].plot(may_hplc_anom.Date.dt.year,may_hplc_anom.anomaly,'^-',ms='8',label='May');\n",
    "# # axs[2].legend(title='Chl-a HPLC',ncol=3)\n",
    "# axs[2].grid(ls='--')\n",
    "# axs[2].set_xticks(march_hplc_anom.Date.dt.year,rotation=45);\n",
    "# axs[2].set_xticklabels(years,rotation=45);\n",
    "# axs[2].text(0.01,0.85,'c) HRTS',transform=axs[2].transAxes)\n",
    "# twin3=axs[2].twinx()\n",
    "\n",
    "# pp12,=twin3.plot(nao.Date[(nao.Date>=2004) & (nao.Date<=2020)],nao.NAO_DJF[(nao.Date>=2004) & (nao.Date<=2020)],'k',lw='0.5',label='NAO winter')\n",
    "twin2.set_ylabel('NAO index',y=1)\n",
    "twin2.grid(ls='dotted')\n"
   ]
  },
  {
   "cell_type": "code",
   "execution_count": 68,
   "id": "07f29927-ab2a-4f3e-87d4-bc10e712ca39",
   "metadata": {},
   "outputs": [],
   "source": [
    "nao=nao[nao.Date<=2020]"
   ]
  },
  {
   "cell_type": "code",
   "execution_count": 69,
   "id": "27586b40-2051-4057-bf55-bc8ac60e94f0",
   "metadata": {},
   "outputs": [
    {
     "name": "stdout",
     "output_type": "stream",
     "text": [
      "0.9987245028289352\n",
      "0.9761108886515053\n",
      "0.48183512326856215\n",
      "0.9557204508006563\n",
      "0.996060401985272\n",
      "0.9408544676853097\n"
     ]
    }
   ],
   "source": [
    "# CORRELATION ANOMALIES NAO\n",
    "\n",
    "print(sp.stats.pearsonr((res_ocean.iloc[8:11,3]),(nao.NAO_DJF[8:11]))[0]) # March\n",
    "print(sp.stats.pearsonr((res_ocean.iloc[8:11,4]),(nao.NAO_DJF[8:11]))[0]) # April\n",
    "print(sp.stats.pearsonr((res_ocean.iloc[8:11,5]),(nao.NAO_DJF[8:11]))[0]) # May\n",
    "\n",
    "print(sp.stats.pearsonr((res_coast.iloc[8:11,3]),(nao.NAO_DJF[8:11]))[0]) # March\n",
    "print(sp.stats.pearsonr((res_coast.iloc[8:11,4]),(nao.NAO_DJF[8:11]))[0]) # April\n",
    "print(sp.stats.pearsonr((res_coast.iloc[8:11,5]),(nao.NAO_DJF[8:11]))[0]) # May"
   ]
  },
  {
   "cell_type": "code",
   "execution_count": 73,
   "id": "342056e4-2217-415d-a4fc-ec6719b74f82",
   "metadata": {},
   "outputs": [
    {
     "data": {
      "text/plain": [
       "Text(-0.2, 0.26, 'Ocean')"
      ]
     },
     "execution_count": 73,
     "metadata": {},
     "output_type": "execute_result"
    }
   ],
   "source": [
    "fig,axs = plt.subplots(2, 1, figsize=(14,6),constrained_layout=True,sharex=True)\n",
    "axs=axs.flatten()\n",
    "axs[0].plot(res_coast.index,res_coast.iloc[:,8],'s-',ms='6',label='August');\n",
    "axs[0].plot(res_coast.index,res_coast.iloc[:,9],'.-',ms='12',label='September');\n",
    "axs[0].plot(res_coast.index,res_coast.iloc[:,10],'^-',ms='8',label='October');\n",
    "axs[0].legend(ncol=3)\n",
    "axs[0].grid(ls='--')\n",
    "axs[0].set_xticks(res_ocean.index);\n",
    "axs[0].text(-1,1.1,'a)',weight='bold')\n",
    "axs[0].text(-0.2,1.1,'Coastal')\n",
    "\n",
    "axs[1].plot(res_ocean.index,res_ocean.iloc[:,8],'s-',ms='6',label='August');\n",
    "axs[1].plot(res_ocean.index,res_ocean.iloc[:,9],'.-',ms='12',label='September');\n",
    "axs[1].plot(res_ocean.index,res_ocean.iloc[:,10],'^-',ms='8',label='October');\n",
    "#axs[1].legend(title='Ocean',ncol=3)\n",
    "axs[1].grid(ls='--')\n",
    "axs[1].set_xticks(res_coast.index,years,rotation=45);\n",
    "axs[1].set_ylabel('Chl-a anomalies (mg/m³)',y=1);\n",
    "axs[1].text(-1,0.26,'b)',weight='bold')\n",
    "axs[1].text(-0.2,0.26,'Ocean')"
   ]
  },
  {
   "cell_type": "code",
   "execution_count": 74,
   "id": "cd2a7c60-5d5e-45e6-942a-1744834a250c",
   "metadata": {},
   "outputs": [
    {
     "name": "stdout",
     "output_type": "stream",
     "text": [
      "August coast= Seasonal_Mann_Kendall_Test(trend='no trend', h=False, p=0.5464935954065819, z=0.6030226891555273, Tau=0.2727272727272727, s=3.0, var_s=11.0, slope=0.15023855865001678, intercept=-0.16004756403466064)\n",
      "September coast= Seasonal_Mann_Kendall_Test(trend='no trend', h=False, p=1.0, z=0.0, Tau=-0.09090909090909091, s=-1.0, var_s=11.0, slope=-0.06846732646226883, intercept=0.09320016888280709)\n",
      "October coast= Seasonal_Mann_Kendall_Test(trend='no trend', h=False, p=0.5464935954065819, z=-0.6030226891555273, Tau=-0.2727272727272727, s=-3.0, var_s=11.0, slope=-0.054622020572423935, intercept=0.05976745331039031)\n",
      "August ocean= Seasonal_Mann_Kendall_Test(trend='no trend', h=False, p=1.0, z=0.0, Tau=0.09090909090909091, s=1.0, var_s=11.0, slope=0.03180208057165146, intercept=-0.03462375560775399)\n",
      "September ocean= Seasonal_Mann_Kendall_Test(trend='no trend', h=False, p=1.0, z=0.0, Tau=0.09090909090909091, s=1.0, var_s=11.0, slope=0.02133457362651825, intercept=-0.03143155916283528)\n",
      "October ocean= Seasonal_Mann_Kendall_Test(trend='no trend', h=False, p=1.0, z=0.0, Tau=0.09090909090909091, s=1.0, var_s=11.0, slope=0.0021710461005568504, intercept=0.00689145262974004)\n"
     ]
    }
   ],
   "source": [
    "print('August coast=',mk.seasonal_test(res_coast.iloc[:,8]))\n",
    "print('September coast=',mk.seasonal_test(res_coast.iloc[:,9]))\n",
    "print('October coast=',mk.seasonal_test(res_coast.iloc[:,10]))\n",
    "\n",
    "print('August ocean=',mk.seasonal_test(res_ocean.iloc[:,8]))\n",
    "print('September ocean=',mk.seasonal_test(res_ocean.iloc[:,9]))\n",
    "print('October ocean=',mk.seasonal_test(res_ocean.iloc[:,10]))\n",
    "\n"
   ]
  },
  {
   "cell_type": "markdown",
   "id": "7175d651-a67d-476e-9e53-609590bc1b08",
   "metadata": {},
   "source": [
    "# HISTOGRAMS"
   ]
  },
  {
   "cell_type": "code",
   "execution_count": 75,
   "id": "acb4561f-d2cf-4fd4-adf6-65cce665d71b",
   "metadata": {},
   "outputs": [],
   "source": [
    "# ANOMALIES\n",
    "\n",
    "res_coast_early=res_coast[res_coast.Date<2010].copy()\n",
    "res_coast_late=res_coast[res_coast.Date>=2010].copy()\n",
    "res_ocean_early=res_ocean[res_ocean.Date<2010].copy()\n",
    "res_ocean_late=res_ocean[res_ocean.Date>=2010].copy()\n",
    "\n",
    "# march_hplc_anom_early=march_hplc_anom[march_hplc_anom.Date.dt.year<2010].copy()\n",
    "# april_hplc_anom_early=april_hplc_anom[april_hplc_anom.Date.dt.year<2010].copy()\n",
    "# may_hplc_anom_early=may_hplc_anom[may_hplc_anom.Date.dt.year<2010].copy()\n",
    "\n",
    "# march_hplc_anom_late=march_hplc_anom[march_hplc_anom.Date.dt.year>=2010].copy()\n",
    "# april_hplc_anom_late=april_hplc_anom[april_hplc_anom.Date.dt.year>=2010].copy()\n",
    "# may_hplc_anom_late=may_hplc_anom[may_hplc_anom.Date.dt.year>=2010].copy()\n",
    "\n"
   ]
  },
  {
   "cell_type": "code",
   "execution_count": 76,
   "id": "6c799699-8ec3-4440-8812-d76b5710f457",
   "metadata": {},
   "outputs": [
    {
     "data": {
      "text/plain": [
       "Text(-0.1, 0, 'Chl-a anomalies (mg m$^{-3}$)')"
      ]
     },
     "execution_count": 76,
     "metadata": {},
     "output_type": "execute_result"
    }
   ],
   "source": [
    "fig,axs=plt.subplots(3,2,constrained_layout=True,figsize=(12,9.5))\n",
    "\n",
    "axs=axs.flatten()\n",
    "\n",
    "sns.kdeplot(ax=axs[0],x=res_coast_early.iloc[:,3],fill=True,lw=3,label='1998-2009')\n",
    "sns.kdeplot(ax=axs[0],x=res_coast_late.iloc[:,3],fill=True,lw=3,label='2010-2020')\n",
    "axs[0].grid(ls='--')\n",
    "axs[0].set_xlabel(None)\n",
    "axs[0].set_ylabel(None)\n",
    "axs[0].legend(title='Coast',ncol=2,bbox_to_anchor=(1,1.45))\n",
    "axs[0].text(1.3,0.70,'March')\n",
    "axs[0].text(0.01,0.87,'a)',weight='bold',transform=axs[0].transAxes)\n",
    "\n",
    "sns.kdeplot(ax=axs[1],x=res_ocean_early.iloc[:,3],fill=True,lw=3,label='1998-2009')\n",
    "sns.kdeplot(ax=axs[1],x=res_ocean_late.iloc[:,3],fill=True,lw=3,label='2010-2020')\n",
    "axs[1].grid(ls='--')\n",
    "axs[1].set_xlabel(None)\n",
    "axs[1].set_ylabel(None)\n",
    "axs[1].legend(title='Offshore',ncol=2,bbox_to_anchor=(1,1.45))\n",
    "axs[1].text(0.01,0.87,'b)',weight='bold',transform=axs[1].transAxes)\n",
    "\n",
    "sns.kdeplot(ax=axs[2],x=res_coast_early.iloc[:,4],fill=True,lw=3,label='1998-2009')\n",
    "sns.kdeplot(ax=axs[2],x=res_coast_late.iloc[:,4],fill=True,lw=3,label='2010-2020')\n",
    "axs[2].grid(ls='--')\n",
    "axs[2].set_xlabel(None)\n",
    "axs[2].set_ylabel('PDF')\n",
    "# axs[2].legend(title='Coast April')\n",
    "axs[2].text(3.6,0.42,'April')\n",
    "axs[2].text(0.01,0.87,'c)',weight='bold',transform=axs[2].transAxes)\n",
    "\n",
    "sns.kdeplot(ax=axs[3],x=res_ocean_early.iloc[:,4],fill=True,lw=3,label='1998-2009')\n",
    "sns.kdeplot(ax=axs[3],x=res_ocean_late.iloc[:,4],fill=True,lw=3,label='2010-2020')\n",
    "axs[3].grid(ls='--')\n",
    "axs[3].set_xlabel(None)\n",
    "axs[3].set_ylabel(None)\n",
    "# axs[3].legend(title='Off shore April')\n",
    "axs[3].text(0.01,0.87,'d)',weight='bold',transform=axs[3].transAxes)\n",
    "\n",
    "sns.kdeplot(ax=axs[4],x=res_coast_early.iloc[:,5],fill=True,lw=3,label='1998-2009')\n",
    "sns.kdeplot(ax=axs[4],x=res_coast_late.iloc[:,5],fill=True,lw=3,label='2010-2020')\n",
    "axs[4].grid(ls='--')\n",
    "axs[4].set_xlabel(None)\n",
    "axs[4].set_ylabel(None)\n",
    "# axs[4].legend(title='Coast April')\n",
    "axs[4].text(3,0.6,'May')\n",
    "axs[4].text(0.01,0.87,'e)',weight='bold',transform=axs[4].transAxes)\n",
    "\n",
    "sns.kdeplot(ax=axs[5],x=res_ocean_early.iloc[:,5],fill=True,lw=3,label='1998-2009')\n",
    "sns.kdeplot(ax=axs[5],x=res_ocean_late.iloc[:,5],fill=True,lw=3,label='2010-2020')\n",
    "axs[5].grid(ls='--')\n",
    "axs[5].set_xlabel(None)\n",
    "axs[5].set_ylabel(None)\n",
    "# axs[5].legend(title='Off shore April')\n",
    "axs[5].text(0.01,0.87,'f)',weight='bold',transform=axs[5].transAxes)\n",
    "\n",
    "plt.xlabel('Chl-a anomalies (mg m$^{-3}$)',x=-0.1)"
   ]
  },
  {
   "cell_type": "code",
   "execution_count": 78,
   "id": "b8b759cb-4c5f-4ccb-9f53-44e1d419c5bc",
   "metadata": {},
   "outputs": [
    {
     "data": {
      "text/plain": [
       "Text(-0.1, 0, 'Chl-a anomalies (mg m$^{-3}$)')"
      ]
     },
     "execution_count": 78,
     "metadata": {},
     "output_type": "execute_result"
    }
   ],
   "source": [
    "# February\n",
    "\n",
    "fig,axs=plt.subplots(1,2,constrained_layout=True,figsize=(12,5.5))\n",
    "\n",
    "axs=axs.flatten()\n",
    "\n",
    "sns.kdeplot(ax=axs[0],x=res_coast_early.iloc[:,2],fill=True,lw=3,label='1998-2009')\n",
    "sns.kdeplot(ax=axs[0],x=res_coast_late.iloc[:,2],fill=True,lw=3,label='2010-2020')\n",
    "axs[0].grid(ls='--')\n",
    "axs[0].set_xlabel(None)\n",
    "axs[0].set_ylabel('PDF')\n",
    "axs[0].legend(title='Coast',ncol=2,bbox_to_anchor=(1,1.3))\n",
    "axs[0].text(0.95,1.7,'February')\n",
    "axs[0].text(0.01,0.87,'a)',weight='bold',transform=axs[0].transAxes)\n",
    "\n",
    "sns.kdeplot(ax=axs[1],x=res_ocean_early.iloc[:,2],fill=True,lw=3,label='1998-2009')\n",
    "sns.kdeplot(ax=axs[1],x=res_ocean_late.iloc[:,2],fill=True,lw=3,label='2010-2020')\n",
    "axs[1].grid(ls='--')\n",
    "axs[1].set_xlabel(None)\n",
    "axs[1].set_ylabel(None)\n",
    "axs[1].legend(title='Offshore',ncol=2,bbox_to_anchor=(1,1.3))\n",
    "axs[1].text(0.01,0.87,'b)',weight='bold',transform=axs[1].transAxes)\n",
    "\n",
    "plt.xlabel('Chl-a anomalies (mg m$^{-3}$)',x=-0.1)"
   ]
  },
  {
   "cell_type": "code",
   "execution_count": 79,
   "id": "c74ade3d-4959-4c12-b7f1-3e16deeb5026",
   "metadata": {},
   "outputs": [
    {
     "data": {
      "text/plain": [
       "Text(-0.1, 0, 'mg/m³')"
      ]
     },
     "execution_count": 79,
     "metadata": {},
     "output_type": "execute_result"
    }
   ],
   "source": [
    "fig,axs=plt.subplots(1,2,constrained_layout=True,figsize=(11,5))\n",
    "sns.kdeplot(ax=axs[0],x=sat_coast.CHL[sat_coast.time.dt.year<2010],fill=True,lw=3,label='1998-2009')\n",
    "sns.kdeplot(ax=axs[0],x=sat_coast.CHL[sat_coast.time.dt.year>=2010],fill=True,lw=3,label='2010-2020')\n",
    "axs[0].grid(ls='--')\n",
    "axs[0].set_xlabel(None)\n",
    "axs[0].set_ylabel('PDF')\n",
    "axs[0].legend(title='SAT Coast')\n",
    "\n",
    "sns.kdeplot(ax=axs[1],x=sat_ocean.CHL[sat_ocean.time.dt.year<2010],fill=True,lw=3,label='1998-2009')\n",
    "sns.kdeplot(ax=axs[1],x=sat_ocean.CHL[sat_ocean.time.dt.year>=2010],fill=True,lw=3,label='2010-2020')\n",
    "axs[1].grid(ls='--')\n",
    "axs[1].set_xlabel(None)\n",
    "axs[1].set_ylabel(None)\n",
    "axs[1].legend(title='SAT Off shore')\n",
    "\n",
    "plt.xlabel('mg/m³',x=-0.1)"
   ]
  },
  {
   "cell_type": "markdown",
   "id": "65877c9a-dbb5-4d63-9350-e3d9504679e9",
   "metadata": {},
   "source": [
    "# MAXIMUM CHL MONTH"
   ]
  },
  {
   "cell_type": "code",
   "execution_count": 82,
   "id": "17fc457f-e2d7-4c09-ae7a-ae3bb7a26ae8",
   "metadata": {},
   "outputs": [],
   "source": [
    "chl_clim = chl_clim.rename({'month': 'time'})"
   ]
  },
  {
   "cell_type": "code",
   "execution_count": 83,
   "id": "631df55a-8b58-4fad-818a-2f72d7a1443c",
   "metadata": {},
   "outputs": [],
   "source": [
    "# CLIMATOLOGY\n",
    "\n",
    "max_month_clim=chl_clim.idxmax(dim='time').to_dataframe().reset_index(drop=False)\n",
    "\n"
   ]
  },
  {
   "cell_type": "code",
   "execution_count": 84,
   "id": "b7d206c6-eee3-489a-b5af-5f2a289791dc",
   "metadata": {},
   "outputs": [],
   "source": [
    "pv_max_month_clim= pd.pivot_table(max_month_clim, index=max_month_clim.lat, columns=max_month_clim.lon,values='time')\n"
   ]
  },
  {
   "cell_type": "code",
   "execution_count": 85,
   "id": "180a62f5-cb8c-4999-9224-8d05c3a42c5f",
   "metadata": {},
   "outputs": [],
   "source": [
    "import matplotlib.colors as clb\n",
    "\n",
    "X, Y = np.meshgrid(pv_max_month_clim.columns,pv_max_month_clim.index)\n",
    "cmap = clb.ListedColormap(['b','aquamarine','lightseagreen','silver','purple','yellow',\n",
    "                           'greenyellow','darkolivegreen','darksalmon','magenta','maroon','r'])\n",
    "bounds=np.arange(1,13)\n",
    "ticks = [1,2,3,4,5,6,7,8,9,10,11,12]\n"
   ]
  },
  {
   "cell_type": "code",
   "execution_count": 86,
   "id": "929ca98a-aa61-4909-9854-6f8d20bc0355",
   "metadata": {},
   "outputs": [],
   "source": [
    "xx,yy = np.meshgrid(ds_bat.lon, ds_bat.lat)"
   ]
  },
  {
   "cell_type": "code",
   "execution_count": 87,
   "id": "d4593406-1bee-4f01-a9e7-7a9738a0414b",
   "metadata": {},
   "outputs": [
    {
     "data": {
      "text/plain": [
       "[Text(-456409.9122524203, 0, '3'),\n",
       " Text(-122451.43987259835, 0, '6'),\n",
       " Text(211507.03250722372, 0, '9')]"
      ]
     },
     "execution_count": 87,
     "metadata": {},
     "output_type": "execute_result"
    }
   ],
   "source": [
    "fig=plt.figure(figsize=(14,8),constrained_layout=True)\n",
    "ax=plt.axes(projection=ccrs.Mercator(central_longitude=7.1))\n",
    "\n",
    "img=plt.pcolormesh(X,Y,pv_max_month_clim.values,shading='auto', cmap=cmap,transform=ccrs.PlateCarree())\n",
    "plt.clim([1,12])\n",
    "cbar=plt.colorbar(orientation='horizontal', ticks = ticks,shrink=0.59,pad=0.01)\n",
    "tick_locs = (bounds + 0.5)*(12-1)/12\n",
    "cbar.set_ticks(tick_locs,shrink=0.59,pad=0.01)\n",
    "cbar.set_ticklabels(['J','F','M','A','M','J','J','A','S','O','N','D'])\n",
    "CS=ax.contour(xx,yy,ds_bat,levels=[-30], colors='black',linestyles=['dashed'],transform=ccrs.PlateCarree())\n",
    "#CS1=ax.contour(xx,yy,ds_bat,levels=[-10], colors='grey',linestyles=['dashed'],transform=ccrs.PlateCarree())\n",
    "plt.xlabel('Longitude (°)')\n",
    "plt.ylabel('Latitude (°)')\n",
    "ax.add_feature(cfeature.LAND, facecolor='grey')\n",
    "ax.coastlines()\n",
    "ax.set_yticks([ 53, 54,55,56], crs=ccrs.PlateCarree()) # -90, -60, -30,\n",
    "ax.set_xticks([3, 6, 9], crs=ccrs.PlateCarree())\n",
    "ax.set_yticklabels([53, 54,55,56]) # -90, -60, -30\n",
    "ax.set_xticklabels([3, 6, 9]) # 3, 6, 9"
   ]
  },
  {
   "cell_type": "code",
   "execution_count": null,
   "id": "6b4b172c-b161-48d6-9f82-d16f44a35bf7",
   "metadata": {},
   "outputs": [],
   "source": []
  },
  {
   "cell_type": "markdown",
   "id": "74f45ea3-216b-4a74-9b2c-7a46ad2d83b8",
   "metadata": {},
   "source": [
    "# CORRELATION"
   ]
  },
  {
   "cell_type": "code",
   "execution_count": 89,
   "id": "05eb8961-07ed-4c0b-8a4b-1371e601693c",
   "metadata": {},
   "outputs": [],
   "source": [
    "# Monthly climatology and anomaly\\n\",\n",
    "chl_clim = ds_chl.groupby('time.month').mean(dim='time')\n",
    "#chl_mean = ds_month.mean(dim='time')\n",
    "#chl_std = ds_month.std(dim='time')\n",
    "chl_anomalies = ds_chl.groupby('time.month') - chl_clim\n",
    "#chl_anom_mean = chl_anomalies.mean(dim='time')\n",
    "#chl_anom_std = chl_anomalies.std(dim='time')\n"
   ]
  },
  {
   "cell_type": "code",
   "execution_count": 90,
   "id": "97244661-b5f3-4dbe-bbe4-33f71676b581",
   "metadata": {
    "tags": []
   },
   "outputs": [],
   "source": [
    "sst_clim = ds_sst.groupby('time.month').mean(dim='time')\n",
    "#sst_mean = ds_sst.mean(dim='time')\n",
    "#sst_std = ds_sst.std(dim='time')\n",
    "sst_anomalies = ds_sst.groupby('time.month') - sst_clim\n",
    "sst_anom_mean = sst_anomalies.mean(dim='time')\n",
    "#sst_anom_std = sst_anomalies.std(dim='time')\n"
   ]
  },
  {
   "cell_type": "code",
   "execution_count": 91,
   "id": "b93c8539-ffc6-43e8-8ae3-a32aac8ee2aa",
   "metadata": {},
   "outputs": [],
   "source": [
    "mld_clim = ds_mld.groupby('time.month').mean(dim='time')\n",
    "#mld_mean = ds_mld.mean(dim='time')\n",
    "#mld_std = ds_mld.std(dim='time')\n",
    "mld_anomalies = ds_mld.groupby('time.month') - mld_clim\n",
    "#mld_anom_mean = mld_anomalies.mean(dim='time')\n",
    "#mld_anom_std = mld_anomalies.std(dim='time')"
   ]
  },
  {
   "cell_type": "code",
   "execution_count": 92,
   "id": "5ac39242-b5af-430f-83d6-97dc2bf050b5",
   "metadata": {},
   "outputs": [],
   "source": [
    "sst_time_mean=sst_anomalies.mean(dim=['lat','lon'])"
   ]
  },
  {
   "cell_type": "code",
   "execution_count": 93,
   "id": "0366ec9c-e8f7-4db2-9178-5debdbd188d4",
   "metadata": {},
   "outputs": [],
   "source": [
    "sst_time_mean=sst_time_mean.to_dataframe().reset_index(drop=False)"
   ]
  },
  {
   "cell_type": "code",
   "execution_count": 94,
   "id": "2f28a4f4-c374-456a-9cde-306a7661b835",
   "metadata": {},
   "outputs": [],
   "source": [
    "chl_time_mean=chl_anomalies.mean(dim=['lat','lon'])"
   ]
  },
  {
   "cell_type": "code",
   "execution_count": 95,
   "id": "d990d42b-93c0-41aa-836d-41654aa2796d",
   "metadata": {},
   "outputs": [],
   "source": [
    "chl_time_mean=chl_time_mean.to_dataframe().reset_index(drop=False)"
   ]
  },
  {
   "cell_type": "code",
   "execution_count": 96,
   "id": "29f5ea86-8f31-43c1-bdf5-94a857e9477c",
   "metadata": {},
   "outputs": [],
   "source": [
    "mld_time_mean=mld_anomalies.mean(dim=['lat','lon'])"
   ]
  },
  {
   "cell_type": "code",
   "execution_count": 97,
   "id": "df049e6f-0d3d-487f-aca8-37b558ee680f",
   "metadata": {},
   "outputs": [],
   "source": [
    "mld_time_mean=mld_time_mean.to_dataframe().reset_index(drop=False)"
   ]
  },
  {
   "cell_type": "code",
   "execution_count": 98,
   "id": "6e9ef011-d166-4913-ba64-7fc70f3bc88d",
   "metadata": {},
   "outputs": [],
   "source": [
    "# Correlation\n",
    "\n",
    "result_cor=[]\n",
    "p_value=[]\n",
    "result_cor1=[]\n",
    "p_value1=[]\n",
    "result_cor2=[]\n",
    "p_value2=[]\n",
    "result_cor3=[]\n",
    "p_value3=[]\n",
    "\n",
    "for lat in range(0,len(chl_anomalies.lat)):\n",
    "    for lon in range(0,len(chl_anomalies.lon)):\n",
    "#        try:\n",
    "        slope, intercept, r_value, pp, std_err = sp.stats.linregress(mld_anomalies[:,lat,lon],chl_anomalies[:,lat,lon]) # MLD\n",
    "        slope1, intercept1, r_value1, pp1, std_err1 = sp.stats.linregress(sst_anomalies[:,lat,lon],chl_anomalies[:,lat,lon]) # SST\n",
    "        slope2, intercept2, r_value2, pp2, std_err2 = sp.stats.linregress(mld_anomalies[0:-1,lat,lon],chl_anomalies[1:,lat,lon]) # MLD shift\n",
    "        slope3, intercept3, r_value3, pp3, std_err3 = sp.stats.linregress(sst_anomalies[0:-1,lat,lon],chl_anomalies[1:,lat,lon]) # SST shift          \n",
    "#        except ZeroDivisionError:\n",
    "#            r_value = np.nan  # MLD\n",
    "#            r_value1 = np.nan # SST\n",
    "#            r_value2 = np.nan  # MLD shift\n",
    "#            r_value3 = np.nan  # SST shift          \n",
    "#            pp = np.nan  # MLD\n",
    "#            pp1 = np.nan  # SST\n",
    "#            pp2 = np.nan  # MLD shift\n",
    "#            pp3 = np.nan  # SST shift            \n",
    "        #print(lat,lon)\n",
    "        result_cor.append((r_value, float(chl_anomalies.lat[lat]), float(chl_anomalies.lon[lon]))) # MLD\n",
    "        p_value.append((pp, float(chl_anomalies.lat[lat]), float(chl_anomalies.lon[lon])))\n",
    "        result_cor1.append((r_value1, float(chl_anomalies.lat[lat]), float(chl_anomalies.lon[lon]))) # SST\n",
    "        p_value1.append((pp1, float(chl_anomalies.lat[lat]), float(chl_anomalies.lon[lon]))) \n",
    "\n",
    "        result_cor2.append((r_value2, float(chl_anomalies.lat[lat]), float(chl_anomalies.lon[lon]))) # MLD shift\n",
    "        p_value2.append((pp2, float(chl_anomalies.lat[lat]), float(chl_anomalies.lon[lon])))\n",
    "        result_cor3.append((r_value3, float(chl_anomalies.lat[lat]), float(chl_anomalies.lon[lon]))) # SST shift\n",
    "        p_value3.append((pp3, float(chl_anomalies.lat[lat]), float(chl_anomalies.lon[lon]))) \n",
    "\n",
    "\n",
    "result_cor=pd.DataFrame(result_cor, columns=('correlation', 'lat', 'lon'))\n",
    "p_value=pd.DataFrame(p_value, columns=('p_value', 'lat', 'lon'))\n",
    "\n",
    "result_cor1=pd.DataFrame(result_cor1, columns=('correlation', 'lat', 'lon'))\n",
    "p_value1=pd.DataFrame(p_value1, columns=('p_value', 'lat', 'lon'))\n",
    "\n",
    "result_cor2=pd.DataFrame(result_cor2, columns=('correlation', 'lat', 'lon'))\n",
    "p_value2=pd.DataFrame(p_value2, columns=('p_value', 'lat', 'lon'))\n",
    "\n",
    "result_cor3=pd.DataFrame(result_cor3, columns=('correlation', 'lat', 'lon'))\n",
    "p_value3=pd.DataFrame(p_value3, columns=('p_value', 'lat', 'lon'))\n"
   ]
  },
  {
   "cell_type": "code",
   "execution_count": 99,
   "id": "18975878-3da8-418e-b4c4-0e197d5fd548",
   "metadata": {},
   "outputs": [],
   "source": [
    "chl_mld_cor=pd.DataFrame(result_cor)\n",
    "chl_mld_cor_pvalue=pd.DataFrame(p_value)\n",
    "\n",
    "chl_sst_cor=pd.DataFrame(result_cor1)\n",
    "chl_sst_cor_pvalue=pd.DataFrame(p_value1)"
   ]
  },
  {
   "cell_type": "code",
   "execution_count": 100,
   "id": "4ea9ff1d-3a79-4588-b666-a023c840c382",
   "metadata": {},
   "outputs": [],
   "source": [
    "chl_mld_cor_lag1=pd.DataFrame(result_cor2)\n",
    "chl_mld_cor_pvalue_lag1=pd.DataFrame(p_value2)\n",
    "\n",
    "chl_sst_cor_lag1=pd.DataFrame(result_cor3)\n",
    "chl_sst_cor_pvalue_lag1=pd.DataFrame(p_value3)"
   ]
  },
  {
   "cell_type": "code",
   "execution_count": null,
   "id": "b1025da3-d0a8-4653-91a6-ac5e64f9dfd7",
   "metadata": {},
   "outputs": [],
   "source": [
    "chl_mld_cor=pd.read_csv('/mnt/g/PhD/chapter_1/globcolour_daily/correlation_chl_mld.csv')\n",
    "chl_mld_cor_pvalue=pd.read_csv('/mnt/g/PhD/chapter_1/globcolour_daily/p_value_correlation_chl_mld.csv')\n",
    "\n",
    "chl_sst_cor=pd.read_csv('/mnt/g/PhD/chapter_1/globcolour_daily/correlation_chl_sst.csv')\n",
    "chl_sst_cor_pvalue=pd.read_csv('/mnt/g/PhD/chapter_1/globcolour_daily/p_value_correlation_chl_sst.csv')"
   ]
  },
  {
   "cell_type": "code",
   "execution_count": null,
   "id": "49cc1279-d827-4f62-a68d-0397a6e6f820",
   "metadata": {},
   "outputs": [],
   "source": [
    "pv_chl_mld_cor= pd.pivot_table(chl_mld_cor, index=chl_mld_cor.lat, columns=chl_mld_cor.lon,values='correlation')"
   ]
  },
  {
   "cell_type": "code",
   "execution_count": null,
   "id": "bc09cf1b-b2de-486a-bf02-b68f2df7c26c",
   "metadata": {},
   "outputs": [],
   "source": [
    "pv_chl_sst_cor= pd.pivot_table(chl_sst_cor, index=chl_sst_cor.lat, columns=chl_sst_cor.lon,values='correlation')"
   ]
  },
  {
   "cell_type": "code",
   "execution_count": null,
   "id": "00b0fbb4-611f-4fc8-ab89-fdf932f51844",
   "metadata": {},
   "outputs": [],
   "source": [
    "chl_mld_cor_lag1=pd.read_csv('/mnt/g/PhD/chapter_1/globcolour_daily/correlation_chl_mld_1_lag.csv')\n",
    "chl_mld_cor_pvalue_lag1=pd.read_csv('/mnt/g/PhD/chapter_1/globcolour_daily/p_value_correlation_chl_mld_1_lag.csv')\n",
    "\n",
    "chl_sst_cor_lag1=pd.read_csv('/mnt/g/PhD/chapter_1/globcolour_daily/correlation_chl_sst_1_lag.csv')\n",
    "chl_sst_cor_pvalue_lag1=pd.read_csv('/mnt/g/PhD/chapter_1/globcolour_daily/p_value_correlation_chl_sst_1_lag.csv')"
   ]
  },
  {
   "cell_type": "code",
   "execution_count": null,
   "id": "a20f64da-ef1c-4382-995b-37146d864bc2",
   "metadata": {},
   "outputs": [],
   "source": [
    "pv_chl_mld_cor_lag1= pd.pivot_table(chl_mld_cor_lag1, index=chl_mld_cor_lag1.lat, columns=chl_mld_cor_lag1.lon,values='correlation')"
   ]
  },
  {
   "cell_type": "code",
   "execution_count": null,
   "id": "19a4263b-b879-4953-a461-50a30ce273fb",
   "metadata": {},
   "outputs": [],
   "source": [
    "pv_chl_sst_cor_lag1= pd.pivot_table(chl_sst_cor_lag1, index=chl_sst_cor_lag1.lat, columns=chl_sst_cor_lag1.lon,values='correlation')"
   ]
  },
  {
   "cell_type": "code",
   "execution_count": null,
   "id": "5f2ffd67-667e-49e8-a780-72476abddc5f",
   "metadata": {},
   "outputs": [],
   "source": [
    "X1, Y1 = np.meshgrid(pv_chl_mld_cor.columns,pv_chl_mld_cor.index)"
   ]
  },
  {
   "cell_type": "code",
   "execution_count": null,
   "id": "67173b08-f722-4bbb-ac78-277c8e4d2210",
   "metadata": {},
   "outputs": [],
   "source": [
    "X2, Y2 = np.meshgrid(pv_chl_sst_cor.columns,pv_chl_sst_cor.index)"
   ]
  },
  {
   "cell_type": "code",
   "execution_count": null,
   "id": "9665869a-2424-443a-b0c7-1f31d1d30951",
   "metadata": {},
   "outputs": [],
   "source": [
    "X3, Y3 = np.meshgrid(ds_bat_all.lon,ds_bat_all.lat)"
   ]
  },
  {
   "cell_type": "code",
   "execution_count": null,
   "id": "e06d2b14-cc2d-4660-a02e-b75411476da6",
   "metadata": {},
   "outputs": [],
   "source": [
    "# Define the figure and each axis for the 1 rows and 2 columns\n",
    "fig, axs = plt.subplots(nrows=2,ncols=2,\n",
    "                        subplot_kw={'projection': ccrs.Mercator(central_longitude=7.1)},\n",
    "                        figsize=(13,9),sharey=True,sharex=True)\n",
    "divnorm = mclr.TwoSlopeNorm(vmin=-0.4, vcenter=0, vmax=0.4)\n",
    "# divnorm = mclr.TwoSlopeNorm(vmin=-1, vcenter=0, vmax=1)\n",
    "# axs is a 2 dimensional array of `GeoAxes`.  We will flatten it into a 1-D array\n",
    "axs=axs.flatten()\n",
    "\n",
    "fig.subplots_adjust(bottom=0.1, top=0.98, left=0.08, right=0.99,\n",
    "                    wspace=0.1, hspace=0.05)\n",
    "\n",
    "img=axs[0].contourf(X2,Y2,pv_chl_sst_cor.values,norm=divnorm,cmap='seismic',\n",
    "                                    levels=list(np.arange(-0.4,0.5,0.1)),transform=ccrs.PlateCarree())#\n",
    "axs[0].set_yticks([53, 54,55,56], crs=ccrs.PlateCarree()) # -90, -60, -30,\n",
    "axs[0].set_xticks([3, 6, 9], crs=ccrs.PlateCarree())\n",
    "axs[0].set_xlabel(None)\n",
    "axs[0].set_ylabel('Latitude (°)',y=0)\n",
    "axs[0].plot(chl_sst_cor_pvalue.lon[chl_sst_cor_pvalue.p_value<=0.05],\n",
    "        chl_sst_cor_pvalue.lat[chl_sst_cor_pvalue.p_value<=0.05],\n",
    "        'ko',transform=ccrs.PlateCarree(),markersize=1)\n",
    "CS30=axs[0].contour(X3,Y3,ds_bat_all,levels=[-30], colors='k',linestyles='dashed',lw=1,transform=ccrs.PlateCarree())\n",
    "CS5=axs[0].contour(X2,Y2,pv_chl_sst_cor,levels=[0.5], colors='k',linestyles='solid',transform=ccrs.PlateCarree())\n",
    "axs[0].add_feature(cfeature.LAND, facecolor='grey')\n",
    "axs[0].coastlines()\n",
    "axs[0].set_yticks([53, 54,55,56], crs=ccrs.PlateCarree()) # -90, -60, -30\n",
    "axs[0].set_xticks([3, 6, 9], crs=ccrs.PlateCarree())\n",
    "axs[0].set_yticklabels([53, 54,55,56]) # -90, -60, -30\n",
    "axs[0].set_xticklabels([])# 3, 6, 9    \n",
    "axs[0].text(2.4,56.05,'a)',weight='bold',transform=ccrs.PlateCarree())# 3, 6, 9 \n",
    "axs[0].text(7.5,53.06,'Chl-a|SST',weight='bold',transform=ccrs.PlateCarree())# 3, 6, 9\n",
    "\n",
    "img2=axs[1].contourf(X2,Y2,pv_chl_sst_cor_lag1.values,norm=divnorm,cmap='seismic',\n",
    "                                    levels=list(np.arange(-0.4,0.5,0.1)),transform=ccrs.PlateCarree())#np.arange(-1,1.1,0.2)\n",
    "axs[1].set_yticks([53, 54,55,56], crs=ccrs.PlateCarree()) # -90, -60, -30,\n",
    "axs[1].set_xticks([3, 6, 9], crs=ccrs.PlateCarree())\n",
    "axs[1].set_xlabel(None)\n",
    "axs[1].set_ylabel(None)\n",
    "axs[1].plot(chl_sst_cor_pvalue_lag1.lon[chl_sst_cor_pvalue_lag1.p_value<=0.05],\n",
    "        chl_sst_cor_pvalue_lag1.lat[chl_sst_cor_pvalue_lag1.p_value<=0.05],\n",
    "        'ko',transform=ccrs.PlateCarree(),markersize=1)\n",
    "CS30a=axs[1].contour(X3,Y3,ds_bat_all,levels=[-30], colors='k',linestyles='dashed',transform=ccrs.PlateCarree())\n",
    "axs[1].add_feature(cfeature.LAND, facecolor='grey')\n",
    "axs[1].coastlines()\n",
    "axs[1].set_yticks([53, 54,55,56], crs=ccrs.PlateCarree()) # -90, -60, -30\n",
    "axs[1].set_xticks([3, 6, 9], crs=ccrs.PlateCarree())\n",
    "axs[1].set_yticklabels([]) # -90, -60, -30\n",
    "axs[1].set_xticklabels([]) \n",
    "axs[1].set_ylabel(None)\n",
    "axs[1].text(2.4,56.05,'b)',weight='bold',transform=ccrs.PlateCarree())# 3, 6, 9  \n",
    "axs[1].text(7,53.06,'Chl-a|SST t-1',weight='bold',transform=ccrs.PlateCarree())# 3, 6, 9\n",
    "\n",
    "img3=axs[2].contourf(X1,Y1,pv_chl_mld_cor.values,norm=divnorm,cmap='seismic',\n",
    "                                    levels=list(np.arange(-0.4,0.5,0.1)),transform=ccrs.PlateCarree())#\n",
    "axs[2].set_yticks([53, 54,55,56], crs=ccrs.PlateCarree()) # -90, -60, -30,\n",
    "axs[2].set_xticks([3, 6, 9], crs=ccrs.PlateCarree())\n",
    "axs[2].set_xlabel(None)\n",
    "axs[2].set_ylabel(None)\n",
    "axs[2].plot(chl_mld_cor_pvalue.lon[chl_mld_cor_pvalue.p_value<=0.05],\n",
    "        chl_mld_cor_pvalue.lat[chl_mld_cor_pvalue.p_value<=0.05],\n",
    "        'ko',transform=ccrs.PlateCarree(),markersize=1)\n",
    "CS30=axs[2].contour(X3,Y3,ds_bat_all,levels=[-30], colors='k',linestyles='dashed',transform=ccrs.PlateCarree())\n",
    "CS5=axs[2].contour(X1,Y1,pv_chl_mld_cor,levels=[0.5], colors='k',linestyles='solid',transform=ccrs.PlateCarree())\n",
    "axs[2].add_feature(cfeature.LAND, facecolor='grey')\n",
    "axs[2].coastlines()\n",
    "axs[2].set_yticks([53, 54,55,56], crs=ccrs.PlateCarree()) # -90, -60, -30\n",
    "axs[2].set_xticks([3, 6, 9], crs=ccrs.PlateCarree())\n",
    "axs[2].set_yticklabels([53, 54,55,56]) # -90, -60, -30\n",
    "axs[2].set_xticklabels([])# 3, 6, 9    \n",
    "axs[2].text(2.4,56.05,'c)',weight='bold',transform=ccrs.PlateCarree())# 3, 6, 9  \n",
    "axs[2].text(7.5,53.06,'Chl-a|MLD',weight='bold',transform=ccrs.PlateCarree())# 3, 6, 9\n",
    "\n",
    "img4=axs[3].contourf(X1,Y1,pv_chl_mld_cor_lag1.values,norm=divnorm,cmap='seismic',\n",
    "                                    levels=list(np.arange(-0.4,0.5,0.1)),transform=ccrs.PlateCarree())#\n",
    "axs[3].set_yticks([53, 54,55,56], crs=ccrs.PlateCarree()) # -90, -60, -30,\n",
    "axs[3].set_xticks([3, 6, 9], crs=ccrs.PlateCarree())\n",
    "axs[3].set_xlabel('Longitude (°)',x=0)\n",
    "axs[3].plot(chl_mld_cor_pvalue_lag1.lon[chl_mld_cor_pvalue_lag1.p_value<=0.05],\n",
    "        chl_mld_cor_pvalue_lag1.lat[chl_mld_cor_pvalue_lag1.p_value<=0.05],\n",
    "        'ko',transform=ccrs.PlateCarree(),markersize=1)\n",
    "CS30a=axs[3].contour(X3,Y3,ds_bat_all,levels=[-30], colors='k',linestyles='dashed',transform=ccrs.PlateCarree())\n",
    "axs[3].add_feature(cfeature.LAND, facecolor='grey')\n",
    "axs[3].coastlines()\n",
    "axs[3].set_yticks([53, 54,55,56], crs=ccrs.PlateCarree()) # -90, -60, -30\n",
    "axs[3].set_xticks([3, 6, 9], crs=ccrs.PlateCarree())\n",
    "axs[3].set_yticklabels([53, 54,55,56]) # -90, -60, -30\n",
    "axs[3].set_xticklabels([3, 6, 9]) \n",
    "axs[3].set_ylabel(None)\n",
    "axs[3].text(2.4,56.05,'d)',weight='bold',transform=ccrs.PlateCarree())# 3, 6, 9  \n",
    "axs[3].text(7.,53.06,'Chl-a|MLD t-1',weight='bold',transform=ccrs.PlateCarree())# 3, 6, 9\n",
    "\n",
    "cbar=plt.colorbar(img4,orientation='vertical',shrink=0.96,pad=0.01,ticks=list(np.arange(-0.4,0.5,0.1)),ax=axs.ravel().tolist(),label='Correlation')"
   ]
  },
  {
   "cell_type": "code",
   "execution_count": null,
   "id": "177617eb-ff54-4c2a-829a-7b348fa4fd06",
   "metadata": {},
   "outputs": [],
   "source": []
  },
  {
   "cell_type": "markdown",
   "id": "099920c0-90dd-4b37-b5b2-67a32e2718c9",
   "metadata": {},
   "source": [
    "# EOF CHL ANOMALIES AND CLIMATOLOGY"
   ]
  },
  {
   "cell_type": "code",
   "execution_count": 126,
   "id": "00042055-2581-4439-ae6f-f63fa914d456",
   "metadata": {},
   "outputs": [],
   "source": [
    "# HIGHER RESOLUTION #####\n",
    "# Monthly climatology and anomaly\n",
    "chl_clim = ds_month.groupby('time.month').mean(dim='time')\n",
    "chl_anomalies = ds_month.groupby('time.month') - chl_clim\n"
   ]
  },
  {
   "cell_type": "code",
   "execution_count": 127,
   "id": "91a84516-d357-4e8f-8a51-fc213fcadb4e",
   "metadata": {},
   "outputs": [],
   "source": [
    "chl_clim = chl_clim.rename({'month': 'time'})"
   ]
  },
  {
   "cell_type": "code",
   "execution_count": 103,
   "id": "8c16c868-a34d-4070-af3b-0314c35eb7a6",
   "metadata": {},
   "outputs": [],
   "source": [
    "mca = xMCA(chl_anomalies) # Chl-a anomalies high resolution\n",
    "mca.normalize()\n",
    "mca.apply_coslat()\n",
    "mca.solve()"
   ]
  },
  {
   "cell_type": "code",
   "execution_count": 104,
   "id": "e5fcbc84-7003-4d12-887b-ea9d07225083",
   "metadata": {
    "tags": []
   },
   "outputs": [],
   "source": [
    "svals = mca.singular_values()"
   ]
  },
  {
   "cell_type": "code",
   "execution_count": null,
   "id": "b8c6b54d-3bed-46be-887a-28637d8bc8c5",
   "metadata": {
    "tags": []
   },
   "outputs": [],
   "source": [
    "plt.figure()\n",
    "plt.plot(svals)"
   ]
  },
  {
   "cell_type": "code",
   "execution_count": 105,
   "id": "86743291-cb9c-4f5b-8a3d-f2c3c77d952f",
   "metadata": {
    "tags": []
   },
   "outputs": [],
   "source": [
    "variance_x = mca.variance() "
   ]
  },
  {
   "cell_type": "code",
   "execution_count": null,
   "id": "81d2a2b5-f35e-4548-b666-32b9406f32b4",
   "metadata": {},
   "outputs": [],
   "source": [
    "plt.figure()\n",
    "plt.plot(variance_x)\n",
    "plt.plot(svals)"
   ]
  },
  {
   "cell_type": "code",
   "execution_count": 106,
   "id": "9ea3af44-e094-4929-83fd-69a2610e5e3b",
   "metadata": {},
   "outputs": [],
   "source": [
    "expvar = mca.explained_variance()"
   ]
  },
  {
   "cell_type": "code",
   "execution_count": null,
   "id": "cde8d957-9933-477e-a74e-5012999037ba",
   "metadata": {},
   "outputs": [],
   "source": [
    "plt.figure(constrained_layout=True)\n",
    "plt.plot(expvar.mode[0:10],expvar[0:10],'k')\n",
    "plt.plot(expvar.mode[0:10],expvar[0:10],'ro')\n",
    "plt.xlabel('Mode')\n",
    "plt.xticks([1,2,3,4,5,6,7,8,9,10])\n",
    "plt.grid(ls='--')"
   ]
  },
  {
   "cell_type": "code",
   "execution_count": null,
   "id": "6c0170c4-ea20-4cd9-9755-f39a65ec30ce",
   "metadata": {},
   "outputs": [],
   "source": [
    "plt.figure()\n",
    "plt.plot(expvar,'-ok')\n",
    "#plt.plot(variance_fractions.mode+1,variance_fractions*100,'or')\n",
    "plt.ylabel('Explained variance (%)')\n",
    "plt.grid(ls='--')"
   ]
  },
  {
   "cell_type": "code",
   "execution_count": 107,
   "id": "db3e7c3f-d35a-4692-ad9a-00a0da9c6c95",
   "metadata": {
    "tags": []
   },
   "outputs": [],
   "source": [
    "svals_err_north = mca.rule_north().to_dataframe()\n",
    "svals_diff = svals.to_dataframe().diff(-1)\n",
    "cutoff = np.argmax((svals_diff - (2 * svals_err_north)) < 0)  # 10"
   ]
  },
  {
   "cell_type": "code",
   "execution_count": null,
   "id": "e0b3c38b-8c23-4c34-a066-2f8c3a8f1def",
   "metadata": {
    "tags": []
   },
   "outputs": [],
   "source": [
    "cutoff"
   ]
  },
  {
   "cell_type": "code",
   "execution_count": null,
   "id": "5cc08cb0-07f9-44aa-b74a-2ddfe29b58ee",
   "metadata": {
    "tags": []
   },
   "outputs": [],
   "source": [
    "del(eofs)\n",
    "del(pcs)"
   ]
  },
  {
   "cell_type": "code",
   "execution_count": 108,
   "id": "426ee998-ca41-4475-a424-35e90d38258f",
   "metadata": {
    "tags": []
   },
   "outputs": [],
   "source": [
    "eofs  = mca.eofs(scaling='max')\n",
    "pcs   = mca.pcs(scaling='max')\n"
   ]
  },
  {
   "cell_type": "code",
   "execution_count": 109,
   "id": "623b6761-4356-44d2-99ea-75297e71b5af",
   "metadata": {
    "tags": []
   },
   "outputs": [],
   "source": [
    "eofs=eofs['left']\n",
    "pcs=pcs['left']\n"
   ]
  },
  {
   "cell_type": "code",
   "execution_count": 112,
   "id": "5be786cd-d57e-4ef4-9573-2b5bec286f19",
   "metadata": {},
   "outputs": [
    {
     "name": "stderr",
     "output_type": "stream",
     "text": [
      "/tmp/ipykernel_1142/783541238.py:12: UserWarning: This figure was using constrained_layout, but that is incompatible with subplots_adjust and/or tight_layout; disabling constrained_layout.\n",
      "  fig.subplots_adjust(bottom=0.1, top=0.98, left=0.1, right=0.9,\n",
      "/home/famorim/py_felipe/phd_py/lib/python3.8/site-packages/cartopy/mpl/geoaxes.py:1614: UserWarning: The following kwargs were not used by contour: 'linewidth'\n",
      "  result = super().contour(*args, **kwargs)\n",
      "/home/famorim/py_felipe/phd_py/lib/python3.8/site-packages/cartopy/mpl/geoaxes.py:1614: UserWarning: The following kwargs were not used by contour: 'linestyle', 'linewidth'\n",
      "  result = super().contour(*args, **kwargs)\n",
      "/home/famorim/py_felipe/phd_py/lib/python3.8/site-packages/cartopy/mpl/geoaxes.py:1614: UserWarning: The following kwargs were not used by contour: 'linewidth'\n",
      "  result = super().contour(*args, **kwargs)\n",
      "/home/famorim/py_felipe/phd_py/lib/python3.8/site-packages/cartopy/mpl/geoaxes.py:1614: UserWarning: The following kwargs were not used by contour: 'linestyle', 'linewidth'\n",
      "  result = super().contour(*args, **kwargs)\n",
      "/home/famorim/py_felipe/phd_py/lib/python3.8/site-packages/cartopy/mpl/geoaxes.py:1614: UserWarning: The following kwargs were not used by contour: 'linewidth'\n",
      "  result = super().contour(*args, **kwargs)\n",
      "/home/famorim/py_felipe/phd_py/lib/python3.8/site-packages/cartopy/mpl/geoaxes.py:1614: UserWarning: The following kwargs were not used by contour: 'linestyle', 'linewidth'\n",
      "  result = super().contour(*args, **kwargs)\n",
      "/home/famorim/py_felipe/phd_py/lib/python3.8/site-packages/cartopy/mpl/geoaxes.py:1614: UserWarning: The following kwargs were not used by contour: 'linewidth'\n",
      "  result = super().contour(*args, **kwargs)\n",
      "/home/famorim/py_felipe/phd_py/lib/python3.8/site-packages/cartopy/mpl/geoaxes.py:1614: UserWarning: The following kwargs were not used by contour: 'linestyle', 'linewidth'\n",
      "  result = super().contour(*args, **kwargs)\n"
     ]
    },
    {
     "data": {
      "text/plain": [
       "<matplotlib.legend.Legend at 0x7f512e963eb0>"
      ]
     },
     "execution_count": 112,
     "metadata": {},
     "output_type": "execute_result"
    }
   ],
   "source": [
    "# EOF CHL ANOMALIES MANUSCRIPT\n",
    "\n",
    "levels=[-30]\n",
    "# Define the figure and each axis for the 3 rows and 4 columns\n",
    "fig, axs = plt.subplots(nrows=2,ncols=2,\n",
    "                        subplot_kw={'projection': ccrs.Mercator(central_longitude=7.1)},\n",
    "                        figsize=(10,6.7),constrained_layout=True,sharey=True,sharex=True)\n",
    "\n",
    "# axs is a 2 dimensional array of `GeoAxes`.  We will flatten it into a 1-D array\n",
    "axs=axs.flatten()\n",
    "\n",
    "fig.subplots_adjust(bottom=0.1, top=0.98, left=0.1, right=0.9,\n",
    "                   wspace=0.01, hspace=0.00)\n",
    "nn=0\n",
    "\n",
    "for i in range(0,4):\n",
    "\n",
    "\n",
    "    img=eofs.sel(mode=i+1).squeeze().plot.pcolormesh(\n",
    "            ax=axs[i], cmap='coolwarm',add_colorbar=False, extend='both',vmin=-1, vmax=1,\n",
    "            add_labels=False,transform=ccrs.PlateCarree())\n",
    "    CS=axs[i].contour(xx,yy,eofs.sel(mode=i+1),levels=[0], colors='k',linewidth=1.5,transform=ccrs.PlateCarree())\n",
    "    CS1=axs[i].contour(xx,yy,ds_bat,levels=[-30], colors='k',linestyle='dashed',linewidth=0.5,transform=ccrs.PlateCarree())    \n",
    "    axs[i].set_ylabel(None)\n",
    "    axs[i].set_xlabel(None)\n",
    "    axs[i].add_feature(cfeature.LAND, facecolor='grey')\n",
    "    axs[i].coastlines()\n",
    "    frac = str(np.array(expvar[i]).round(2))\n",
    "    axs[i].set_title('EOF'+str(i+1)+' ('+frac+'%)',fontsize=14)\n",
    "cbar=plt.colorbar(img,orientation='vertical',pad=0.01,shrink=0.935,aspect=20,ticks=list(np.arange(-1,1.2,0.2)),ax=axs.ravel().tolist())\n",
    "\n",
    "axs[0].set_yticks([53, 54,55,56], crs=ccrs.PlateCarree()) # -90, -60, -30\n",
    "axs[0].set_yticklabels([53, 54,55,56]) # -90, -60, -30\n",
    "axs[0].set_ylabel('Latitude (°)',y=0)\n",
    "axs[2].set_yticks([53, 54,55,56], crs=ccrs.PlateCarree()) # -90, -60, -30\n",
    "axs[2].set_yticklabels([53, 54,55,56]) # -90, -60, -30\n",
    "axs[2].set_xticks([3, 6, 9], crs=ccrs.PlateCarree()) \n",
    "axs[2].set_xticklabels([3, 6, 9]) \n",
    "axs[3].set_xticks([3, 6, 9], crs=ccrs.PlateCarree()) \n",
    "axs[3].set_xticklabels([3, 6, 9])\n",
    "axs[2].set_xlabel('Longitude (°)',x=1)\n",
    "h1,_ = CS.legend_elements()\n",
    "axs[3].legend([h1[0]],['0'],loc='lower right',bbox_to_anchor=(1.03,-0.02))"
   ]
  },
  {
   "cell_type": "code",
   "execution_count": 117,
   "id": "84abd604-c26b-49eb-82a9-54a506dac30b",
   "metadata": {},
   "outputs": [],
   "source": [
    "months=['J','F','M','A','M','J','J','A','S','O','N','D']\n",
    "levels=[-30]"
   ]
  },
  {
   "cell_type": "code",
   "execution_count": 113,
   "id": "c8d8390e-a1a4-4039-89ba-2a5f8d4e81e8",
   "metadata": {},
   "outputs": [],
   "source": [
    "yearlist = np.unique(pcs.time.dt.year)"
   ]
  },
  {
   "cell_type": "code",
   "execution_count": 114,
   "id": "ac7b609f-5e93-4e14-b7a5-05fba1516b9f",
   "metadata": {},
   "outputs": [],
   "source": [
    "from matplotlib.dates import date2num\n",
    "from datetime import datetime"
   ]
  },
  {
   "cell_type": "code",
   "execution_count": 115,
   "id": "114f6cc5-34b7-43e6-b88e-0edf14915c51",
   "metadata": {},
   "outputs": [],
   "source": [
    "letters=['a)','e)','i)','b)','f)','j)','c)','g)','k)','d)','h)','l)']"
   ]
  },
  {
   "cell_type": "code",
   "execution_count": 119,
   "id": "953ba126-2244-4b7c-8e6d-e5a22082d7a1",
   "metadata": {},
   "outputs": [],
   "source": [
    "# PLOT PCs CHL ANOMALIES\n",
    "\n",
    "fig,axs = plt.subplots(4, 3, figsize=(14,9),constrained_layout=True,sharex='col',gridspec_kw={'width_ratios': [2, 1, 1]})\n",
    "axs=axs.flatten()\n",
    "mm=1\n",
    "for i in range(0,12,3):\n",
    "#    pp1,=axs[0].plot(pcs.time,pcs.sel(mode=1))\n",
    "#    axs[0].set_ylim([-1,1])\n",
    "#    axs[1].plot(pcs.sel(mode=1).groupby('time.month').mean(dim='time').month,pcs.sel(mode=1).groupby('time.month').mean(dim='time'))\n",
    "#    axs[1].set_xticks(pcs.sel(mode=1).groupby('time.month').mean(dim='time').month.values,\n",
    "#                      months);\n",
    "    pp1,=axs[i].plot(pcs.time,pcs.sel(mode=mm),'k',lw=1)\n",
    "    pp2,=axs[i].plot(pcs.time,pcs.sel(mode=mm).rolling(time=6,center=True).mean(),'r',lw=1)\n",
    "    axs[i].set_xlim(datetime(1998,1,1),datetime(2020,12,31))\n",
    "    axs[i].grid(ls='--')\n",
    "    frac = str(np.array(expvar.sel(mode=mm)).round(2))\n",
    "    axs[i].set_ylabel('PC'+str(mm)+' ('+frac+'%)')            \n",
    "    # yearlist = np.unique(pcs.time.dt.year)\n",
    "    # for ii in range(len(yearlist)):\n",
    "        \n",
    "    #     axs[i].axvspan(date2num(datetime(int(yearlist[ii]),3,1)), date2num(datetime(int(yearlist[ii]),5,31))\n",
    "    #                    ,color='green', alpha=0.25)\n",
    "    #     axs[i].axvspan(date2num(datetime(int(yearlist[ii]),8,1)), date2num(datetime(int(yearlist[ii]),10,31))\n",
    "    #                    ,color='brown', alpha=0.25)\n",
    "    \n",
    "#    axs[i].set_ylim([-0.5,0.5])\n",
    "    # axs[i].set_ylim([-1,1])    \n",
    "    pp3,=axs[i+1].plot(pcs.sel(mode=mm).groupby('time.month').mean(dim='time').month,pcs.sel(mode=mm).groupby('time.month').mean(dim='time'),'k')\n",
    "    axs[i+1].set_xticks(pcs.sel(mode=mm).groupby('time.month').mean(dim='time').month.values,\n",
    "                      months);\n",
    "    axs[i+1].grid(ls='--')        \n",
    "    axs[i+1].axvspan(3, 5,color='green', alpha=0.25)\n",
    "    axs[i+1].axvspan(8, 10,color='brown', alpha=0.25)\n",
    "    h,f,c=specs(pcs.sel(mode=mm),len(pcs.sel(mode=mm)),1,1,1,5,95)  \n",
    "    axs[i+2].loglog(1/f,h,'k',label='PC'+str(mm))\n",
    "    sa1=axs[i+2].axvline(x=12,color='r')\n",
    "    sa2=axs[i+2].axvline(x=18,color='b',ls='-.')\n",
    "    sa3=axs[i+2].axvline(x=6,color='r',ls='--')    \n",
    "    axs[i+2].grid(ls='--')\n",
    "        \n",
    "    mm=mm+1\n",
    "axs[2].legend([sa3,sa1,sa2],['6','12','18'],ncol=2,bbox_to_anchor=(0.98,1.6))\n",
    "axs[11].set_xlabel('Months')\n",
    "axs[8].set_ylabel('Spectral density',y=1)\n",
    "axs[0].legend([pp1,pp2],['PC','Rolling mean 6 points'],loc='upper left',bbox_to_anchor=(0,1.6))\n",
    "axs[1].legend([pp3],['PC mean'],loc='upper left',bbox_to_anchor=(0.25,1.4))\n",
    "\n",
    "for ii in range(0,12):\n",
    "    axs[ii].text(0.01,0.87,letters[ii],weight='bold',transform=axs[ii].transAxes)"
   ]
  },
  {
   "cell_type": "code",
   "execution_count": 137,
   "id": "6f27fd47-f079-4263-a47b-493e02706516",
   "metadata": {},
   "outputs": [],
   "source": [
    "del(mca)"
   ]
  },
  {
   "cell_type": "code",
   "execution_count": 138,
   "id": "255e8361-9ea4-48fc-b995-1eaf9022cf6c",
   "metadata": {
    "tags": []
   },
   "outputs": [],
   "source": [
    "mca = xMCA(chl_clim) # Chl-a climatology\n",
    "mca.normalize()\n",
    "mca.apply_coslat()\n",
    "mca.solve()"
   ]
  },
  {
   "cell_type": "code",
   "execution_count": 139,
   "id": "ddabddba-2346-4f6c-a7de-2369ce2aa545",
   "metadata": {
    "tags": []
   },
   "outputs": [],
   "source": [
    "svals = mca.singular_values()"
   ]
  },
  {
   "cell_type": "code",
   "execution_count": 140,
   "id": "53b4b659-309a-49c7-8549-566bda250f68",
   "metadata": {
    "tags": []
   },
   "outputs": [],
   "source": [
    "variance_x = mca.variance() "
   ]
  },
  {
   "cell_type": "code",
   "execution_count": 141,
   "id": "ced030ae-d907-498d-92bd-2d7d7e6ba44f",
   "metadata": {},
   "outputs": [],
   "source": [
    "expvar = mca.explained_variance()"
   ]
  },
  {
   "cell_type": "code",
   "execution_count": 142,
   "id": "8d30ccd1-7b87-4b25-a564-ba8f0139fa9f",
   "metadata": {},
   "outputs": [],
   "source": [
    "del(eofs)\n",
    "del(pcs)"
   ]
  },
  {
   "cell_type": "code",
   "execution_count": 143,
   "id": "4e503843-44bc-47f3-910f-39f56ccb2ee9",
   "metadata": {},
   "outputs": [],
   "source": [
    "eofs  = mca.eofs(scaling='max')\n",
    "pcs   = mca.pcs(scaling='max')"
   ]
  },
  {
   "cell_type": "code",
   "execution_count": 144,
   "id": "e743dd46-d296-4544-b54f-bf2ecf1a50bd",
   "metadata": {},
   "outputs": [],
   "source": [
    "eofs=eofs['left']\n",
    "pcs=pcs['left']"
   ]
  },
  {
   "cell_type": "code",
   "execution_count": 145,
   "id": "0744437b-4027-4789-be1d-466a0bba329c",
   "metadata": {},
   "outputs": [
    {
     "name": "stderr",
     "output_type": "stream",
     "text": [
      "/tmp/ipykernel_1142/93394656.py:12: UserWarning: This figure was using constrained_layout, but that is incompatible with subplots_adjust and/or tight_layout; disabling constrained_layout.\n",
      "  fig.subplots_adjust(bottom=0.1, top=0.98, left=0.1, right=0.9,\n",
      "/home/famorim/py_felipe/phd_py/lib/python3.8/site-packages/cartopy/mpl/geoaxes.py:1614: UserWarning: The following kwargs were not used by contour: 'linewidth'\n",
      "  result = super().contour(*args, **kwargs)\n",
      "/home/famorim/py_felipe/phd_py/lib/python3.8/site-packages/cartopy/mpl/geoaxes.py:1614: UserWarning: The following kwargs were not used by contour: 'linestyle', 'linewidth'\n",
      "  result = super().contour(*args, **kwargs)\n",
      "/home/famorim/py_felipe/phd_py/lib/python3.8/site-packages/cartopy/mpl/geoaxes.py:1614: UserWarning: The following kwargs were not used by contour: 'linewidth'\n",
      "  result = super().contour(*args, **kwargs)\n",
      "/home/famorim/py_felipe/phd_py/lib/python3.8/site-packages/cartopy/mpl/geoaxes.py:1614: UserWarning: The following kwargs were not used by contour: 'linestyle', 'linewidth'\n",
      "  result = super().contour(*args, **kwargs)\n"
     ]
    },
    {
     "data": {
      "text/plain": [
       "<matplotlib.legend.Legend at 0x7f512d162370>"
      ]
     },
     "execution_count": 145,
     "metadata": {},
     "output_type": "execute_result"
    }
   ],
   "source": [
    "# EOF climatology\n",
    "\n",
    "levels=[-30]\n",
    "# Define the figure and each axis for the 3 rows and 4 columns\n",
    "fig, axs = plt.subplots(nrows=1,ncols=2,\n",
    "                        subplot_kw={'projection': ccrs.Mercator(central_longitude=7.1)},\n",
    "                        figsize=(10,7),constrained_layout=True,sharey=True,sharex=True)\n",
    "\n",
    "# axs is a 2 dimensional array of `GeoAxes`.  We will flatten it into a 1-D array\n",
    "axs=axs.flatten()\n",
    "\n",
    "fig.subplots_adjust(bottom=0.1, top=0.98, left=0.1, right=0.9,\n",
    "                   wspace=0.01, hspace=0.00)\n",
    "nn=0\n",
    "\n",
    "for i in range(0,2):\n",
    "\n",
    "    if i==0:\n",
    "        \n",
    "        img=(eofs.sel(mode=i+1)*-1).squeeze().plot.pcolormesh(\n",
    "                ax=axs[i], vmin=-1, vmax=1, cmap='coolwarm',add_colorbar=False, extend='both',\n",
    "                add_labels=False,transform=ccrs.PlateCarree())\n",
    "        CS=axs[i].contour(xx,yy,eofs.sel(mode=i+1)*-1,levels=[0], colors='k',linewidth=1.5,transform=ccrs.PlateCarree())\n",
    "        CS1=axs[i].contour(xx,yy,ds_bat,levels=[-30], colors='k',linestyle='dashed',linewidth=0.5,transform=ccrs.PlateCarree())    \n",
    "        axs[i].set_ylabel(None)\n",
    "        axs[i].set_xlabel(None)\n",
    "        axs[i].add_feature(cfeature.LAND, facecolor='grey')\n",
    "        axs[i].coastlines()\n",
    "        frac = str(np.array(expvar[i]).round(2))\n",
    "        axs[i].set_title('EOF'+str(i+1)+' ('+frac+'%)',fontsize=14)\n",
    "\n",
    "    else:\n",
    "        img=eofs.sel(mode=i+1).squeeze().plot.pcolormesh(\n",
    "                ax=axs[i], vmin=-1, vmax=1, cmap='coolwarm',add_colorbar=False, extend='both',\n",
    "                add_labels=False,transform=ccrs.PlateCarree())\n",
    "        CS=axs[i].contour(xx,yy,eofs.sel(mode=i+1),levels=[0], colors='k',linewidth=1.5,transform=ccrs.PlateCarree())\n",
    "        CS1=axs[i].contour(xx,yy,ds_bat,levels=[-30], colors='k',linestyle='dashed',linewidth=0.5,transform=ccrs.PlateCarree())    \n",
    "        # h1,_ = CS1.legend_elements()\n",
    "        # axs[i].legend([h1],['0'])\n",
    "        axs[i].set_ylabel(None)\n",
    "        axs[i].set_xlabel(None)\n",
    "        axs[i].add_feature(cfeature.LAND, facecolor='grey')\n",
    "        axs[i].coastlines()\n",
    "        frac = str(np.array(expvar[i]).round(2))\n",
    "        axs[i].set_title('EOF'+str(i+1)+' ('+frac+'%)',fontsize=14)\n",
    "        \n",
    "# cbar=plt.colorbar(img,orientation='vertical',pad=0.01,shrink=0.45,aspect=40,ticks=list(np.arange(-1,1.2,0.25)),ax=axs.ravel().tolist())\n",
    "cbar=plt.colorbar(img,orientation='vertical',pad=0.01,shrink=0.41,aspect=10,ticks=list(np.arange(-1,1.2,0.25)),ax=axs.ravel().tolist())\n",
    "\n",
    "axs[0].set_yticks([53, 54,55,56], crs=ccrs.PlateCarree()) # -90, -60, -30\n",
    "axs[0].set_yticklabels([53, 54,55,56]) # -90, -60, -30\n",
    "axs[0].set_ylabel('Latitude (°)')\n",
    "axs[0].set_xticks([3, 6, 9], crs=ccrs.PlateCarree()) \n",
    "axs[0].set_xticklabels([3, 6, 9]) \n",
    "axs[1].set_xticks([3, 6, 9], crs=ccrs.PlateCarree()) \n",
    "axs[1].set_xticklabels([3, 6, 9]) \n",
    "axs[1].set_xlabel('Longitude (°)',x=0)\n",
    "h1,_ = CS.legend_elements()\n",
    "axs[0].legend([h1[0]],['0'],loc='lower right',bbox_to_anchor=(1.03,-0.04))\n"
   ]
  },
  {
   "cell_type": "code",
   "execution_count": 134,
   "id": "8c84253c-cbb5-437a-a016-b5a72777013a",
   "metadata": {},
   "outputs": [],
   "source": [
    "# PC CLIMATOLOGY\n",
    "\n",
    "fig,axs = plt.subplots(2, 1, figsize=(10,4.5),constrained_layout=True,sharex='col')\n",
    "axs=axs.flatten()\n",
    "mm=1\n",
    "for i in range(0,2):\n",
    "\n",
    "    if i==0:\n",
    "    \n",
    "        pp1,=axs[i].plot(pcs.time,pcs.sel(mode=mm)*-1,'k',lw=1)\n",
    "        axs[i].grid(ls='--')\n",
    "        frac = str(np.array(expvar.sel(mode=mm)).round(2))\n",
    "        axs[i].set_ylabel('PC'+str(mm)+' ('+frac+'%)')            \n",
    "\n",
    "        axs[i].axvspan(3, 5,color='green', alpha=0.25)\n",
    "        axs[i].axvspan(8, 10,color='brown', alpha=0.25)\n",
    "        axs[i].set_xticks(pcs.sel(mode=mm).time.values,\n",
    "                          months);\n",
    "        axs[i].set_xlim([1,12])\n",
    "        axs[i].set_ylim([-1,1])\n",
    "        twin1=axs[i].twinx()\n",
    "        # pp,=twin1.plot(pcs.month.values,chl_clim_ocean,'k--',lw=0.5,label='mean')\n",
    "        pp,=twin1.plot(chl_clim.time.values,chl_clim.mean(dim=('lat','lon')),'k--',lw=0.5,label='mean')        \n",
    "        twin1.set_ylabel('Chl-a (mg m$^{-3}$)',y=0)\n",
    "        twin1.grid(ls='dotted')\n",
    "        axs[i].legend([pp1,pp],['PC','Chl-a mean (mg m$^{-3}$)'],ncol=2,loc='upper right',bbox_to_anchor=(1.,1.05))\n",
    "        mm=mm+1\n",
    "\n",
    "    else:\n",
    "\n",
    "        pp1,=axs[i].plot(pcs.time,pcs.sel(mode=mm),'k',lw=1)\n",
    "        axs[i].grid(ls='--')\n",
    "        frac = str(np.array(expvar.sel(mode=mm)).round(2))\n",
    "        axs[i].set_ylabel('PC'+str(mm)+' ('+frac+'%)')            \n",
    "\n",
    "        axs[i].axvspan(3, 5,color='green', alpha=0.25)\n",
    "        axs[i].axvspan(8, 10,color='brown', alpha=0.25)\n",
    "        axs[i].set_xticks(pcs.sel(mode=mm).time.values,\n",
    "                          months);\n",
    "        axs[i].set_xlim([1,12])\n",
    "        axs[i].set_ylim([-1,1])\n",
    "        twin1=axs[i].twinx()\n",
    "        # pp,=twin1.plot(chl_clim_ocean.month.values,chl_clim_ocean,'k--',lw=0.5,label='mean')\n",
    "        pp,=twin1.plot(chl_clim.time.values,chl_clim.mean(dim=('lat','lon')),'k--',lw=0.5,label='mean') \n",
    "        twin1.grid(ls='dotted')\n",
    "        mm=mm+1    \n"
   ]
  },
  {
   "cell_type": "code",
   "execution_count": null,
   "id": "7972c83b-2f65-495f-8ed4-fe082f88b4d2",
   "metadata": {},
   "outputs": [],
   "source": []
  },
  {
   "cell_type": "code",
   "execution_count": null,
   "id": "cd7ad03c-5263-44dd-ae17-2bd614f81e9b",
   "metadata": {},
   "outputs": [],
   "source": []
  },
  {
   "cell_type": "markdown",
   "id": "4a3e44b7-07b8-40d9-aa42-5918959b9816",
   "metadata": {},
   "source": [
    "# MCA"
   ]
  },
  {
   "cell_type": "code",
   "execution_count": 157,
   "id": "42374f2a-7d2c-4938-b8f9-c64cfe732440",
   "metadata": {},
   "outputs": [],
   "source": [
    "# Monthly climatology and anomaly\\n\",\n",
    "chl_clim = ds_chl.groupby('time.month').mean(dim='time')\n",
    "#chl_mean = ds_month.mean(dim='time')\n",
    "#chl_std = ds_month.std(dim='time')\n",
    "chl_anomalies = ds_chl.groupby('time.month') - chl_clim\n",
    "#chl_anom_mean = chl_anomalies.mean(dim='time')\n",
    "#chl_anom_std = chl_anomalies.std(dim='time')\n"
   ]
  },
  {
   "cell_type": "code",
   "execution_count": 158,
   "id": "d8a39c44-5f19-40f9-830d-e11af8c8a462",
   "metadata": {
    "tags": []
   },
   "outputs": [],
   "source": [
    "sst_clim = ds_sst.groupby('time.month').mean(dim='time')\n",
    "#sst_mean = ds_sst.mean(dim='time')\n",
    "#sst_std = ds_sst.std(dim='time')\n",
    "sst_anomalies = ds_sst.groupby('time.month') - sst_clim\n",
    "sst_anom_mean = sst_anomalies.mean(dim='time')\n",
    "#sst_anom_std = sst_anomalies.std(dim='time')\n"
   ]
  },
  {
   "cell_type": "code",
   "execution_count": 159,
   "id": "5b69e37e-1dce-48a8-aea8-39aa082b6f32",
   "metadata": {},
   "outputs": [],
   "source": [
    "mld_clim = ds_mld.groupby('time.month').mean(dim='time')\n",
    "#mld_mean = ds_mld.mean(dim='time')\n",
    "#mld_std = ds_mld.std(dim='time')\n",
    "mld_anomalies = ds_mld.groupby('time.month') - mld_clim\n",
    "#mld_anom_mean = mld_anomalies.mean(dim='time')\n",
    "#mld_anom_std = mld_anomalies.std(dim='time')"
   ]
  },
  {
   "cell_type": "code",
   "execution_count": 160,
   "id": "ba22e07d-8abe-4f62-b966-4b774ee43f7c",
   "metadata": {},
   "outputs": [],
   "source": [
    "del(mca)"
   ]
  },
  {
   "cell_type": "code",
   "execution_count": 161,
   "id": "3a2ea587-70e8-4829-acb4-dd120840c391",
   "metadata": {},
   "outputs": [],
   "source": [
    "mca = xMCA(chl_anomalies,sst_anomalies)\n",
    "mca.normalize()\n",
    "mca.apply_coslat()\n",
    "mca.solve()"
   ]
  },
  {
   "cell_type": "code",
   "execution_count": 162,
   "id": "6dcb3eef-aecd-4a3a-b585-11e808c9b430",
   "metadata": {
    "tags": []
   },
   "outputs": [],
   "source": [
    "svals = mca.singular_values()"
   ]
  },
  {
   "cell_type": "code",
   "execution_count": 163,
   "id": "04fbda04-b8f4-4625-bb77-97b162eff1ff",
   "metadata": {
    "tags": []
   },
   "outputs": [],
   "source": [
    "variance_x = mca.variance() "
   ]
  },
  {
   "cell_type": "code",
   "execution_count": 164,
   "id": "1c5ad02f-845b-4462-b103-4b0aebb1337a",
   "metadata": {
    "tags": []
   },
   "outputs": [],
   "source": [
    "expvar = mca.explained_variance()"
   ]
  },
  {
   "cell_type": "code",
   "execution_count": 165,
   "id": "0b0e34bf-6dbf-4dd4-b897-6569483730b2",
   "metadata": {},
   "outputs": [],
   "source": [
    "svals_err_north = mca.rule_north().to_dataframe()\n",
    "svals_diff = svals.to_dataframe().diff(-1)\n",
    "cutoff = np.argmax((svals_diff - (2 * svals_err_north)) < 0)  # 10"
   ]
  },
  {
   "cell_type": "code",
   "execution_count": 166,
   "id": "b6ed8983-a6f0-4b32-a24e-ac9051432e10",
   "metadata": {},
   "outputs": [],
   "source": [
    "del(eofs)\n",
    "del(pcs)"
   ]
  },
  {
   "cell_type": "code",
   "execution_count": 167,
   "id": "82970b78-f23f-4642-81f9-a4e8c79648d9",
   "metadata": {},
   "outputs": [],
   "source": [
    "eofs  = mca.eofs(scaling='max')\n",
    "pcs   = mca.pcs(scaling='max')"
   ]
  },
  {
   "cell_type": "code",
   "execution_count": 168,
   "id": "81f683a4-c027-4903-8eda-c3e0de5f4192",
   "metadata": {},
   "outputs": [],
   "source": [
    "eofs_ch=eofs['left']\n",
    "pcs_ch=pcs['left']\n",
    "\n",
    "eofs_sst=eofs['right']\n",
    "pcs_sst=pcs['right']"
   ]
  },
  {
   "cell_type": "code",
   "execution_count": 169,
   "id": "a60c5dea-3457-4138-a277-1d14f75fa13f",
   "metadata": {},
   "outputs": [
    {
     "name": "stderr",
     "output_type": "stream",
     "text": [
      "/home/famorim/py_felipe/phd_py/lib/python3.8/site-packages/cartopy/mpl/geoaxes.py:1614: UserWarning: No contour levels were found within the data range.\n",
      "  result = super().contour(*args, **kwargs)\n"
     ]
    },
    {
     "data": {
      "text/plain": [
       "<matplotlib.legend.Legend at 0x7f512ad9d040>"
      ]
     },
     "execution_count": 169,
     "metadata": {},
     "output_type": "execute_result"
    }
   ],
   "source": [
    "mode=1\n",
    "index=0\n",
    "\n",
    "fig = plt.figure(figsize = (14, 8))\n",
    "\n",
    "ax0 = plt.subplot2grid((2, 2), (0, 0),colspan=1, rowspan=1, projection=ccrs.Mercator(central_longitude=7.1))\n",
    "pcm=ax0.pcolormesh(X3,Y3,-1*eofs_ch[:,:,index].squeeze(),shading='auto',vmin=-1,vmax=1 ,cmap='coolwarm',transform=ccrs.PlateCarree())\n",
    "CS=ax0.contour(X3,Y3,-1*eofs_ch.sel(mode=mode),levels=[0], colors='k',transform=ccrs.PlateCarree())\n",
    "CS1=ax0.contour(X3,Y3,ds_bat_all,levels=[-30], colors='grey',transform=ccrs.PlateCarree())   \n",
    "fig.colorbar(pcm,ax=ax0,label='',pad=0.01)\n",
    "ax0.add_feature(cfeature.LAND, facecolor='grey', edgecolor='k')\n",
    "ax0.coastlines()\n",
    "frac = str(np.array(expvar[index]).round(2))\n",
    "ax0.set_title('Chl-a EOF'+str(mode)+' ('+frac+'%)',fontsize=14)\n",
    "ax0.set_xticklabels([])\n",
    "ax0.set_yticks([53, 54,55,56], crs=ccrs.PlateCarree()) # -90, -60, -30\n",
    "ax0.set_yticklabels([53, 54,55,56]) # -90, -60, -30 \n",
    "ax0.set_xticks([3, 6,9], crs=ccrs.PlateCarree()) # -90, -60, -30\n",
    "ax0.set_xticklabels([3,6,9]) # -90, -60, -30 \n",
    "ax0.set_ylabel('Latitude (°)')\n",
    "\n",
    "ax1 = plt.subplot2grid((2, 2), (0, 1), colspan=1, rowspan=1, projection=ccrs.Mercator(central_longitude=7.1))\n",
    "pcm=ax1.pcolormesh(X3,Y3,-1*eofs_sst[:,:,index].squeeze(),shading='auto',vmin=-1,vmax=1, cmap='coolwarm',transform=ccrs.PlateCarree())\n",
    "CS=ax1.contour(X3,Y3,-1*eofs_sst.sel(mode=mode),levels=[0], colors='k',transform=ccrs.PlateCarree())\n",
    "CS1=ax1.contour(X3,Y3,ds_bat_all,levels=[-30], colors='grey',transform=ccrs.PlateCarree()) \n",
    "fig.colorbar(pcm,ax=ax1,label='',pad=0.01)\n",
    "ax1.add_feature(cfeature.LAND, facecolor='grey', edgecolor='k')\n",
    "ax1.coastlines()\n",
    "frac = str(np.array(expvar[index]).round(2))\n",
    "ax1.set_title('SST EOF'+str(mode)+' ('+frac+'%)',fontsize=14)\n",
    "ax1.set_xticklabels([])\n",
    "ax1.set_yticks([53, 54,55,56], crs=ccrs.PlateCarree()) # -90, -60, -30\n",
    "ax1.set_yticklabels([53, 54,55,56]) # -90, -60, -30 \n",
    "ax1.set_xticks([3, 6,9], crs=ccrs.PlateCarree()) # -90, -60, -30\n",
    "ax1.set_xticklabels([3,6,9]) # -90, -60, -30  \n",
    "\n",
    "ax2 = plt.subplot2grid((2, 3), (1, 0), colspan=2, rowspan=1)\n",
    "#ax2.plot(pcs_ch.time,-1*pcs_ch[:,index],'k',lw=1,label='Chl-a')\n",
    "#ax2.plot(pcs_sst.time,-1*pcs_sst[:,index],'r',lw=1,label='SST')\n",
    "ax2.plot(pcs_ch.time,-1*pcs_ch[:,index].rolling(time=6,center=True).mean(),'k',lw=1,label='Chl-a')\n",
    "ax2.plot(pcs_sst.time,-1*pcs_sst[:,index].rolling(time=6,center=True).mean(),'r',lw=1,label='SST')\n",
    "# yearlist = np.unique(pcs_sst.time.dt.year)\n",
    "# for ii in range(len(yearlist)):\n",
    "        \n",
    "#     ax2.axvspan(date2num(datetime(int(yearlist[ii]),3,1)), date2num(datetime(int(yearlist[ii]),5,31))\n",
    "#                     ,color='green', alpha=0.25)\n",
    "#     ax2.axvspan(date2num(datetime(int(yearlist[ii]),8,1)), date2num(datetime(int(yearlist[ii]),10,31))\n",
    "#                     ,color='brown', alpha=0.25)\n",
    "frac = str(np.array(expvar[index]).round(2))\n",
    "slope, intercept, r_value, p_value, std_err = sp.stats.linregress(pcs_sst[:,index],pcs_ch[:,index])\n",
    "ax2.set_ylabel('PC'+str(mode))\n",
    "if p_value<=0.05:\n",
    "    ax2.set_title('r='+str(round(r_value,2))+' p<'+str(0.05),fontsize=16)\n",
    "else:\n",
    "    ax2.set_title('r='+str(round(r_value,2))+' p>'+str(0.05),fontsize=16)\n",
    "ax2.grid(ls='--')\n",
    "ax2.set_xlim(['1998-01-31','2020-12-31'])\n",
    "ax2.legend()\n",
    "ax3 = plt.subplot2grid((2, 3), (1, 2), colspan=1, rowspan=2)\n",
    "h,f,c=specs(pcs_ch.sel(mode=mode),len(pcs_ch.sel(mode=mode)),1,1,1,5,95)  \n",
    "h1,f1,c1=specs(pcs_sst.sel(mode=mode),len(pcs_sst.sel(mode=mode)),1,1,1,5,95)  \n",
    "ax3.loglog(1/f,h,'k',label='PC'+str(mode)+' Chl-a')\n",
    "ax3.loglog(1/f1,h1,'k--',label='PC'+str(mode)+' SST')\n",
    "ax3.set_xlabel('Months')\n",
    "ax3.grid(ls='--')\n",
    "ax3.legend()"
   ]
  },
  {
   "cell_type": "code",
   "execution_count": 171,
   "id": "c3f5aa3d-fdfe-4a2b-a199-87d4fa8e43ed",
   "metadata": {},
   "outputs": [],
   "source": [
    "del(mca)"
   ]
  },
  {
   "cell_type": "code",
   "execution_count": 172,
   "id": "3ae68e9f-2221-4329-b57a-b9950e3eae75",
   "metadata": {},
   "outputs": [],
   "source": [
    "mca = xMCA(chl_anomalies,mld_anomalies)\n",
    "mca.normalize()\n",
    "mca.apply_coslat()\n",
    "mca.solve()"
   ]
  },
  {
   "cell_type": "code",
   "execution_count": 173,
   "id": "a85eff33-4fdc-44b0-852f-90d9d1cfbef5",
   "metadata": {
    "tags": []
   },
   "outputs": [],
   "source": [
    "svals = mca.singular_values()"
   ]
  },
  {
   "cell_type": "code",
   "execution_count": 174,
   "id": "098b63ec-6ad9-4145-a889-2865ff257526",
   "metadata": {
    "tags": []
   },
   "outputs": [],
   "source": [
    "variance_x = mca.variance() "
   ]
  },
  {
   "cell_type": "code",
   "execution_count": 175,
   "id": "eb50de4d-24cd-4154-aa9b-8800dae4cd41",
   "metadata": {
    "tags": []
   },
   "outputs": [],
   "source": [
    "expvar = mca.explained_variance()"
   ]
  },
  {
   "cell_type": "code",
   "execution_count": 176,
   "id": "ae6fc819-825b-4b15-9703-ebce86ce4e36",
   "metadata": {},
   "outputs": [],
   "source": [
    "svals_err_north = mca.rule_north().to_dataframe()\n",
    "svals_diff = svals.to_dataframe().diff(-1)\n",
    "cutoff = np.argmax((svals_diff - (2 * svals_err_north)) < 0)  # 10"
   ]
  },
  {
   "cell_type": "code",
   "execution_count": 177,
   "id": "4629eeb6-28a3-406d-bc8a-fdf814149a8a",
   "metadata": {},
   "outputs": [],
   "source": [
    "del(eofs)\n",
    "del(pcs)"
   ]
  },
  {
   "cell_type": "code",
   "execution_count": 178,
   "id": "351aaea9-3bbf-48be-975c-567e985d300d",
   "metadata": {},
   "outputs": [],
   "source": [
    "eofs  = mca.eofs(scaling='max')\n",
    "pcs   = mca.pcs(scaling='max')"
   ]
  },
  {
   "cell_type": "code",
   "execution_count": 179,
   "id": "8f2fe449-c72e-4a28-bff7-cb3df9a7eb50",
   "metadata": {},
   "outputs": [],
   "source": [
    "del(eofs_ch,pcs_ch)\n",
    "del(eofs_sst,pcs_sst)"
   ]
  },
  {
   "cell_type": "code",
   "execution_count": 180,
   "id": "ed6afcb9-532b-45d5-a7ff-949b9f86c067",
   "metadata": {},
   "outputs": [],
   "source": [
    "eofs_ch=eofs['left']\n",
    "pcs_ch=pcs['left']\n",
    "\n",
    "eofs_mld=eofs['right']\n",
    "pcs_mld=pcs['right']"
   ]
  },
  {
   "cell_type": "code",
   "execution_count": 182,
   "id": "1f0c27e7-c6cb-4bb6-84c1-6bef9edd826c",
   "metadata": {},
   "outputs": [
    {
     "data": {
      "text/plain": [
       "<matplotlib.legend.Legend at 0x7f5129b33c40>"
      ]
     },
     "execution_count": 182,
     "metadata": {},
     "output_type": "execute_result"
    }
   ],
   "source": [
    "mode=1\n",
    "index=0\n",
    "\n",
    "fig = plt.figure(figsize = (14, 8))\n",
    "\n",
    "ax0 = plt.subplot2grid((2, 2), (0, 0),colspan=1, rowspan=1, projection=ccrs.Mercator(central_longitude=7.1))\n",
    "pcm=ax0.pcolormesh(X3,Y3,-1*eofs_ch[:,:,index].squeeze(),shading='auto',vmin=-1,vmax=1 ,cmap='coolwarm',transform=ccrs.PlateCarree())\n",
    "CS=ax0.contour(X3,Y3,-1*eofs_ch.sel(mode=mode),levels=[0], colors='k',transform=ccrs.PlateCarree())\n",
    "CS1=ax0.contour(X3,Y3,ds_bat_all,levels=[-30], colors='grey',transform=ccrs.PlateCarree())   \n",
    "fig.colorbar(pcm,ax=ax0,label='',pad=0.01)\n",
    "ax0.add_feature(cfeature.LAND, facecolor='grey', edgecolor='k')\n",
    "ax0.coastlines()\n",
    "frac = str(np.array(expvar[index]).round(2))\n",
    "ax0.set_title('Chl-a EOF'+str(mode)+' ('+frac+'%)',fontsize=14)\n",
    "ax0.set_xticklabels([])\n",
    "ax0.set_yticks([53, 54,55,56], crs=ccrs.PlateCarree()) # -90, -60, -30\n",
    "ax0.set_yticklabels([53, 54,55,56]) # -90, -60, -30 \n",
    "ax0.set_xticks([3, 6,9], crs=ccrs.PlateCarree()) # -90, -60, -30\n",
    "ax0.set_xticklabels([3,6,9]) # -90, -60, -30 \n",
    "ax0.set_ylabel('Latitude (°)')\n",
    "\n",
    "ax1 = plt.subplot2grid((2, 2), (0, 1), colspan=1, rowspan=1, projection=ccrs.Mercator(central_longitude=7.1))\n",
    "pcm=ax1.pcolormesh(X3,Y3,-1*eofs_mld[:,:,index].squeeze(),shading='auto',vmin=-1,vmax=1, cmap='coolwarm',transform=ccrs.PlateCarree())\n",
    "CS=ax1.contour(X3,Y3,-1*eofs_mld.sel(mode=mode),levels=[0], colors='k',transform=ccrs.PlateCarree())\n",
    "CS1=ax1.contour(X3,Y3,ds_bat_all,levels=[-30], colors='grey',transform=ccrs.PlateCarree()) \n",
    "fig.colorbar(pcm,ax=ax1,label='',pad=0.01)\n",
    "ax1.add_feature(cfeature.LAND, facecolor='grey', edgecolor='k')\n",
    "ax1.coastlines()\n",
    "frac = str(np.array(expvar[index]).round(2))\n",
    "ax1.set_title('MLD EOF'+str(mode)+' ('+frac+'%)',fontsize=14)\n",
    "ax1.set_xticklabels([])\n",
    "ax1.set_yticks([53, 54,55,56], crs=ccrs.PlateCarree()) # -90, -60, -30\n",
    "ax1.set_yticklabels([53, 54,55,56]) # -90, -60, -30 \n",
    "ax1.set_xticks([3, 6,9], crs=ccrs.PlateCarree()) # -90, -60, -30\n",
    "ax1.set_xticklabels([3,6,9]) # -90, -60, -30  \n",
    "\n",
    "ax2 = plt.subplot2grid((2, 3), (1, 0), colspan=2, rowspan=1)\n",
    "#ax2.plot(pcs_ch.time,-1*pcs_ch[:,index],'k',lw=1,label='Chl-a')\n",
    "#ax2.plot(pcs_mld.time,-1*pcs_mld[:,index],'r',lw=1,label='mld')\n",
    "ax2.plot(pcs_ch.time,-1*pcs_ch[:,index].rolling(time=6,center=True).mean(),'k',lw=1,label='Chl-a')\n",
    "ax2.plot(pcs_mld.time,-1*pcs_mld[:,index].rolling(time=6,center=True).mean(),'r',lw=1,label='MLD')\n",
    "# yearlist = np.unique(pcs_mld.time.dt.year)\n",
    "# for ii in range(len(yearlist)):\n",
    "        \n",
    "#     ax2.axvspan(date2num(datetime(int(yearlist[ii]),3,1)), date2num(datetime(int(yearlist[ii]),5,31))\n",
    "#                     ,color='green', alpha=0.25)\n",
    "#     ax2.axvspan(date2num(datetime(int(yearlist[ii]),8,1)), date2num(datetime(int(yearlist[ii]),10,31))\n",
    "#                     ,color='brown', alpha=0.25)\n",
    "frac = str(np.array(expvar[index]).round(2))\n",
    "slope, intercept, r_value, p_value, std_err = sp.stats.linregress(pcs_mld[:,index],pcs_ch[:,index])\n",
    "ax2.set_ylabel('PC'+str(mode))\n",
    "if p_value<=0.05:\n",
    "    ax2.set_title('r='+str(round(r_value,2))+' p<'+str(0.05),fontsize=16)\n",
    "else:\n",
    "    ax2.set_title('r='+str(round(r_value,2))+' p>'+str(0.05),fontsize=16)\n",
    "ax2.grid(ls='--')\n",
    "ax2.set_xlim(['1998-01-31','2020-12-31'])\n",
    "ax2.legend()\n",
    "ax3 = plt.subplot2grid((2, 3), (1, 2), colspan=1, rowspan=2)\n",
    "h,f,c=specs(pcs_ch.sel(mode=mode),len(pcs_ch.sel(mode=mode)),1,1,1,5,95)  \n",
    "h1,f1,c1=specs(pcs_mld.sel(mode=mode),len(pcs_mld.sel(mode=mode)),1,1,1,5,95)  \n",
    "ax3.loglog(1/f,h,'k',label='PC'+str(mode)+' Chl-a')\n",
    "ax3.loglog(1/f1,h1,'k--',label='PC'+str(mode)+' MLD')\n",
    "ax3.set_xlabel('Months')\n",
    "ax3.grid(ls='--')\n",
    "ax3.legend()"
   ]
  }
 ],
 "metadata": {
  "kernelspec": {
   "display_name": "Python 3 (ipykernel)",
   "language": "python",
   "name": "python3"
  },
  "language_info": {
   "codemirror_mode": {
    "name": "ipython",
    "version": 3
   },
   "file_extension": ".py",
   "mimetype": "text/x-python",
   "name": "python",
   "nbconvert_exporter": "python",
   "pygments_lexer": "ipython3",
   "version": "3.8.10"
  }
 },
 "nbformat": 4,
 "nbformat_minor": 5
}
